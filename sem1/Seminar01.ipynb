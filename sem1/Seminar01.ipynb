{
  "nbformat": 4,
  "nbformat_minor": 0,
  "metadata": {
    "celltoolbar": "Slideshow",
    "colab": {
      "name": "Seminar01.ipynb",
      "provenance": [],
      "collapsed_sections": []
    },
    "kernelspec": {
      "display_name": "Python 3",
      "language": "python",
      "name": "python3"
    },
    "language_info": {
      "codemirror_mode": {
        "name": "ipython",
        "version": 3
      },
      "file_extension": ".py",
      "mimetype": "text/x-python",
      "name": "python",
      "nbconvert_exporter": "python",
      "pygments_lexer": "ipython3",
      "version": "3.6.7"
    }
  },
  "cells": [
    {
      "cell_type": "markdown",
      "metadata": {
        "id": "qhWGabTetAE-",
        "colab_type": "text"
      },
      "source": [
        "# Машинное обучение 2020, часть 2. Нейронные сети. Введение в PyTorch"
      ]
    },
    {
      "cell_type": "markdown",
      "metadata": {
        "id": "qBCIV6y7tAFB",
        "colab_type": "text"
      },
      "source": [
        "## Пара слов про Tensorflow"
      ]
    },
    {
      "cell_type": "code",
      "metadata": {
        "id": "XscP-ykBtAFC",
        "colab_type": "code",
        "colab": {}
      },
      "source": [
        "import tensorflow as tf\n",
        "\n",
        "# все вычисления в tf происходят в сессии: \"сессия.посчитай_мне(вот_это)\"\n",
        "sess = tf.InteractiveSession()"
      ],
      "execution_count": null,
      "outputs": []
    },
    {
      "cell_type": "markdown",
      "metadata": {
        "id": "LgnvoelRtAFO",
        "colab_type": "text"
      },
      "source": [
        "### Графы вычислений"
      ]
    },
    {
      "cell_type": "markdown",
      "metadata": {
        "colab_type": "text",
        "id": "QRwml44IDQ6N"
      },
      "source": [
        "Работа в TensorFlow состоит из двух частей: \n",
        "\n",
        "1. __создание графа__ вычислений (в примере выше: `N` и `result`)\n",
        "2. использование этого графа для __вычислений__, уже с конкретными числами (sess.run(...))\n",
        "\n",
        "Давайте разберёмся в каждом из них отдельно."
      ]
    },
    {
      "cell_type": "markdown",
      "metadata": {
        "colab_type": "text",
        "id": "oH67TQebDQ6O"
      },
      "source": [
        "Создание графа вычислений обычно начинается с точек входа: __[tf.placeholder](https://www.tensorflow.org/api_docs/python/tf/placeholder)__. Суть placeholder-ов: __\"место, куда мы потом подставим данные\"__."
      ]
    },
    {
      "cell_type": "code",
      "metadata": {
        "colab_type": "code",
        "id": "wYtrDTCXDQ6Q",
        "colab": {}
      },
      "source": [
        "# \"сюда можно подставлять действительное число/вектор/тензор любого размера\"\n",
        "arbitrary_input = tf.placeholder('float32')\n",
        "\n",
        "# \"целочисленный вектор (1d) любой длины\n",
        "input_vector = tf.placeholder('int32', shape=(None,))\n",
        "\n",
        "# \"только целочисленный вектор из 10 элементов\"\n",
        "fixed_size_vector = tf.placeholder('int32', shape=(10,))\n",
        "\n",
        "# Смешанные варианты. если знаете размер заранее, указывайте. \n",
        "# если рамер может изменяться - оставляйте None. \n",
        "input1 = tf.placeholder('bool', shape=(None, 100, None))\n",
        "input2 = tf.placeholder('int32', shape=(None, None, 3, 224, 224))"
      ],
      "execution_count": null,
      "outputs": []
    },
    {
      "cell_type": "markdown",
      "metadata": {
        "id": "DQsF69RFtAFZ",
        "colab_type": "text"
      },
      "source": [
        "Далее вы можете писать операции _(рецепты)_, применяя функции к placeholder-ам, константам и результатам других операций.\n",
        "\n",
        "Например, `tf.reduce_sum(tf.arange(N)\\**2)` это три последовательных операции от N."
      ]
    },
    {
      "cell_type": "markdown",
      "metadata": {
        "colab_type": "text",
        "id": "FJpqWKukDQ6W"
      },
      "source": [
        "Синтаксис операций в tensorflow очень похож на numpy\n",
        "  * Поэлементные операции: __`a + b, a / b, a ** b, ...`__\n",
        "  * np.sin -> __tf.sin__\n",
        "  * np.mean -> __tf.reduce_mean__\n",
        "  * np.arange -> __tf.range__\n",
        "  * np.zeros -> __tf.zeros__\n",
        "  * np.random.randn -> __tf.random_normal__"
      ]
    },
    {
      "cell_type": "markdown",
      "metadata": {
        "id": "6EQK8FLYtAFc",
        "colab_type": "text"
      },
      "source": [
        "После применения операции у вас получится новый тензор ([`tf.Tensor`](https://www.tensorflow.org/api_docs/python/tf/Tensor)) - узел графа вычислений, который можно использовать в новых операциях. \n",
        "Да, кстати, `tf.placeholder` это тоже тензор.\n",
        "  \n",
        "Полный список операций можно найти в [доках](https://www.tensorflow.org/api_docs/python), но пока лучше просто полагайтесь на __tab__ и __shift+tab__."
      ]
    },
    {
      "cell_type": "code",
      "metadata": {
        "colab_type": "code",
        "id": "Eybmv1I7DQ6Y",
        "colab": {},
        "outputId": "c5567356-7430-4fa4-afb5-36c678f76e42"
      },
      "source": [
        "# операция \"умножь каждый элемент на 2\"\n",
        "double_the_vector = input_vector * 2\n",
        "\n",
        "# косинус поэлементной суммы\n",
        "elementwise_cosine = tf.cos(tf.to_float(input_vector + fixed_size_vector))\n",
        "\n",
        "# ещё пример\n",
        "noise = tf.random_normal(tf.shape(arbitrary_input))\n",
        "output = arbitrary_input ** 2 - tf.reduce_mean(arbitrary_input) * noise\n"
      ],
      "execution_count": null,
      "outputs": [
        {
          "output_type": "stream",
          "text": [
            "WARNING:tensorflow:From <ipython-input-3-541a289c22e9>:5: to_float (from tensorflow.python.ops.math_ops) is deprecated and will be removed in a future version.\n",
            "Instructions for updating:\n",
            "Use `tf.cast` instead.\n"
          ],
          "name": "stdout"
        }
      ]
    },
    {
      "cell_type": "markdown",
      "metadata": {
        "colab_type": "text",
        "id": "valLTbf4DQ6c"
      },
      "source": [
        "А теперь вы можете использовать получившийся граф операций, чтобы что-нибудь посчитать.\n",
        "\n",
        "  * __```sess.run(output_or_outputs, {placeholder1: value1, placeholder2: value2})```__ - рекомендованный способ.\n",
        "  * __```output.eval({placeholder:value})```__ - для отладки, вычисляет один тензор (число, вектор, матрицу, ...) в [дефолтной сессии](https://www.tensorflow.org/api_docs/python/tf/get_default_session).\n",
        "  "
      ]
    },
    {
      "cell_type": "code",
      "metadata": {
        "colab_type": "code",
        "id": "6cFj_4YNDQ6d",
        "colab": {},
        "outputId": "211e7a87-2a4e-4a7b-a804-cdea59cd13da"
      },
      "source": [
        "import numpy as np\n",
        "\n",
        "print('output on scalar', sess.run(output, {arbitrary_input: 3.1415926}))\n",
        "print('output on vector', sess.run(output, {arbitrary_input: np.ones(5)}))"
      ],
      "execution_count": null,
      "outputs": [
        {
          "output_type": "stream",
          "text": [
            "output on scalar 3.795339\n",
            "output on vector [-0.6362288   0.75328386  0.15704769  0.3703971   0.05489248]\n"
          ],
          "name": "stdout"
        }
      ]
    },
    {
      "cell_type": "markdown",
      "metadata": {
        "id": "aJVihbzBtAFy",
        "colab_type": "text"
      },
      "source": [
        "## PyTorch"
      ]
    },
    {
      "cell_type": "markdown",
      "metadata": {
        "id": "HUxRaqqctAFz",
        "colab_type": "text"
      },
      "source": [
        "![img](https://pytorch.org/tutorials/_static/pytorch-logo-dark.svg)"
      ]
    },
    {
      "cell_type": "markdown",
      "metadata": {
        "colab_type": "text",
        "id": "vmQzb8v3Fpi2"
      },
      "source": [
        "* в отличии от Tensorflow, в PyTorch все вычисления исполняются на лету\n",
        "* собственно, и граф вычислений заранее строить не нужно\n",
        "* за бОльшим количеством отличий [сюда](https://medium.com/towards-data-science/pytorch-vs-tensorflow-spotting-the-difference-25c75777377b)"
      ]
    },
    {
      "cell_type": "code",
      "metadata": {
        "colab_type": "code",
        "id": "qfphPuT6Fpi8",
        "colab": {
          "base_uri": "https://localhost:8080/",
          "height": 34
        },
        "outputId": "cdcf492b-7053-43bd-99f7-4a41b575bf69"
      },
      "source": [
        "import numpy as np\n",
        "import torch\n",
        "print(torch.__version__)"
      ],
      "execution_count": 1,
      "outputs": [
        {
          "output_type": "stream",
          "text": [
            "1.6.0+cu101\n"
          ],
          "name": "stdout"
        }
      ]
    },
    {
      "cell_type": "markdown",
      "metadata": {
        "id": "Q3lTYZRqtAF6",
        "colab_type": "text"
      },
      "source": [
        "* изначально вообще был фреймворк torch, написанный на Lua\n",
        "* а приставка Py как раз означает, что его перевели на Python"
      ]
    },
    {
      "cell_type": "markdown",
      "metadata": {
        "id": "xX8A7icJtAF7",
        "colab_type": "text"
      },
      "source": [
        "* вообще на некотором уровне работа с PyTorch очень похожа на работу с numpy"
      ]
    },
    {
      "cell_type": "code",
      "metadata": {
        "colab_type": "code",
        "id": "4TimXhkoFpjB",
        "colab": {
          "base_uri": "https://localhost:8080/",
          "height": 521
        },
        "outputId": "5de64ebb-bae2-45cc-edfb-f17760e21a34"
      },
      "source": [
        "# numpy world\n",
        "\n",
        "x = np.arange(16).reshape(4, 4)\n",
        "\n",
        "print(\"X :\\n%s\\n\" % x)\n",
        "print(\"X.shape : %s\\n\" % (x.shape,))\n",
        "print(\"add 5 :\\n%s\\n\" % (x + 5))\n",
        "print(\"X*X^T  :\\n%s\\n\" % np.dot(x, x.T))\n",
        "print(\"mean over cols :\\n%s\\n\" % (x.mean(axis=-1)))\n",
        "print(\"cumsum of cols :\\n%s\\n\" % (np.cumsum(x, axis=0)))"
      ],
      "execution_count": 2,
      "outputs": [
        {
          "output_type": "stream",
          "text": [
            "X :\n",
            "[[ 0  1  2  3]\n",
            " [ 4  5  6  7]\n",
            " [ 8  9 10 11]\n",
            " [12 13 14 15]]\n",
            "\n",
            "X.shape : (4, 4)\n",
            "\n",
            "add 5 :\n",
            "[[ 5  6  7  8]\n",
            " [ 9 10 11 12]\n",
            " [13 14 15 16]\n",
            " [17 18 19 20]]\n",
            "\n",
            "X*X^T  :\n",
            "[[ 14  38  62  86]\n",
            " [ 38 126 214 302]\n",
            " [ 62 214 366 518]\n",
            " [ 86 302 518 734]]\n",
            "\n",
            "mean over cols :\n",
            "[ 1.5  5.5  9.5 13.5]\n",
            "\n",
            "cumsum of cols :\n",
            "[[ 0  1  2  3]\n",
            " [ 4  6  8 10]\n",
            " [12 15 18 21]\n",
            " [24 28 32 36]]\n",
            "\n"
          ],
          "name": "stdout"
        }
      ]
    },
    {
      "cell_type": "code",
      "metadata": {
        "colab_type": "code",
        "id": "ft-a7FN6FpjF",
        "colab": {
          "base_uri": "https://localhost:8080/",
          "height": 434
        },
        "outputId": "94c95644-4c76-4952-aedd-f34a874cd35f"
      },
      "source": [
        "# PyTorch world\n",
        "\n",
        "x = np.arange(16).reshape(4, 4)\n",
        "\n",
        "x = torch.tensor(x, dtype=torch.float32)  # or torch.arange(0,16).view(4,4)\n",
        "\n",
        "print(\"X :\\n%s\" % x)\n",
        "print(\"X.shape : %s\\n\" % (x.shape,))\n",
        "print(\"add 5 :\\n%s\" % (x + 5))\n",
        "print(\"X*X^T  :\\n%s\" % torch.matmul(x, x.transpose(1, 0)))  # short: x.mm(x.t())\n",
        "print(\"mean over cols :\\n%s\" % torch.mean(x, dim=-1))\n",
        "print(\"cumsum of cols :\\n%s\" % torch.cumsum(x, dim=0))"
      ],
      "execution_count": 3,
      "outputs": [
        {
          "output_type": "stream",
          "text": [
            "X :\n",
            "tensor([[ 0.,  1.,  2.,  3.],\n",
            "        [ 4.,  5.,  6.,  7.],\n",
            "        [ 8.,  9., 10., 11.],\n",
            "        [12., 13., 14., 15.]])\n",
            "X.shape : torch.Size([4, 4])\n",
            "\n",
            "add 5 :\n",
            "tensor([[ 5.,  6.,  7.,  8.],\n",
            "        [ 9., 10., 11., 12.],\n",
            "        [13., 14., 15., 16.],\n",
            "        [17., 18., 19., 20.]])\n",
            "X*X^T  :\n",
            "tensor([[ 14.,  38.,  62.,  86.],\n",
            "        [ 38., 126., 214., 302.],\n",
            "        [ 62., 214., 366., 518.],\n",
            "        [ 86., 302., 518., 734.]])\n",
            "mean over cols :\n",
            "tensor([ 1.5000,  5.5000,  9.5000, 13.5000])\n",
            "cumsum of cols :\n",
            "tensor([[ 0.,  1.,  2.,  3.],\n",
            "        [ 4.,  6.,  8., 10.],\n",
            "        [12., 15., 18., 21.],\n",
            "        [24., 28., 32., 36.]])\n"
          ],
          "name": "stdout"
        }
      ]
    },
    {
      "cell_type": "markdown",
      "metadata": {
        "id": "o4ZzIwrRtAGF",
        "colab_type": "text"
      },
      "source": [
        "## NumPy and PyTorch"
      ]
    },
    {
      "cell_type": "markdown",
      "metadata": {
        "colab_type": "text",
        "id": "7tRSs-54FpjI"
      },
      "source": [
        "* хоть работа и похожа, всё равно нет прямой совместимости ([пока что](https://github.com/pytorch/pytorch/issues/2228))\n",
        "* например, если что-то принимает список в numpy, то скорее всего принимает просто аргументы в PyTorch\n",
        " * `x.reshape([1,2,8]) -> x.view(1,2,8)`\n",
        "* в numpy используется dim, а в PyTorch используется axis\n",
        " * `x.sum(axis=-1) -> x.sum(dim=-1)`\n",
        "* математические операции похожи, но типы разные\n",
        " * `x.astype('int64') -> x.type(torch.LongTensor)`\n",
        "* есть [табличка](https://github.com/torch/torch7/wiki/Torch-for-Numpy-users) с различиями, да и вообще [документация](http://pytorch.org/docs/master/)"
      ]
    },
    {
      "cell_type": "markdown",
      "metadata": {
        "colab_type": "text",
        "id": "Sbtheab5DQ6i"
      },
      "source": [
        "__Задание 1. Polar Pretzels (0.5 балла)__:\n",
        "_inspired by [this post](https://www.quora.com/What-are-the-most-interesting-equation-plots)_\n",
        "\n",
        "Есть в тригонометрии класс функций с забавными графиками. Вот пример:\n",
        "\n",
        "$$ x(t) = t - 1.5 * cos( 15 t) $$\n",
        "$$ y(t) = t - 1.5 * sin( 16 t) $$\n",
        "\n",
        "Реализуйте вычисление этой функции на PyTorch."
      ]
    },
    {
      "cell_type": "code",
      "metadata": {
        "colab_type": "code",
        "id": "qzh5hiT8FpjJ",
        "colab": {
          "base_uri": "https://localhost:8080/",
          "height": 282
        },
        "outputId": "b73ca854-02aa-4e17-9608-29074ce64a5a"
      },
      "source": [
        "import matplotlib.pyplot as plt\n",
        "%matplotlib inline\n",
        "\n",
        "t = torch.linspace(-10, 10, steps=10000)\n",
        "\n",
        "# compute x(t) and y(t) as defined above\n",
        "x = t - 1.5 * torch.cos(15 * t)\n",
        "y = t - 1.5 * torch.sin(16 * t)\n",
        "\n",
        "plt.plot(x.numpy(), y.numpy())"
      ],
      "execution_count": 4,
      "outputs": [
        {
          "output_type": "execute_result",
          "data": {
            "text/plain": [
              "[<matplotlib.lines.Line2D at 0x7fccfb7d35f8>]"
            ]
          },
          "metadata": {
            "tags": []
          },
          "execution_count": 4
        },
        {
          "output_type": "display_data",
          "data": {
            "image/png": "[encoded data removed]",
            "text/plain": [
              "<Figure size 432x288 with 1 Axes>"
            ]
          },
          "metadata": {
            "tags": [],
            "needs_background": "light"
          }
        }
      ]
    },
    {
      "cell_type": "markdown",
      "metadata": {
        "id": "o3XTCeBitAGM",
        "colab_type": "text"
      },
      "source": [
        "## Автоматический подсчёт градиентов"
      ]
    },
    {
      "cell_type": "markdown",
      "metadata": {
        "id": "Dgf3L0TstAGM",
        "colab_type": "text"
      },
      "source": [
        "* казалось бы, а какие вообще плюсы в PyTorch?\n",
        "* он считает градиент за вас!\n",
        "* ни один уважающий себя фрейморк про нейросети не может обойтись без автоматического backprop"
      ]
    },
    {
      "cell_type": "markdown",
      "metadata": {
        "colab_type": "text",
        "id": "SjSkYgh9FpjP"
      },
      "source": [
        "PyTorch вычисляет градиенты следующим образом:\n",
        "* при создании тензора ему выставляется параметр `requires_grad`:\n",
        "    * ```torch.zeros(5, requires_grad=True)```\n",
        "    * ```torch.tensor(np.arange(5), dtype=torch.float32, requires_grad=True)```\n",
        "* определяем что-нибудь дифференцируемое `loss = arbitrary_function(a)`\n",
        "* вызываем `loss.backward()`\n",
        "* градиенты доступны по ```a.grads```"
      ]
    },
    {
      "cell_type": "markdown",
      "metadata": {
        "id": "h9FzNubYtAGN",
        "colab_type": "text"
      },
      "source": [
        "Пример: обучим линейную регрессию на датасете с ценами на дома в Бостоне"
      ]
    },
    {
      "cell_type": "code",
      "metadata": {
        "colab_type": "code",
        "id": "yKVyHXwVFpjQ",
        "colab": {
          "base_uri": "https://localhost:8080/",
          "height": 265
        },
        "outputId": "3633960c-ff7d-4a31-b198-99256f374108"
      },
      "source": [
        "from sklearn.datasets import load_boston\n",
        "from matplotlib import pyplot as plt\n",
        "\n",
        "boston = load_boston()\n",
        "plt.scatter(boston.data[:, -1], boston.target)\n",
        "plt.show()"
      ],
      "execution_count": 5,
      "outputs": [
        {
          "output_type": "display_data",
          "data": {
            "image/png": "[encoded data removed]",
            "text/plain": [
              "<Figure size 432x288 with 1 Axes>"
            ]
          },
          "metadata": {
            "tags": [],
            "needs_background": "light"
          }
        }
      ]
    },
    {
      "cell_type": "code",
      "metadata": {
        "colab_type": "code",
        "id": "Dwvg3uW_FpjU",
        "colab": {}
      },
      "source": [
        "from torch.autograd import Variable\n",
        "\n",
        "w = torch.zeros(1, requires_grad=True)\n",
        "b = torch.zeros(1, requires_grad=True)\n",
        "\n",
        "x = torch.tensor(boston.data[:, -1] / 10, dtype=torch.float32)\n",
        "y = torch.tensor(boston.target, dtype=torch.float32)"
      ],
      "execution_count": 6,
      "outputs": []
    },
    {
      "cell_type": "code",
      "metadata": {
        "colab_type": "code",
        "id": "r9Bwtum6FpjX",
        "colab": {}
      },
      "source": [
        "y_pred = w * x + b\n",
        "loss = torch.mean((y_pred - y)**2)\n",
        "\n",
        "# propagete gradients\n",
        "loss.backward()"
      ],
      "execution_count": 7,
      "outputs": []
    },
    {
      "cell_type": "markdown",
      "metadata": {
        "colab_type": "text",
        "id": "9DqK-tN4Fpja"
      },
      "source": [
        "Градиенты сохранены в `.grad` у переменных:"
      ]
    },
    {
      "cell_type": "code",
      "metadata": {
        "colab_type": "code",
        "id": "RR2e6t6qFpjb",
        "colab": {
          "base_uri": "https://localhost:8080/",
          "height": 86
        },
        "outputId": "ffdcf81a-8eeb-4412-a1e3-4254527bf714"
      },
      "source": [
        "print(\"dL/dw = \\n\", w.grad)\n",
        "print(\"dL/db = \\n\", b.grad)"
      ],
      "execution_count": 8,
      "outputs": [
        {
          "output_type": "stream",
          "text": [
            "dL/dw = \n",
            " tensor([-47.3514])\n",
            "dL/db = \n",
            " tensor([-45.0656])\n"
          ],
          "name": "stdout"
        }
      ]
    },
    {
      "cell_type": "markdown",
      "metadata": {
        "colab_type": "text",
        "id": "Bzjfv0m6Fpjf"
      },
      "source": [
        "Если вы считаете градиент для нескольких функций потерь, в переменных градиенты складываются, так что между итерациями вычислений **надо его обнулять**"
      ]
    },
    {
      "cell_type": "code",
      "metadata": {
        "colab_type": "code",
        "id": "LZbzDKxAFpjg",
        "colab": {
          "base_uri": "https://localhost:8080/",
          "height": 282
        },
        "outputId": "d5513820-ebe6-470f-8e22-bb63288d6092"
      },
      "source": [
        "from IPython.display import clear_output\n",
        "\n",
        "for i in range(100):\n",
        "\n",
        "    y_pred = w * x + b\n",
        "    loss = torch.mean((y_pred - y)**2)\n",
        "    loss.backward()\n",
        "\n",
        "    w.data -= 0.05 * w.grad.data\n",
        "    b.data -= 0.05 * b.grad.data\n",
        "\n",
        "    # zero gradients\n",
        "    w.grad.data.zero_()\n",
        "    b.grad.data.zero_()\n",
        "    \n",
        "\n",
        "    # the rest of code is just bells and whistles\n",
        "    if (i+1) % 5 == 0:\n",
        "        clear_output(True)\n",
        "        plt.scatter(x.data.numpy(), y.data.numpy())\n",
        "        plt.scatter(x.data.numpy(), y_pred.data.numpy(),\n",
        "                    color='orange', linewidth=5)\n",
        "        plt.show()\n",
        "\n",
        "        print(\"loss = \", loss.data.numpy())\n",
        "        if loss.data.numpy() < 0.5:\n",
        "            print(\"Done!\")\n",
        "            break"
      ],
      "execution_count": 9,
      "outputs": [
        {
          "output_type": "display_data",
          "data": {
            "image/png": "[encoded data removed]",
            "text/plain": [
              "<Figure size 432x288 with 1 Axes>"
            ]
          },
          "metadata": {
            "tags": [],
            "needs_background": "light"
          }
        },
        {
          "output_type": "stream",
          "text": [
            "loss =  44.59417\n"
          ],
          "name": "stdout"
        }
      ]
    },
    {
      "cell_type": "markdown",
      "metadata": {
        "id": "WrZZfYaAtAGm",
        "colab_type": "text"
      },
      "source": [
        "## Идём на уровень выше"
      ]
    },
    {
      "cell_type": "markdown",
      "metadata": {
        "id": "UE04kUnqtAGn",
        "colab_type": "text"
      },
      "source": [
        "* конечно же постоянно задавать руками все функции потерь и слои для нейросети очень муторно и сложно\n",
        "* но конечно же специально для нас высокоуровнево реализованы слои, функции активации и алгоритмы обучения сети"
      ]
    },
    {
      "cell_type": "markdown",
      "metadata": {
        "id": "9iIHusHatAGo",
        "colab_type": "text"
      },
      "source": [
        "Давайте рассмотрим это на примере классификации букв на \"*A*\" vs \"*B*\""
      ]
    },
    {
      "cell_type": "code",
      "metadata": {
        "id": "Z8n_r4ZWtAGp",
        "colab_type": "code",
        "colab": {}
      },
      "source": [
        "import os\n",
        "from glob import glob\n",
        "\n",
        "import numpy as np\n",
        "from imageio import imread\n",
        "from skimage.transform import resize\n",
        "from sklearn.model_selection import train_test_split\n",
        "\n",
        "\n",
        "def load_notmnist(path='./notMNIST_small', letters='ABCDEFGHIJ',\n",
        "                  img_shape=(28, 28), test_size=0.25, one_hot=False):\n",
        "    # download data if it's missing. If you have any problems, go to the urls\n",
        "    # and load it manually.\n",
        "    if not os.path.exists(path):\n",
        "        print(\"Downloading data...\")\n",
        "        assert os.system(\n",
        "            'wget http://yaroslavvb.com/upload/notMNIST/notMNIST_small.tar.gz') == 0\n",
        "        print(\"Extracting ...\")\n",
        "        assert os.system(\n",
        "            'tar -zxvf notMNIST_small.tar.gz > untar_notmnist.log') == 0\n",
        "\n",
        "    data, labels = [], []\n",
        "    print(\"Parsing...\")\n",
        "    for img_path in glob(os.path.join(path, '*/*')):\n",
        "        class_i = img_path.split(os.sep)[-2]\n",
        "        if class_i not in letters:\n",
        "            continue\n",
        "        try:\n",
        "            data.append(resize(imread(img_path), img_shape))\n",
        "            labels.append(class_i,)\n",
        "        except BaseException:\n",
        "            print(\n",
        "                \"found broken img: %s [it's ok if <10 images are broken]\" %\n",
        "                img_path)\n",
        "\n",
        "    data = np.stack(data)[:, None].astype('float32')\n",
        "    data = (data - np.mean(data)) / np.std(data)\n",
        "\n",
        "    # convert classes to ints\n",
        "    letter_to_i = {l: i for i, l in enumerate(letters)}\n",
        "    labels = np.array(list(map(letter_to_i.get, labels)))\n",
        "\n",
        "    if one_hot:\n",
        "        labels = (np.arange(np.max(labels) + 1)\n",
        "                  [None, :] == labels[:, None]).astype('float32')\n",
        "\n",
        "    # split into train/test\n",
        "    X_train, X_test, y_train, y_test = train_test_split(\n",
        "        data, labels, test_size=test_size, random_state=42)\n",
        "\n",
        "    print(\"Done\")\n",
        "    return X_train, y_train, X_test, y_test"
      ],
      "execution_count": 46,
      "outputs": []
    },
    {
      "cell_type": "code",
      "metadata": {
        "colab_type": "code",
        "id": "Ffu-aB7NFpjm",
        "colab": {
          "base_uri": "https://localhost:8080/",
          "height": 86
        },
        "outputId": "79a100b4-eb3a-4c2d-f42c-709563651120"
      },
      "source": [
        "X_train, y_train, X_test, y_test = load_notmnist(letters='AB')\n",
        "X_train, X_test = X_train.reshape([-1, 784]), X_test.reshape([-1, 784])\n",
        "\n",
        "print(\"Train size = %i, test_size = %i\" % (len(X_train), len(X_test)))"
      ],
      "execution_count": 47,
      "outputs": [
        {
          "output_type": "stream",
          "text": [
            "Parsing...\n",
            "found broken img: ./notMNIST_small/A/RGVtb2NyYXRpY2FCb2xkT2xkc3R5bGUgQm9sZC50dGY=.png [it's ok if <10 images are broken]\n",
            "Done\n",
            "Train size = 2808, test_size = 937\n"
          ],
          "name": "stdout"
        }
      ]
    },
    {
      "cell_type": "code",
      "metadata": {
        "colab_type": "code",
        "id": "9ppKRUq8Fpjp",
        "colab": {
          "base_uri": "https://localhost:8080/",
          "height": 216
        },
        "outputId": "35191f23-ff93-467c-e4e5-f95acf858cbd"
      },
      "source": [
        "for i in [0, 1]:\n",
        "    plt.subplot(1, 2, i + 1)\n",
        "    plt.imshow(X_train[i].reshape([28, 28]))\n",
        "    plt.title(str(y_train[i]))"
      ],
      "execution_count": 48,
      "outputs": [
        {
          "output_type": "display_data",
          "data": {
            "image/png": "[encoded data removed]",
            "text/plain": [
              "<Figure size 432x288 with 2 Axes>"
            ]
          },
          "metadata": {
            "tags": [],
            "needs_background": "light"
          }
        }
      ]
    },
    {
      "cell_type": "markdown",
      "metadata": {
        "id": "irIBYs06tAG0",
        "colab_type": "text"
      },
      "source": [
        "`nn.Module` - это базовый класс для всех слоёв нейронной сети"
      ]
    },
    {
      "cell_type": "code",
      "metadata": {
        "colab_type": "code",
        "id": "DJTytkPnFpjw",
        "colab": {
          "base_uri": "https://localhost:8080/",
          "height": 416
        },
        "outputId": "94e9670d-b691-4129-d9d1-2d5226aafef9"
      },
      "source": [
        "from torch import nn\n",
        "import torch.nn.functional as F\n",
        "\n",
        "print(nn.Module.__doc__)"
      ],
      "execution_count": 49,
      "outputs": [
        {
          "output_type": "stream",
          "text": [
            "Base class for all neural network modules.\n",
            "\n",
            "    Your models should also subclass this class.\n",
            "\n",
            "    Modules can also contain other Modules, allowing to nest them in\n",
            "    a tree structure. You can assign the submodules as regular attributes::\n",
            "\n",
            "        import torch.nn as nn\n",
            "        import torch.nn.functional as F\n",
            "\n",
            "        class Model(nn.Module):\n",
            "            def __init__(self):\n",
            "                super(Model, self).__init__()\n",
            "                self.conv1 = nn.Conv2d(1, 20, 5)\n",
            "                self.conv2 = nn.Conv2d(20, 20, 5)\n",
            "\n",
            "            def forward(self, x):\n",
            "                x = F.relu(self.conv1(x))\n",
            "                return F.relu(self.conv2(x))\n",
            "\n",
            "    Submodules assigned in this way will be registered, and will have their\n",
            "    parameters converted too when you call :meth:`to`, etc.\n",
            "    \n"
          ],
          "name": "stdout"
        }
      ]
    },
    {
      "cell_type": "markdown",
      "metadata": {
        "colab_type": "text",
        "id": "4BYCIRanFpj0"
      },
      "source": [
        "Для начала обучим для этой задачи логистическую регрессию (это ведь тоже нейронная сеть):\n",
        "$$P(y_i | X_i) = \\sigma(W \\cdot X_i + b) ={ 1 \\over {1+e^{- [W \\cdot X_i + b]}} }$$\n"
      ]
    },
    {
      "cell_type": "code",
      "metadata": {
        "colab_type": "code",
        "id": "cTz8EUMAFpj1",
        "colab": {}
      },
      "source": [
        "# create a network that stacks layers on top of each other\n",
        "model = nn.Sequential()\n",
        "\n",
        "# add first \"dense\" layer with 784 input units and 1 output unit.\n",
        "model.add_module('l1', nn.Linear(784, 1))\n",
        "\n",
        "# add softmax activation for probabilities. Normalize over axis 1\n",
        "# note: layer names must be unique\n",
        "model.add_module('l2', nn.Sigmoid())"
      ],
      "execution_count": 50,
      "outputs": []
    },
    {
      "cell_type": "code",
      "metadata": {
        "colab_type": "code",
        "id": "akL9eeJfFpj5",
        "colab": {
          "base_uri": "https://localhost:8080/",
          "height": 34
        },
        "outputId": "c51fa7ae-a67c-4300-e272-7ac2b08a09d9"
      },
      "source": [
        "print(\"Weight shapes:\", [w.shape for w in model.parameters()])"
      ],
      "execution_count": 51,
      "outputs": [
        {
          "output_type": "stream",
          "text": [
            "Weight shapes: [torch.Size([1, 784]), torch.Size([1])]\n"
          ],
          "name": "stdout"
        }
      ]
    },
    {
      "cell_type": "code",
      "metadata": {
        "colab_type": "code",
        "id": "k324xIx8Fpj8",
        "colab": {
          "base_uri": "https://localhost:8080/",
          "height": 34
        },
        "outputId": "a2ccdf52-69cf-4368-9f2e-c49cd7de3282"
      },
      "source": [
        "# create dummy data with 3 samples and 784 features\n",
        "x = torch.tensor(X_train[:3], dtype=torch.float32)\n",
        "y = torch.tensor(y_train[:3], dtype=torch.float32)\n",
        "\n",
        "# compute outputs given inputs, both are variables\n",
        "y_predicted = model(x)[:, 0]\n",
        "\n",
        "y_predicted  # display what we've got"
      ],
      "execution_count": 52,
      "outputs": [
        {
          "output_type": "execute_result",
          "data": {
            "text/plain": [
              "tensor([0.4361, 0.4989, 0.5836], grad_fn=<SelectBackward>)"
            ]
          },
          "metadata": {
            "tags": []
          },
          "execution_count": 52
        }
      ]
    },
    {
      "cell_type": "markdown",
      "metadata": {
        "colab_type": "text",
        "id": "In1f6SWKFpkA"
      },
      "source": [
        "Давайте зададим функцию потерь как logloss:\n",
        "$$ L = {1 \\over N} \\underset{X_i,y_i} \\sum - [  y_i \\cdot log P(y_i=1 | X_i) + (1-y_i) \\cdot log (1-P(y_i=1 | X_i)) ]$$\n",
        "\n"
      ]
    },
    {
      "cell_type": "code",
      "metadata": {
        "colab_type": "code",
        "id": "gdled3ZoFpkB",
        "colab": {}
      },
      "source": [
        "crossentropy = y * torch.log(y_predicted) + (1 - y) * torch.log(1 - y_predicted)\n",
        "loss = -torch.mean(crossentropy)\n",
        "\n",
        "assert tuple(crossentropy.size()) == (\n",
        "    3,), \"Crossentropy must be a vector with element per sample\"\n",
        "assert tuple(loss.size()) == tuple(\n",
        "), \"Loss must be scalar. Did you forget the mean/sum?\"\n",
        "assert loss.data.numpy() > 0, \"Crossentropy must non-negative, zero only for perfect prediction\"\n",
        "assert loss.data.numpy() <= np.log(\n",
        "    3), \"Loss is too large even for untrained model. Please double-check it.\""
      ],
      "execution_count": 53,
      "outputs": []
    },
    {
      "cell_type": "markdown",
      "metadata": {
        "colab_type": "text",
        "id": "ePmmAa7rFpkF"
      },
      "source": [
        "* PyTorch также предоставляет вам и набор оптимизаторов!"
      ]
    },
    {
      "cell_type": "code",
      "metadata": {
        "colab_type": "code",
        "id": "tyXbdAN0FpkF",
        "colab": {}
      },
      "source": [
        "opt = torch.optim.RMSprop(model.parameters(), lr=0.01)\n",
        "\n",
        "# here's how it's used:\n",
        "loss.backward()      # add new gradients\n",
        "opt.step()           # change weights\n",
        "opt.zero_grad()      # clear gradients"
      ],
      "execution_count": 54,
      "outputs": []
    },
    {
      "cell_type": "code",
      "metadata": {
        "colab_type": "code",
        "id": "qvjTOvGWFpkI",
        "colab": {}
      },
      "source": [
        "# dispose of old variables to avoid bugs later\n",
        "del x, y, y_predicted, loss"
      ],
      "execution_count": 55,
      "outputs": []
    },
    {
      "cell_type": "markdown",
      "metadata": {
        "colab_type": "text",
        "id": "VuLgI9RYFpkL"
      },
      "source": [
        "### И снова всё вместе!"
      ]
    },
    {
      "cell_type": "code",
      "metadata": {
        "colab_type": "code",
        "id": "edw3P6yfFpkL",
        "colab": {}
      },
      "source": [
        "# create network again just in case\n",
        "model = nn.Sequential()\n",
        "model.add_module('first', nn.Linear(784, 1))\n",
        "model.add_module('second', nn.Sigmoid())\n",
        "\n",
        "opt = torch.optim.Adam(model.parameters(), lr=1e-3)"
      ],
      "execution_count": 56,
      "outputs": []
    },
    {
      "cell_type": "code",
      "metadata": {
        "colab_type": "code",
        "id": "R2U7q3J8FpkO",
        "colab": {
          "base_uri": "https://localhost:8080/",
          "height": 191
        },
        "outputId": "08c4edb8-30ff-48ae-8212-af7ce1f7ceea"
      },
      "source": [
        "history = []\n",
        "\n",
        "for i in range(100):\n",
        "\n",
        "    # sample 256 random images\n",
        "    ix = np.random.randint(0, len(X_train), 256)\n",
        "    x_batch = torch.tensor(X_train[ix], dtype=torch.float32)\n",
        "    y_batch = torch.tensor(y_train[ix], dtype=torch.float32)\n",
        "\n",
        "    # predict probabilities\n",
        "    y_predicted = model(x_batch)[:, 0]\n",
        "\n",
        "    assert y_predicted.dim(\n",
        "    ) == 1, \"did you forget to select first column with [:, 0]\"\n",
        "\n",
        "    # compute loss, just like before\n",
        "    loss = -torch.mean(y_batch * torch.log(y_predicted) + (1 - y_batch) * torch.log(1 - y_predicted))\n",
        "\n",
        "    loss.backward()      # add new gradients\n",
        "    opt.step()           # change weights\n",
        "    opt.zero_grad()      # clear gradients\n",
        "\n",
        "    history.append(loss.data.numpy())\n",
        "\n",
        "    if i % 10 == 0:\n",
        "        print(\"step #%i | mean loss = %.3f\" % (i, np.mean(history[-10:])))"
      ],
      "execution_count": 57,
      "outputs": [
        {
          "output_type": "stream",
          "text": [
            "step #0 | mean loss = 0.706\n",
            "step #10 | mean loss = 0.398\n",
            "step #20 | mean loss = 0.240\n",
            "step #30 | mean loss = 0.174\n",
            "step #40 | mean loss = 0.146\n",
            "step #50 | mean loss = 0.137\n",
            "step #60 | mean loss = 0.137\n",
            "step #70 | mean loss = 0.122\n",
            "step #80 | mean loss = 0.115\n",
            "step #90 | mean loss = 0.108\n"
          ],
          "name": "stdout"
        }
      ]
    },
    {
      "cell_type": "markdown",
      "metadata": {
        "colab_type": "text",
        "id": "TqwOZo5UFpkT"
      },
      "source": [
        "Давайте оценим качество нашей модели:"
      ]
    },
    {
      "cell_type": "code",
      "metadata": {
        "colab_type": "code",
        "id": "MH46tm4XFpkU",
        "colab": {
          "base_uri": "https://localhost:8080/",
          "height": 34
        },
        "outputId": "50f7ce57-6437-4e7b-c0bc-24e2dcdac82d"
      },
      "source": [
        "# use your model to predict classes (0 or 1) for all test samples\n",
        "predicted_y_test = model(torch.tensor(X_test))[:, 0].data.numpy() > 0.5\n",
        "\n",
        "assert isinstance(predicted_y_test, np.ndarray), \"please return np array, not %s\" % type(\n",
        "    predicted_y_test)\n",
        "assert predicted_y_test.shape == y_test.shape, \"please predict one class for each test sample\"\n",
        "assert np.in1d(predicted_y_test, y_test).all(), \"please predict class indexes\"\n",
        "\n",
        "accuracy = np.mean(predicted_y_test == y_test)\n",
        "\n",
        "print(\"Test accuracy: %.5f\" % accuracy)\n",
        "assert accuracy > 0.95, \"try training longer\""
      ],
      "execution_count": 58,
      "outputs": [
        {
          "output_type": "stream",
          "text": [
            "Test accuracy: 0.95411\n"
          ],
          "name": "stdout"
        }
      ]
    },
    {
      "cell_type": "markdown",
      "metadata": {
        "colab_type": "text",
        "id": "VVrJQevYFpkX"
      },
      "source": [
        "## Ещё больше про PyTorch:\n",
        "* [PyTorch на GPU](http://pytorch.org/docs/master/notes/cuda.html)\n",
        "* [туториалы на официальном сайте](http://pytorch.org/tutorials/beginner/deep_learning_60min_blitz.html)\n",
        "* [примеры реализаций крутых моделей на PyTorch](https://github.com/pytorch/examples)\n",
        "* [и ещё немного крутых моделей!](https://github.com/spro/practical-pytorch)\n",
        "* [и ещё!](https://www.reddit.com/r/pytorch/comments/6z0yeo/pytorch_and_pytorch_tricks_for_kaggle/)"
      ]
    },
    {
      "cell_type": "markdown",
      "metadata": {
        "colab_type": "text",
        "id": "azgJWOv7FpkZ"
      },
      "source": [
        "**Задача 2 (1 балл)**.  Реализуйте ещё одну функцию в полярной системе координат:\n",
        "$$\\rho(\\theta) = (1 + 0.9 \\cdot cos (8 \\cdot \\theta) ) \\cdot (1 + 0.1 \\cdot cos(24 \\cdot \\theta)) \\cdot (0.9 + 0.05 \\cdot cos(200 \\cdot \\theta)) \\cdot (1 + sin(\\theta))$$\n",
        "\n",
        "\n",
        "Конвертируйте её в декартову систему координат ([howto](http://www.mathsisfun.com/polar-cartesian-coordinates.html)) и визуализируйте результаты.\n",
        "\n",
        "Одна сложность: в задании можно использовать только torch tensors: без списков, циклов, numpy массивов и прочего."
      ]
    },
    {
      "cell_type": "code",
      "metadata": {
        "colab_type": "code",
        "id": "XcpixFV6FpkZ",
        "colab": {
          "base_uri": "https://localhost:8080/",
          "height": 374
        },
        "outputId": "26db3b0b-ecaa-499d-c5a1-0a224d8045bb"
      },
      "source": [
        "theta = torch.linspace(- np.pi, np.pi, steps=1000)\n",
        "\n",
        "# compute rho(theta) as per formula above\n",
        "rho = (1 + 0.9 * torch.cos(8 * theta)) * (1 + 0.1 * torch.cos(24 * theta)) * \\\n",
        "      (0.9 + 0.05 * torch.cos(200 * theta)) * (1 + torch.sin(theta))\n",
        "\n",
        "# Now convert polar (rho, theta) pairs into cartesian (x,y) to plot them.\n",
        "x = rho * torch.cos(theta)\n",
        "y = rho * torch.sin(theta)\n",
        "\n",
        "\n",
        "plt.figure(figsize=[6, 6])\n",
        "plt.fill(x.numpy(), y.numpy(), color='green')\n",
        "plt.grid()"
      ],
      "execution_count": 21,
      "outputs": [
        {
          "output_type": "display_data",
          "data": {
            "image/png": "[encoded data removed]",
            "text/plain": [
              "<Figure size 432x432 with 1 Axes>"
            ]
          },
          "metadata": {
            "tags": [],
            "needs_background": "light"
          }
        }
      ]
    },
    {
      "cell_type": "markdown",
      "metadata": {
        "id": "R5n-qdYptAHb",
        "colab_type": "text"
      },
      "source": [
        "**Задача 3 (2.5 балла)**. Реализуйте нейронную сеть для задачи отличия букв, но немного более сложной:\n",
        "* 10 различных букв\n",
        "* 20k примеров\n",
        "\n",
        "Достичь нужно минимум 80% точности с как минимум двумя слоями в ней.\n",
        "С 10 классами нужно использовать __Softmax__ в самом конце вместо сигмоиды и минимизировать __categorical crossentropy__  (see [here](http://wiki.fast.ai/index.php/Log_Loss)).  Напишите свою функцию потерь либо используйте `torch.nn.functional.nll_loss`."
      ]
    },
    {
      "cell_type": "code",
      "metadata": {
        "id": "1B2T0NGVtAHb",
        "colab_type": "code",
        "colab": {
          "base_uri": "https://localhost:8080/",
          "height": 86
        },
        "outputId": "fd4997d8-c066-4c32-b29d-6d3a494a8359"
      },
      "source": [
        "X_train, y_train, X_test, y_test = load_notmnist(letters='ABCDEFGHIJ')\n",
        "X_train, X_test = X_train.reshape([-1, 784]), X_test.reshape([-1, 784])"
      ],
      "execution_count": 106,
      "outputs": [
        {
          "output_type": "stream",
          "text": [
            "Parsing...\n",
            "found broken img: ./notMNIST_small/F/Q3Jvc3NvdmVyIEJvbGRPYmxpcXVlLnR0Zg==.png [it's ok if <10 images are broken]\n",
            "found broken img: ./notMNIST_small/A/RGVtb2NyYXRpY2FCb2xkT2xkc3R5bGUgQm9sZC50dGY=.png [it's ok if <10 images are broken]\n",
            "Done\n"
          ],
          "name": "stdout"
        }
      ]
    },
    {
      "cell_type": "code",
      "metadata": {
        "id": "rm06vDDetAHf",
        "colab_type": "code",
        "colab": {
          "base_uri": "https://localhost:8080/",
          "height": 239
        },
        "outputId": "b9c36438-4dbf-4d75-b59c-aab9d8fd5797"
      },
      "source": [
        "%matplotlib inline\n",
        "plt.figure(figsize=[12, 4])\n",
        "for i in range(20):\n",
        "    plt.subplot(2, 10, i+1)\n",
        "    plt.imshow(X_train[i].reshape([28, 28]))\n",
        "    plt.title(str(y_train[i]))"
      ],
      "execution_count": 138,
      "outputs": [
        {
          "output_type": "display_data",
          "data": {
            "image/png": "[encoded data removed]",
            "text/plain": [
              "<Figure size 864x288 with 20 Axes>"
            ]
          },
          "metadata": {
            "tags": [],
            "needs_background": "light"
          }
        }
      ]
    },
    {
      "cell_type": "code",
      "metadata": {
        "id": "HZuqIiCu4uFu",
        "colab_type": "code",
        "colab": {}
      },
      "source": [
        "n_epochs = 100\n",
        "batch_size = 256\n",
        "learning_rate = 0.001"
      ],
      "execution_count": 139,
      "outputs": []
    },
    {
      "cell_type": "code",
      "metadata": {
        "id": "HNsIy08UtAHi",
        "colab_type": "code",
        "colab": {
          "base_uri": "https://localhost:8080/",
          "height": 121
        },
        "outputId": "c7458f95-f0a7-45d0-ec88-133c4cfeeef5"
      },
      "source": [
        "# creating network\n",
        "model = nn.Sequential()\n",
        "model.add_module('linear1', nn.Linear(784, 256))\n",
        "model.add_module('relu', nn.ReLU())\n",
        "model.add_module('linear2', nn.Linear(256, 10))\n",
        "model.add_module('softmax', nn.LogSoftmax(dim=1))\n",
        "\n",
        "print(model)"
      ],
      "execution_count": 140,
      "outputs": [
        {
          "output_type": "stream",
          "text": [
            "Sequential(\n",
            "  (linear1): Linear(in_features=784, out_features=256, bias=True)\n",
            "  (relu): ReLU()\n",
            "  (linear2): Linear(in_features=256, out_features=10, bias=True)\n",
            "  (softmax): LogSoftmax(dim=1)\n",
            ")\n"
          ],
          "name": "stdout"
        }
      ]
    },
    {
      "cell_type": "code",
      "metadata": {
        "id": "Qkjm3I2k_x_C",
        "colab_type": "code",
        "colab": {}
      },
      "source": [
        "opt = torch.optim.Adam(model.parameters(), lr=learning_rate)"
      ],
      "execution_count": 141,
      "outputs": []
    },
    {
      "cell_type": "code",
      "metadata": {
        "id": "LIi5z0VT2YJ6",
        "colab_type": "code",
        "colab": {
          "base_uri": "https://localhost:8080/",
          "height": 191
        },
        "outputId": "f407b5f6-31b1-4d98-a99e-86dd061520e7"
      },
      "source": [
        "history = []\n",
        "accuracy = []\n",
        "\n",
        "for i in range(n_epochs):\n",
        "\n",
        "    # sample 256 random images\n",
        "    ix = np.random.randint(0, len(X_train), 256)\n",
        "    x_batch = torch.tensor(X_train[ix], dtype=torch.float32)\n",
        "    y_batch = torch.tensor(y_train[ix], dtype=torch.long)\n",
        "\n",
        "    # predict probabilities\n",
        "    y_predicted = model(x_batch)\n",
        "    y_pred_class = torch.argmax(y_predicted, dim=1)\n",
        "\n",
        "    accuracy.append(np.mean(y_batch.data.numpy() == y_pred_class.data.numpy()))\n",
        "\n",
        "    # compute loss, just like before\n",
        "    loss = F.nll_loss(y_predicted, y_batch)\n",
        "\n",
        "    loss.backward()      # add new gradients\n",
        "    opt.step()           # change weights\n",
        "    opt.zero_grad()      # clear gradients\n",
        "\n",
        "    history.append(loss.data.numpy())\n",
        "\n",
        "    if i % 10 == 0:\n",
        "        print(f\"step #{i} | mean loss = {np.mean(history[-10:]):.3f} | accuracy = {np.mean(accuracy[-10:]):.3f}\")"
      ],
      "execution_count": 142,
      "outputs": [
        {
          "output_type": "stream",
          "text": [
            "step #0 | mean loss = 2.301 | accuracy = 0.180\n",
            "step #10 | mean loss = 1.020 | accuracy = 0.769\n",
            "step #20 | mean loss = 0.493 | accuracy = 0.871\n",
            "step #30 | mean loss = 0.409 | accuracy = 0.877\n",
            "step #40 | mean loss = 0.416 | accuracy = 0.882\n",
            "step #50 | mean loss = 0.358 | accuracy = 0.895\n",
            "step #60 | mean loss = 0.338 | accuracy = 0.900\n",
            "step #70 | mean loss = 0.335 | accuracy = 0.905\n",
            "step #80 | mean loss = 0.308 | accuracy = 0.913\n",
            "step #90 | mean loss = 0.311 | accuracy = 0.912\n"
          ],
          "name": "stdout"
        }
      ]
    },
    {
      "cell_type": "code",
      "metadata": {
        "id": "yw9Wtnc6DPAc",
        "colab_type": "code",
        "colab": {
          "base_uri": "https://localhost:8080/",
          "height": 34
        },
        "outputId": "ef6695af-1077-4d3b-f1aa-2e3a64f31c71"
      },
      "source": [
        "# predict X_test\n",
        "predicted_y_test = model(torch.tensor(X_test))\n",
        "predicted_y_test = torch.argmax(predicted_y_test, dim=1)\n",
        "\n",
        "accuracy = np.mean(predicted_y_test.data.numpy() == y_test)\n",
        "\n",
        "print(f\"Test accuracy: {accuracy:.5f}\")"
      ],
      "execution_count": 143,
      "outputs": [
        {
          "output_type": "stream",
          "text": [
            "Test accuracy: 0.89746\n"
          ],
          "name": "stdout"
        }
      ]
    }
  ]
}