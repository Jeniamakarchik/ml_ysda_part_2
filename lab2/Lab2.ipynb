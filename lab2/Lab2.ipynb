{
  "nbformat": 4,
  "nbformat_minor": 0,
  "metadata": {
    "kernelspec": {
      "display_name": "Python 3",
      "language": "python",
      "name": "python3"
    },
    "language_info": {
      "codemirror_mode": {
        "name": "ipython",
        "version": 3
      },
      "file_extension": ".py",
      "mimetype": "text/x-python",
      "name": "python",
      "nbconvert_exporter": "python",
      "pygments_lexer": "ipython3",
      "version": "3.6.7"
    },
    "colab": {
      "name": "Lab2.ipynb",
      "provenance": [],
      "collapsed_sections": [
        "MSraaROPWjdb",
        "Gtj2pOHtWjdm",
        "G8DnUJ0MWjeX"
      ]
    },
    "widgets": {
      "application/vnd.jupyter.widget-state+json": {
        "2a5fd7e4e14745259110f3c214f02f73": {
          "model_module": "@jupyter-widgets/controls",
          "model_name": "HBoxModel",
          "state": {
            "_view_name": "HBoxView",
            "_dom_classes": [],
            "_model_name": "HBoxModel",
            "_view_module": "@jupyter-widgets/controls",
            "_model_module_version": "1.5.0",
            "_view_count": null,
            "_view_module_version": "1.5.0",
            "box_style": "",
            "layout": "IPY_MODEL_c28a739e90ef4884a27a8a031fc0b385",
            "_model_module": "@jupyter-widgets/controls",
            "children": [
              "IPY_MODEL_5f1431c4a9d1480589e0753906973e5f",
              "IPY_MODEL_655615bc86b14247957262b29286c434"
            ]
          }
        },
        "c28a739e90ef4884a27a8a031fc0b385": {
          "model_module": "@jupyter-widgets/base",
          "model_name": "LayoutModel",
          "state": {
            "_view_name": "LayoutView",
            "grid_template_rows": null,
            "right": null,
            "justify_content": null,
            "_view_module": "@jupyter-widgets/base",
            "overflow": null,
            "_model_module_version": "1.2.0",
            "_view_count": null,
            "flex_flow": null,
            "width": null,
            "min_width": null,
            "border": null,
            "align_items": null,
            "bottom": null,
            "_model_module": "@jupyter-widgets/base",
            "top": null,
            "grid_column": null,
            "overflow_y": null,
            "overflow_x": null,
            "grid_auto_flow": null,
            "grid_area": null,
            "grid_template_columns": null,
            "flex": null,
            "_model_name": "LayoutModel",
            "justify_items": null,
            "grid_row": null,
            "max_height": null,
            "align_content": null,
            "visibility": null,
            "align_self": null,
            "height": null,
            "min_height": null,
            "padding": null,
            "grid_auto_rows": null,
            "grid_gap": null,
            "max_width": null,
            "order": null,
            "_view_module_version": "1.2.0",
            "grid_template_areas": null,
            "object_position": null,
            "object_fit": null,
            "grid_auto_columns": null,
            "margin": null,
            "display": null,
            "left": null
          }
        },
        "5f1431c4a9d1480589e0753906973e5f": {
          "model_module": "@jupyter-widgets/controls",
          "model_name": "FloatProgressModel",
          "state": {
            "_view_name": "ProgressView",
            "style": "IPY_MODEL_fc3e1226d06540cd979a6cfc8a06d720",
            "_dom_classes": [],
            "description": "100%",
            "_model_name": "FloatProgressModel",
            "bar_style": "success",
            "max": 24,
            "_view_module": "@jupyter-widgets/controls",
            "_model_module_version": "1.5.0",
            "value": 24,
            "_view_count": null,
            "_view_module_version": "1.5.0",
            "orientation": "horizontal",
            "min": 0,
            "description_tooltip": null,
            "_model_module": "@jupyter-widgets/controls",
            "layout": "IPY_MODEL_a9861f7d15714da5a9ff150727223d29"
          }
        },
        "655615bc86b14247957262b29286c434": {
          "model_module": "@jupyter-widgets/controls",
          "model_name": "HTMLModel",
          "state": {
            "_view_name": "HTMLView",
            "style": "IPY_MODEL_d5b580ff779d4eedbd31f9b5fb1a448c",
            "_dom_classes": [],
            "description": "",
            "_model_name": "HTMLModel",
            "placeholder": "​",
            "_view_module": "@jupyter-widgets/controls",
            "_model_module_version": "1.5.0",
            "value": " 24/24 [00:10&lt;00:00,  2.26it/s]",
            "_view_count": null,
            "_view_module_version": "1.5.0",
            "description_tooltip": null,
            "_model_module": "@jupyter-widgets/controls",
            "layout": "IPY_MODEL_4050c0dadf8b4911948b645ccf0ad52b"
          }
        },
        "fc3e1226d06540cd979a6cfc8a06d720": {
          "model_module": "@jupyter-widgets/controls",
          "model_name": "ProgressStyleModel",
          "state": {
            "_view_name": "StyleView",
            "_model_name": "ProgressStyleModel",
            "description_width": "initial",
            "_view_module": "@jupyter-widgets/base",
            "_model_module_version": "1.5.0",
            "_view_count": null,
            "_view_module_version": "1.2.0",
            "bar_color": null,
            "_model_module": "@jupyter-widgets/controls"
          }
        },
        "a9861f7d15714da5a9ff150727223d29": {
          "model_module": "@jupyter-widgets/base",
          "model_name": "LayoutModel",
          "state": {
            "_view_name": "LayoutView",
            "grid_template_rows": null,
            "right": null,
            "justify_content": null,
            "_view_module": "@jupyter-widgets/base",
            "overflow": null,
            "_model_module_version": "1.2.0",
            "_view_count": null,
            "flex_flow": null,
            "width": null,
            "min_width": null,
            "border": null,
            "align_items": null,
            "bottom": null,
            "_model_module": "@jupyter-widgets/base",
            "top": null,
            "grid_column": null,
            "overflow_y": null,
            "overflow_x": null,
            "grid_auto_flow": null,
            "grid_area": null,
            "grid_template_columns": null,
            "flex": null,
            "_model_name": "LayoutModel",
            "justify_items": null,
            "grid_row": null,
            "max_height": null,
            "align_content": null,
            "visibility": null,
            "align_self": null,
            "height": null,
            "min_height": null,
            "padding": null,
            "grid_auto_rows": null,
            "grid_gap": null,
            "max_width": null,
            "order": null,
            "_view_module_version": "1.2.0",
            "grid_template_areas": null,
            "object_position": null,
            "object_fit": null,
            "grid_auto_columns": null,
            "margin": null,
            "display": null,
            "left": null
          }
        },
        "d5b580ff779d4eedbd31f9b5fb1a448c": {
          "model_module": "@jupyter-widgets/controls",
          "model_name": "DescriptionStyleModel",
          "state": {
            "_view_name": "StyleView",
            "_model_name": "DescriptionStyleModel",
            "description_width": "",
            "_view_module": "@jupyter-widgets/base",
            "_model_module_version": "1.5.0",
            "_view_count": null,
            "_view_module_version": "1.2.0",
            "_model_module": "@jupyter-widgets/controls"
          }
        },
        "4050c0dadf8b4911948b645ccf0ad52b": {
          "model_module": "@jupyter-widgets/base",
          "model_name": "LayoutModel",
          "state": {
            "_view_name": "LayoutView",
            "grid_template_rows": null,
            "right": null,
            "justify_content": null,
            "_view_module": "@jupyter-widgets/base",
            "overflow": null,
            "_model_module_version": "1.2.0",
            "_view_count": null,
            "flex_flow": null,
            "width": null,
            "min_width": null,
            "border": null,
            "align_items": null,
            "bottom": null,
            "_model_module": "@jupyter-widgets/base",
            "top": null,
            "grid_column": null,
            "overflow_y": null,
            "overflow_x": null,
            "grid_auto_flow": null,
            "grid_area": null,
            "grid_template_columns": null,
            "flex": null,
            "_model_name": "LayoutModel",
            "justify_items": null,
            "grid_row": null,
            "max_height": null,
            "align_content": null,
            "visibility": null,
            "align_self": null,
            "height": null,
            "min_height": null,
            "padding": null,
            "grid_auto_rows": null,
            "grid_gap": null,
            "max_width": null,
            "order": null,
            "_view_module_version": "1.2.0",
            "grid_template_areas": null,
            "object_position": null,
            "object_fit": null,
            "grid_auto_columns": null,
            "margin": null,
            "display": null,
            "left": null
          }
        },
        "26bca326ae694fbf86ba7d05e206e897": {
          "model_module": "@jupyter-widgets/controls",
          "model_name": "HBoxModel",
          "state": {
            "_view_name": "HBoxView",
            "_dom_classes": [],
            "_model_name": "HBoxModel",
            "_view_module": "@jupyter-widgets/controls",
            "_model_module_version": "1.5.0",
            "_view_count": null,
            "_view_module_version": "1.5.0",
            "box_style": "",
            "layout": "IPY_MODEL_5e20994b6c944b91a5efc15c93855a70",
            "_model_module": "@jupyter-widgets/controls",
            "children": [
              "IPY_MODEL_8a704e2bca534c3f86578856ee0412ea",
              "IPY_MODEL_eaae3054fb5543e886936b1d84d9369a"
            ]
          }
        },
        "5e20994b6c944b91a5efc15c93855a70": {
          "model_module": "@jupyter-widgets/base",
          "model_name": "LayoutModel",
          "state": {
            "_view_name": "LayoutView",
            "grid_template_rows": null,
            "right": null,
            "justify_content": null,
            "_view_module": "@jupyter-widgets/base",
            "overflow": null,
            "_model_module_version": "1.2.0",
            "_view_count": null,
            "flex_flow": null,
            "width": null,
            "min_width": null,
            "border": null,
            "align_items": null,
            "bottom": null,
            "_model_module": "@jupyter-widgets/base",
            "top": null,
            "grid_column": null,
            "overflow_y": null,
            "overflow_x": null,
            "grid_auto_flow": null,
            "grid_area": null,
            "grid_template_columns": null,
            "flex": null,
            "_model_name": "LayoutModel",
            "justify_items": null,
            "grid_row": null,
            "max_height": null,
            "align_content": null,
            "visibility": null,
            "align_self": null,
            "height": null,
            "min_height": null,
            "padding": null,
            "grid_auto_rows": null,
            "grid_gap": null,
            "max_width": null,
            "order": null,
            "_view_module_version": "1.2.0",
            "grid_template_areas": null,
            "object_position": null,
            "object_fit": null,
            "grid_auto_columns": null,
            "margin": null,
            "display": null,
            "left": null
          }
        },
        "8a704e2bca534c3f86578856ee0412ea": {
          "model_module": "@jupyter-widgets/controls",
          "model_name": "FloatProgressModel",
          "state": {
            "_view_name": "ProgressView",
            "style": "IPY_MODEL_7fc3fa46952c46b08545517b572c17fa",
            "_dom_classes": [],
            "description": "100%",
            "_model_name": "FloatProgressModel",
            "bar_style": "success",
            "max": 50,
            "_view_module": "@jupyter-widgets/controls",
            "_model_module_version": "1.5.0",
            "value": 50,
            "_view_count": null,
            "_view_module_version": "1.5.0",
            "orientation": "horizontal",
            "min": 0,
            "description_tooltip": null,
            "_model_module": "@jupyter-widgets/controls",
            "layout": "IPY_MODEL_929227ebc35a403cb2f56e91391e91b4"
          }
        },
        "eaae3054fb5543e886936b1d84d9369a": {
          "model_module": "@jupyter-widgets/controls",
          "model_name": "HTMLModel",
          "state": {
            "_view_name": "HTMLView",
            "style": "IPY_MODEL_29f7eafe5aaa4378b02f6771e23f3820",
            "_dom_classes": [],
            "description": "",
            "_model_name": "HTMLModel",
            "placeholder": "​",
            "_view_module": "@jupyter-widgets/controls",
            "_model_module_version": "1.5.0",
            "value": " 50/50 [00:03&lt;00:00, 13.20it/s]",
            "_view_count": null,
            "_view_module_version": "1.5.0",
            "description_tooltip": null,
            "_model_module": "@jupyter-widgets/controls",
            "layout": "IPY_MODEL_21a50f6848724e0186b6d56fed1e6a70"
          }
        },
        "7fc3fa46952c46b08545517b572c17fa": {
          "model_module": "@jupyter-widgets/controls",
          "model_name": "ProgressStyleModel",
          "state": {
            "_view_name": "StyleView",
            "_model_name": "ProgressStyleModel",
            "description_width": "initial",
            "_view_module": "@jupyter-widgets/base",
            "_model_module_version": "1.5.0",
            "_view_count": null,
            "_view_module_version": "1.2.0",
            "bar_color": null,
            "_model_module": "@jupyter-widgets/controls"
          }
        },
        "929227ebc35a403cb2f56e91391e91b4": {
          "model_module": "@jupyter-widgets/base",
          "model_name": "LayoutModel",
          "state": {
            "_view_name": "LayoutView",
            "grid_template_rows": null,
            "right": null,
            "justify_content": null,
            "_view_module": "@jupyter-widgets/base",
            "overflow": null,
            "_model_module_version": "1.2.0",
            "_view_count": null,
            "flex_flow": null,
            "width": null,
            "min_width": null,
            "border": null,
            "align_items": null,
            "bottom": null,
            "_model_module": "@jupyter-widgets/base",
            "top": null,
            "grid_column": null,
            "overflow_y": null,
            "overflow_x": null,
            "grid_auto_flow": null,
            "grid_area": null,
            "grid_template_columns": null,
            "flex": null,
            "_model_name": "LayoutModel",
            "justify_items": null,
            "grid_row": null,
            "max_height": null,
            "align_content": null,
            "visibility": null,
            "align_self": null,
            "height": null,
            "min_height": null,
            "padding": null,
            "grid_auto_rows": null,
            "grid_gap": null,
            "max_width": null,
            "order": null,
            "_view_module_version": "1.2.0",
            "grid_template_areas": null,
            "object_position": null,
            "object_fit": null,
            "grid_auto_columns": null,
            "margin": null,
            "display": null,
            "left": null
          }
        },
        "29f7eafe5aaa4378b02f6771e23f3820": {
          "model_module": "@jupyter-widgets/controls",
          "model_name": "DescriptionStyleModel",
          "state": {
            "_view_name": "StyleView",
            "_model_name": "DescriptionStyleModel",
            "description_width": "",
            "_view_module": "@jupyter-widgets/base",
            "_model_module_version": "1.5.0",
            "_view_count": null,
            "_view_module_version": "1.2.0",
            "_model_module": "@jupyter-widgets/controls"
          }
        },
        "21a50f6848724e0186b6d56fed1e6a70": {
          "model_module": "@jupyter-widgets/base",
          "model_name": "LayoutModel",
          "state": {
            "_view_name": "LayoutView",
            "grid_template_rows": null,
            "right": null,
            "justify_content": null,
            "_view_module": "@jupyter-widgets/base",
            "overflow": null,
            "_model_module_version": "1.2.0",
            "_view_count": null,
            "flex_flow": null,
            "width": null,
            "min_width": null,
            "border": null,
            "align_items": null,
            "bottom": null,
            "_model_module": "@jupyter-widgets/base",
            "top": null,
            "grid_column": null,
            "overflow_y": null,
            "overflow_x": null,
            "grid_auto_flow": null,
            "grid_area": null,
            "grid_template_columns": null,
            "flex": null,
            "_model_name": "LayoutModel",
            "justify_items": null,
            "grid_row": null,
            "max_height": null,
            "align_content": null,
            "visibility": null,
            "align_self": null,
            "height": null,
            "min_height": null,
            "padding": null,
            "grid_auto_rows": null,
            "grid_gap": null,
            "max_width": null,
            "order": null,
            "_view_module_version": "1.2.0",
            "grid_template_areas": null,
            "object_position": null,
            "object_fit": null,
            "grid_auto_columns": null,
            "margin": null,
            "display": null,
            "left": null
          }
        }
      }
    },
    "accelerator": "GPU"
  },
  "cells": [
    {
      "cell_type": "markdown",
      "metadata": {
        "id": "bJ8h-735Wjcd"
      },
      "source": [
        " # Лабораторная работа 2. Обучение без учителя\n",
        "\n",
        "Результат лабораторной работы − отчет в формате Jupyter notebook'а. Постарайтесь сделать ваш отчет интересным рассказом, последовательно отвечающим на вопросы из заданий. Помимо ответов на вопросы, в отчете так же должен быть код, однако чем меньше кода, тем лучше всем: мне − меньше проверять, вам —  проще найти ошибку или дополнить эксперимент. При проверке оценивается четкость ответов на вопросы, аккуратность отчета и кода.\n",
        "\n",
        "## Оценивание и штрафы\n",
        "\n",
        "* Каждая из задач имеет определенную «стоимость» (указана в скобках около задачи)\n",
        "* Максимально допустимая оценка за работу — 20 баллов\n",
        "* При сдаче до soft deadline можно получить максимум 100% баллов\n",
        "* При просрочке не более, чем на 5 минут — максимум 90% баллов\n",
        "* При просрочке не более, чем на 1 час — максимум 80% баллов\n",
        "* При сдаче до hard deadline — максиму 70% баллов\n",
        "* Сдавать задание после hard deadline нельзя\n",
        "* «Похожие» решения считаются плагиатом и все задействованные студенты (в том числе те, у кого списали) не могут получить за него больше 0 баллов и понижают карму\n",
        "* Если вы нашли решение какого-то из заданий в открытом источнике, необходимо прислать ссылку на этот источник (скорее всего вы будете не единственным, кто это нашел, поэтому чтобы исключить подозрение в плагиате, необходима ссылка на источник)\n",
        "* Не оцениваются задания с удалёнными формулировкам\n",
        "* Не оценивается лабораторная работа целиком, если она была выложена в открытый источник"
      ]
    },
    {
      "cell_type": "markdown",
      "metadata": {
        "id": "H_QqJHr7Wjci"
      },
      "source": [
        "## Кластеризация\n",
        "\n",
        "Задача [кластеризации](https://en.wikipedia.org/wiki/Cluster_analysis) данных является одним из примеров задач обучения \"без учителя\". Она заключается в разбиении множества объектов на кластеры, при этом предполагается, что внутри одного кластера будут находиться похожие между собой объекты.\n",
        "\n",
        "### Выбор числа кластеров\n",
        "\n",
        "Для некоторых алгоритмов кластеризации число кластеров является гиперпараметром (например, в случае KMeans). Поэтому для выбора количества кластеров может быть использован следующий подход: при фиксированной метрике качества для разного числа кластеров вычисляется кластеризация и выбирается то количество кластеров, начиная с которого качество \"стабилизируется\".\n",
        "\n",
        "### Метрики качества\n",
        "\n",
        "При оценивании качества кластеризации следует учитывать такие факты как:\n",
        " - объекты одного кластера должны быть более похожи, чем объекты других кластеров, относительно некоторой заданной метрики похожести\n",
        " - метрика не должна учитывать абсолютные значения меток объектов, попавших в кластер (в случае, если истинные метки известны)\n",
        "\n",
        "При выполнении задания для оценки качества получившейся кластеризации воспользуемся следующими метриками:\n",
        " - [Adjusted Rand index](http://scikit-learn.org/stable/modules/clustering.html#adjusted-rand-index) \n",
        " - [Homogeneity, completeness and V-measure](http://scikit-learn.org/stable/modules/clustering.html#homogeneity-completeness-and-v-measure)\n",
        " - [Fowlkes-Mallows scores](https://scikit-learn.org/stable/modules/clustering.html#fowlkes-mallows-scores)\n",
        " \n",
        "### Кластеризация изображений\n",
        "\n",
        "Загрузите набор данных [digits](http://scikit-learn.org/stable/modules/generated/sklearn.datasets.load_digits.html). Перед применением алгоритмов не забудьте перемешать изображения."
      ]
    },
    {
      "cell_type": "markdown",
      "metadata": {
        "id": "gFsfmqitWjck"
      },
      "source": [
        "**Задание 1. (1 балл)** Кластеризуйте изображения при помощи алгоритма [KMeans](http://scikit-learn.org/stable/modules/generated/sklearn.cluster.KMeans.html): \n",
        "\n",
        "- Подберите оптимальное число кластеров (см. пункт \"Выбор числа кластеров\")\n",
        "- Рассмотрите различные способы выбора начального приближения (параметр *init*)\n",
        "- Визуализируйте изображения, соответствующие центроидам лучшей кластеризации\n",
        "- Визуализируйте несколько изображений, которые во всех случаях были отнесены к неправильному кластеру (объект назовем ошибочно отнесенным, если он имеет иную метку класса, нежели большая часть объектов в кластере). Можете ли вы пояснить почему так произошло?"
      ]
    },
    {
      "cell_type": "code",
      "metadata": {
        "id": "uayp6nhyWjcn"
      },
      "source": [
        "import numpy as np\n",
        "\n",
        "from sklearn import datasets\n",
        "from sklearn import metrics\n",
        "from sklearn.cluster import KMeans"
      ],
      "execution_count": 1,
      "outputs": []
    },
    {
      "cell_type": "code",
      "metadata": {
        "id": "6K59tVA222Hm",
        "outputId": "da391382-720a-4513-b2e6-1991c1633225",
        "colab": {
          "base_uri": "https://localhost:8080/"
        }
      },
      "source": [
        "data = datasets.load_digits()\n",
        "X = data['data']\n",
        "labels_true = data['target']\n",
        "\n",
        "# shuffling\n",
        "p = np.random.permutation(X.shape[0])\n",
        "X = X[p]\n",
        "labels_true = labels_true[p]\n",
        "\n",
        "print(X.shape, labels_true.shape)\n",
        "print(X[0])\n",
        "print(labels_true[:10])\n",
        "print(np.unique(labels_true))"
      ],
      "execution_count": 2,
      "outputs": [
        {
          "output_type": "stream",
          "text": [
            "(1797, 64) (1797,)\n",
            "[ 0.  0. 13. 14.  3.  0.  0.  0.  0.  4. 16. 15. 11.  0.  0.  0.  0.  7.\n",
            " 12.  4. 16.  0.  0.  0.  0.  3.  6.  4. 16.  0.  0.  0.  0.  0.  0.  9.\n",
            " 12.  0.  0.  0.  0.  0.  1. 14.  7.  0.  0.  0.  0.  1. 14. 16. 10. 10.\n",
            "  2.  0.  0.  0. 11. 12. 14. 14.  6.  0.]\n",
            "[2 8 1 6 1 7 1 6 6 6]\n",
            "[0 1 2 3 4 5 6 7 8 9]\n"
          ],
          "name": "stdout"
        }
      ]
    },
    {
      "cell_type": "code",
      "metadata": {
        "id": "EqECEeyjCNUD"
      },
      "source": [
        "import matplotlib.pyplot as plt\n",
        "\n",
        "from tqdm.notebook import tqdm"
      ],
      "execution_count": 3,
      "outputs": []
    },
    {
      "cell_type": "code",
      "metadata": {
        "id": "5HA9B90f5E5R",
        "outputId": "3039b8e9-22bc-498a-b0e1-814ff2f5e665",
        "colab": {
          "base_uri": "https://localhost:8080/",
          "height": 66,
          "referenced_widgets": [
            "2a5fd7e4e14745259110f3c214f02f73",
            "c28a739e90ef4884a27a8a031fc0b385",
            "5f1431c4a9d1480589e0753906973e5f",
            "655615bc86b14247957262b29286c434",
            "fc3e1226d06540cd979a6cfc8a06d720",
            "a9861f7d15714da5a9ff150727223d29",
            "d5b580ff779d4eedbd31f9b5fb1a448c",
            "4050c0dadf8b4911948b645ccf0ad52b"
          ]
        }
      },
      "source": [
        "# searching for best k\n",
        "# we'll see on amount of clusters higher then 10 as we assume that we don't know that it is digits\n",
        "\n",
        "adj_scores = []\n",
        "v_scores = []\n",
        "fm_scores = []\n",
        "\n",
        "min_clusters = 2\n",
        "max_clusters = 25\n",
        "\n",
        "for k in tqdm(range(min_clusters, max_clusters + 1)):\n",
        "  kmeans = KMeans(n_clusters=k, random_state=42).fit(X)\n",
        "  labels_pred = kmeans.labels_\n",
        "\n",
        "  adj_scores.append(metrics.adjusted_rand_score(labels_true, labels_pred))\n",
        "  v_scores.append(metrics.v_measure_score(labels_true, labels_pred))\n",
        "  fm_scores.append(metrics.fowlkes_mallows_score(labels_true, labels_pred))"
      ],
      "execution_count": 4,
      "outputs": [
        {
          "output_type": "display_data",
          "data": {
            "application/vnd.jupyter.widget-view+json": {
              "model_id": "2a5fd7e4e14745259110f3c214f02f73",
              "version_minor": 0,
              "version_major": 2
            },
            "text/plain": [
              "HBox(children=(FloatProgress(value=0.0, max=24.0), HTML(value='')))"
            ]
          },
          "metadata": {
            "tags": []
          }
        },
        {
          "output_type": "stream",
          "text": [
            "\n"
          ],
          "name": "stdout"
        }
      ]
    },
    {
      "cell_type": "code",
      "metadata": {
        "id": "MHXOgXBgKKC6"
      },
      "source": [
        "def metrics_speed(metr):\n",
        "  metr = np.array(metr)\n",
        "  return np.abs(metr[1:-1] - metr[2:]) / np.abs(metr[:-2] - metr[1:-1])"
      ],
      "execution_count": 5,
      "outputs": []
    },
    {
      "cell_type": "code",
      "metadata": {
        "id": "OaD0WWllCV1I",
        "outputId": "4b6d2d94-18c9-49cb-ed62-edc2d5cf9073",
        "colab": {
          "base_uri": "https://localhost:8080/",
          "height": 320
        }
      },
      "source": [
        "plt.figure(figsize=(7, 5))\n",
        "plt.plot(range(min_clusters, max_clusters + 1), adj_scores)\n",
        "plt.plot(range(min_clusters, max_clusters + 1), v_scores)\n",
        "plt.plot(range(min_clusters, max_clusters + 1), fm_scores)\n",
        "plt.legend(['Adjusted Rand index', 'V-measure', 'Fowlkes-Mallows scores'])\n",
        "plt.grid()\n",
        "plt.show()"
      ],
      "execution_count": 6,
      "outputs": [
        {
          "output_type": "display_data",
          "data": {
            "image/png": "[encoded data removed]",
            "text/plain": [
              "<Figure size 504x360 with 1 Axes>"
            ]
          },
          "metadata": {
            "tags": [],
            "needs_background": "light"
          }
        }
      ]
    },
    {
      "cell_type": "markdown",
      "metadata": {
        "id": "aSfbq3kKP6ia"
      },
      "source": [
        "Посмотрев на этот график, в качестве параметра n_clusters можно выбрать значение 12, так как это значения, которое дает нас максимум метрики. Также после значения n_clusters = 12 качество кластеризации начинает заметно падать и скакать."
      ]
    },
    {
      "cell_type": "code",
      "metadata": {
        "id": "phkBP7JVNl4W",
        "outputId": "b7726b98-0403-4a8a-9871-ba2561f31d55",
        "colab": {
          "base_uri": "https://localhost:8080/"
        }
      },
      "source": [
        "print(f'Adjusted Rand index : max = {np.max(adj_scores):.5f}, n_clusters = {np.argmax(adj_scores) + 2}.')\n",
        "print(f'V-measure: max = {np.max(v_scores):.5f}, n_clusters = {np.argmax(v_scores) + 2}.')\n",
        "print(f'Fowlkes-Mallows scores: max = {np.max(fm_scores):.5f}, n_clusters = {np.argmax(fm_scores) + 2}.')"
      ],
      "execution_count": 7,
      "outputs": [
        {
          "output_type": "stream",
          "text": [
            "Adjusted Rand index : max = 0.72304, n_clusters = 11.\n",
            "V-measure: max = 0.78168, n_clusters = 16.\n",
            "Fowlkes-Mallows scores: max = 0.75011, n_clusters = 11.\n"
          ],
          "name": "stdout"
        }
      ]
    },
    {
      "cell_type": "markdown",
      "metadata": {
        "id": "Z1ULpVTBRTAI"
      },
      "source": [
        "Смотрим на график скорости изменения метрики. Видим, что после значения n_clusters = 10 скорость начинает сильно скакать."
      ]
    },
    {
      "cell_type": "code",
      "metadata": {
        "id": "igh2Q6zXKT3L",
        "outputId": "e4902f53-b218-458f-b379-6142ee15384f",
        "colab": {
          "base_uri": "https://localhost:8080/"
        }
      },
      "source": [
        "adj_speed = metrics_speed(adj_scores)\n",
        "v_speed = metrics_speed(v_scores)\n",
        "fm_speed = metrics_speed(fm_scores)\n",
        "\n",
        "print(f'Adjusted Rand index speed: min = {np.min(adj_speed):.5f}, n_clusters = {np.argmin(adj_speed) + 2}.')\n",
        "print(f'V-measure speed: min = {np.min(v_speed):.5f}, n_clusters = {np.argmin(v_speed) + 2}.')\n",
        "print(f'Fowlkes-Mallows scores speed: min = {np.min(fm_speed):.5f}, n_clusters = {np.argmin(fm_speed) + 2}.')"
      ],
      "execution_count": 9,
      "outputs": [
        {
          "output_type": "stream",
          "text": [
            "Adjusted Rand index speed: min = 0.02733, n_clusters = 10.\n",
            "V-measure speed: min = 0.05680, n_clusters = 16.\n",
            "Fowlkes-Mallows scores speed: min = 0.00599, n_clusters = 16.\n"
          ],
          "name": "stdout"
        }
      ]
    },
    {
      "cell_type": "code",
      "metadata": {
        "id": "_w2B9weQO90j",
        "outputId": "b05a15bd-63fe-4a34-ac12-f5ea964cef44",
        "colab": {
          "base_uri": "https://localhost:8080/",
          "height": 345
        }
      },
      "source": [
        "fig, axes = plt.subplots(1, 3, figsize=(15, 7), sharey=True)\n",
        "axes[0].plot(range(min_clusters + 1, max_clusters), adj_speed)\n",
        "axes[0].set_title('Adjusted Rand index')\n",
        "axes[0].grid()\n",
        "axes[1].plot(range(min_clusters + 1, max_clusters), v_speed)\n",
        "axes[1].set_title('V-measure')\n",
        "axes[1].grid()\n",
        "axes[2].plot(range(min_clusters + 1, max_clusters), fm_speed)\n",
        "axes[2].set_title('Fowlkes-Mallows scores')\n",
        "axes[2].grid()\n",
        "plt.show()"
      ],
      "execution_count": 10,
      "outputs": [
        {
          "output_type": "display_data",
          "data": {
            "image/png": "[encoded data removed]",
            "text/plain": [
              "<Figure size 1080x504 with 3 Axes>"
            ]
          },
          "metadata": {
            "tags": [],
            "needs_background": "light"
          }
        }
      ]
    },
    {
      "cell_type": "code",
      "metadata": {
        "id": "UoAuoP8QRXvk",
        "outputId": "874dc170-c2c9-48af-be0a-59a1e069aad9",
        "colab": {
          "base_uri": "https://localhost:8080/"
        }
      },
      "source": [
        "init_params = ['k-means++', 'random']\n",
        "for init_param in init_params:\n",
        "  kmeans = KMeans(n_clusters=12, init=init_param, random_state=42).fit(X)\n",
        "  labels_pred = kmeans.labels_\n",
        "\n",
        "  print(init_param)\n",
        "  print(f'Adjusted Rand index: {metrics.adjusted_rand_score(labels_true, labels_pred):.5f}.')\n",
        "  print(f'V-measure speed: {metrics.v_measure_score(labels_true, labels_pred):.5f}.')\n",
        "  print(f'Fowlkes-Mallows scores speed: {metrics.fowlkes_mallows_score(labels_true, labels_pred):.5f}.')\n",
        "  print()"
      ],
      "execution_count": 11,
      "outputs": [
        {
          "output_type": "stream",
          "text": [
            "k-means++\n",
            "Adjusted Rand index: 0.72151.\n",
            "V-measure speed: 0.77131.\n",
            "Fowlkes-Mallows scores speed: 0.74895.\n",
            "\n",
            "random\n",
            "Adjusted Rand index: 0.71749.\n",
            "V-measure speed: 0.76703.\n",
            "Fowlkes-Mallows scores speed: 0.74534.\n",
            "\n"
          ],
          "name": "stdout"
        }
      ]
    },
    {
      "cell_type": "markdown",
      "metadata": {
        "id": "ADqPO9jaVZUe"
      },
      "source": [
        "И по фото-финишу инициализация 'k-means++' вырывается вперед, обогнав 'random' в сотые доли метрики!"
      ]
    },
    {
      "cell_type": "code",
      "metadata": {
        "id": "Cl5pqyrEVt50"
      },
      "source": [
        "kmeans = KMeans(n_clusters=12, init='k-means++', random_state=0).fit(X)"
      ],
      "execution_count": 12,
      "outputs": []
    },
    {
      "cell_type": "code",
      "metadata": {
        "id": "JJsrdbcGWjKc"
      },
      "source": [
        "centers = kmeans.cluster_centers_"
      ],
      "execution_count": 13,
      "outputs": []
    },
    {
      "cell_type": "code",
      "metadata": {
        "id": "xwdpOvEVYsSf",
        "outputId": "f2c80ef2-5228-487f-93e1-61873d58dc11",
        "colab": {
          "base_uri": "https://localhost:8080/",
          "height": 298
        }
      },
      "source": [
        "fig, axes = plt.subplots(2, 6, figsize=(15, 7), sharey=True)\n",
        "\n",
        "i = 0\n",
        "for center in centers:\n",
        "  axes[i//6, i%6].imshow(center.reshape(8, 8))\n",
        "  i += 1"
      ],
      "execution_count": 14,
      "outputs": [
        {
          "output_type": "display_data",
          "data": {
            "image/png": "[encoded data removed]",
            "text/plain": [
              "<Figure size 1080x504 with 12 Axes>"
            ]
          },
          "metadata": {
            "tags": [],
            "needs_background": "light"
          }
        }
      ]
    },
    {
      "cell_type": "markdown",
      "metadata": {
        "id": "_QHcLlVuZg28"
      },
      "source": [
        "В центрах кластеров можно четко увидеть цифры: 0, 8, 6, 5, 4, 3.\n",
        "Можно увидеть два кластера 1 и еще два для 7. И, вероятно, кластер для 2 и кластре для 9."
      ]
    },
    {
      "cell_type": "code",
      "metadata": {
        "id": "-PRN9WdMZgkV"
      },
      "source": [
        "clusters = dict()\n",
        "for ind, (true, pred) in enumerate(zip(labels_true, labels_pred)):\n",
        "  clusters.setdefault(pred, [])\n",
        "  clusters[pred].append([ind, pred, true])"
      ],
      "execution_count": 15,
      "outputs": []
    },
    {
      "cell_type": "code",
      "metadata": {
        "id": "JTaBMgHfeuJD"
      },
      "source": [
        "def analize_cluster(X, clusters, cluster_label):\n",
        "  labels = np.array(clusters[cluster_label])[:, 2]\n",
        "  trues = np.unique(labels)\n",
        "  print(trues)\n",
        "\n",
        "  parts = []\n",
        "  for true in trues:\n",
        "    parts.append(np.count_nonzero(labels == true) / len(labels))\n",
        "  \n",
        "  print(parts)\n",
        "  print(f'Cluster number -> {trues[np.argmax(parts)]}')\n",
        "  return trues[np.argmax(parts)]"
      ],
      "execution_count": 18,
      "outputs": []
    },
    {
      "cell_type": "code",
      "metadata": {
        "id": "x6WFqH7igGX8",
        "outputId": "b191ec39-606d-4aac-e457-c6fb7d165cde",
        "colab": {
          "base_uri": "https://localhost:8080/"
        }
      },
      "source": [
        "analize_cluster(X, clusters, 0)\n",
        "analize_cluster(X, clusters, 1)\n",
        "analize_cluster(X, clusters, 2)\n",
        "analize_cluster(X, clusters, 3)\n",
        "analize_cluster(X, clusters, 4)\n",
        "analize_cluster(X, clusters, 5)\n",
        "analize_cluster(X, clusters, 6)\n",
        "analize_cluster(X, clusters, 7)\n",
        "analize_cluster(X, clusters, 8)\n",
        "analize_cluster(X, clusters, 9)\n",
        "print()"
      ],
      "execution_count": 20,
      "outputs": [
        {
          "output_type": "stream",
          "text": [
            "[1 2 4 6 7 8]\n",
            "[0.746268656716418, 0.007462686567164179, 0.03731343283582089, 0.022388059701492536, 0.08955223880597014, 0.09701492537313433]\n",
            "Cluster number -> 1\n",
            "[0 4 5]\n",
            "[0.006060606060606061, 0.9878787878787879, 0.006060606060606061]\n",
            "Cluster number -> 4\n",
            "[1 5 6 8]\n",
            "[0.011111111111111112, 0.005555555555555556, 0.9777777777777777, 0.005555555555555556]\n",
            "Cluster number -> 6\n",
            "[1 2 3 8]\n",
            "[0.13793103448275862, 0.8390804597701149, 0.005747126436781609, 0.017241379310344827]\n",
            "Cluster number -> 2\n",
            "[2 3 4 7 8 9]\n",
            "[0.010810810810810811, 0.02702702702702703, 0.02702702702702703, 0.8810810810810811, 0.010810810810810811, 0.043243243243243246]\n",
            "Cluster number -> 7\n",
            "[1 2 4 8 9]\n",
            "[0.6206896551724138, 0.022988505747126436, 0.05747126436781609, 0.06896551724137931, 0.22988505747126436]\n",
            "Cluster number -> 1\n",
            "[1 2 3 5 9]\n",
            "[0.005917159763313609, 0.0650887573964497, 0.9053254437869822, 0.005917159763313609, 0.01775147928994083]\n",
            "Cluster number -> 3\n",
            "[0 2 6]\n",
            "[0.9888268156424581, 0.00558659217877095, 0.00558659217877095]\n",
            "Cluster number -> 0\n",
            "[3 5 8 9]\n",
            "[0.029411764705882353, 0.9411764705882353, 0.00980392156862745, 0.0196078431372549]\n",
            "Cluster number -> 5\n",
            "[2 3 5 8 9]\n",
            "[0.011428571428571429, 0.06285714285714286, 0.045714285714285714, 0.08, 0.8]\n",
            "Cluster number -> 9\n",
            "\n"
          ],
          "name": "stdout"
        }
      ]
    },
    {
      "cell_type": "code",
      "metadata": {
        "id": "a3ZUiDxMtuUk"
      },
      "source": [
        "min_clusters = 5\n",
        "max_clusters = 15\n",
        "\n",
        "for k in tqdm(range(min_clusters, max_clusters + 1)):\n",
        "  kmeans = KMeans(n_clusters=k, random_state=42).fit(X)\n",
        "  labels_pred = kmeans.labels_\n",
        "\n",
        "  clusters = dict()\n",
        "  for ind, (true, pred) in enumerate(zip(labels_true, labels_pred)):\n",
        "    clusters.setdefault(pred, [])\n",
        "    clusters[pred].append([ind, pred, true])\n",
        "\n",
        "  cluster_to_digit = {clst : analize_cluster(X, clusters, clst) for clst in clusters.keys()}\n",
        "\n",
        "  not_in_good_cluster = set(range(len(X)))\n",
        "  for clst, obj in clusters.items():\n",
        "    for ind, el_pred, el_true in obj:\n",
        "      if ind in not_in_good_cluster and cluster_to_digit[el_pred] == el_true:\n",
        "        not_in_good_cluster.remove(ind)"
      ],
      "execution_count": null,
      "outputs": []
    },
    {
      "cell_type": "markdown",
      "metadata": {
        "id": "BykZz5AIyd7o"
      },
      "source": [
        "Выберем рандомные цифры, которые не совпадают с мажоритарным класс в кластере, и визуализируем их."
      ]
    },
    {
      "cell_type": "code",
      "metadata": {
        "id": "sEXdSNcOxORy",
        "outputId": "5afcd0db-9feb-457d-f8cd-3b5a95767a4c",
        "colab": {
          "base_uri": "https://localhost:8080/",
          "height": 318
        }
      },
      "source": [
        "import random\n",
        "\n",
        "fig, axes = plt.subplots(2, 5, figsize=(15, 7), sharey=True)\n",
        "\n",
        "i = 0\n",
        "random.seed(a=42, version=2)\n",
        "for dig in X[random.sample(not_in_good_cluster, 10)]:\n",
        "  axes[i//5, i%5].imshow(dig.reshape(8, 8))\n",
        "  i += 1"
      ],
      "execution_count": 35,
      "outputs": [
        {
          "output_type": "display_data",
          "data": {
            "image/png": "[encoded data removed]",
            "text/plain": [
              "<Figure size 1080x504 with 10 Axes>"
            ]
          },
          "metadata": {
            "tags": [],
            "needs_background": "light"
          }
        }
      ]
    },
    {
      "cell_type": "markdown",
      "metadata": {
        "id": "ENyE3Zj0zoM0"
      },
      "source": [
        "Как мы видим, все эти цифры написаны как-то криво косо. Например, вроде как 9 справа снизу, но возможно и 3, или 1."
      ]
    },
    {
      "cell_type": "markdown",
      "metadata": {
        "id": "q0AFH7DKWjc2"
      },
      "source": [
        "**Задание 2. (1 балл)** Кластеризуйте изображения при помощи алгоритма [DBSCAN](https://scikit-learn.org/stable/modules/generated/sklearn.cluster.DBSCAN.html#sklearn.cluster.DBSCAN)\n",
        "\n",
        "Подберите параметры min_samples и eps, используя следующий метод (или его вариацию):\n",
        "\n",
        "* Выберите min_samples и прокомментируйте свой выбор\n",
        "* Вычислите среднее расстояние по min_samples ближайшим соседям для каждой точки\n",
        "* Отсортируйте полученные на предыдушем шаге значения по возрастанию и визуализируйте\n",
        "* Выберите eps из области с максимальной кривизной на графике из предыдущего пункта\n",
        "\n",
        "Оцените качество полученной кластеризации и сравните его с качеством полученным при использовании KMeans.\n"
      ]
    },
    {
      "cell_type": "code",
      "metadata": {
        "id": "Uc-x890KWjc3",
        "outputId": "d5d048e2-a84c-4597-e1f7-7c858cefb50c",
        "colab": {
          "base_uri": "https://localhost:8080/",
          "height": 66,
          "referenced_widgets": [
            "26bca326ae694fbf86ba7d05e206e897",
            "5e20994b6c944b91a5efc15c93855a70",
            "8a704e2bca534c3f86578856ee0412ea",
            "eaae3054fb5543e886936b1d84d9369a",
            "7fc3fa46952c46b08545517b572c17fa",
            "929227ebc35a403cb2f56e91391e91b4",
            "29f7eafe5aaa4378b02f6771e23f3820",
            "21a50f6848724e0186b6d56fed1e6a70"
          ]
        }
      },
      "source": [
        "from sklearn.cluster import DBSCAN\n",
        "\n",
        "# searching for best min_samples\n",
        "adj_scores = []\n",
        "v_scores = []\n",
        "fm_scores = []\n",
        "\n",
        "min_num = 1\n",
        "max_num = 50\n",
        "\n",
        "for min_samples in tqdm(range(min_num, max_num + 1)):\n",
        "  dbscan = DBSCAN(min_samples=min_samples).fit(X)\n",
        "  labels_pred = dbscan.labels_\n",
        "\n",
        "  adj_scores.append(metrics.adjusted_rand_score(labels_true, labels_pred))\n",
        "  v_scores.append(metrics.v_measure_score(labels_true, labels_pred))\n",
        "  fm_scores.append(metrics.fowlkes_mallows_score(labels_true, labels_pred))"
      ],
      "execution_count": 47,
      "outputs": [
        {
          "output_type": "display_data",
          "data": {
            "application/vnd.jupyter.widget-view+json": {
              "model_id": "26bca326ae694fbf86ba7d05e206e897",
              "version_minor": 0,
              "version_major": 2
            },
            "text/plain": [
              "HBox(children=(FloatProgress(value=0.0, max=50.0), HTML(value='')))"
            ]
          },
          "metadata": {
            "tags": []
          }
        },
        {
          "output_type": "stream",
          "text": [
            "\n"
          ],
          "name": "stdout"
        }
      ]
    },
    {
      "cell_type": "code",
      "metadata": {
        "id": "tqSfVJyt1fpS",
        "outputId": "856c6479-d723-47ce-924b-90cbf46d0c4b",
        "colab": {
          "base_uri": "https://localhost:8080/",
          "height": 320
        }
      },
      "source": [
        "plt.figure(figsize=(7, 5))\n",
        "plt.plot(range(min_num, max_num + 1), adj_scores)\n",
        "plt.plot(range(min_num, max_num + 1), v_scores)\n",
        "plt.plot(range(min_num, max_num + 1), fm_scores)\n",
        "plt.legend(['Adjusted Rand index', 'V-measure', 'Fowlkes-Mallows scores'])\n",
        "plt.grid()\n",
        "plt.show()"
      ],
      "execution_count": 48,
      "outputs": [
        {
          "output_type": "display_data",
          "data": {
            "image/png": "[encoded data removed]",
            "text/plain": [
              "<Figure size 504x360 with 1 Axes>"
            ]
          },
          "metadata": {
            "tags": [],
            "needs_background": "light"
          }
        }
      ]
    },
    {
      "cell_type": "markdown",
      "metadata": {
        "id": "Glay5hc22YLz"
      },
      "source": [
        "По графику получается, что нам надо выбрать min_samples=2."
      ]
    },
    {
      "cell_type": "code",
      "metadata": {
        "id": "HhfvFdSW9idy"
      },
      "source": [
        "from sklearn.metrics.pairwise import euclidean_distances\n",
        "\n",
        "def get_distance_for_core_obj(X, min_samples=5):\n",
        "  dist = euclidean_distances(X)\n",
        "  cores = np.argsort(dist, axis=1)[:, 1:(min_samples+1)]\n",
        "  mean_dist = []\n",
        "  \n",
        "  for inds, d in zip(cores, dist):\n",
        "    mean_dist.append(d[inds].mean())\n",
        "  \n",
        "  return mean_dist"
      ],
      "execution_count": 106,
      "outputs": []
    },
    {
      "cell_type": "code",
      "metadata": {
        "id": "ROY8zl4LELtf"
      },
      "source": [
        " mean_dist = get_distance_for_core_obj(X, 5)"
      ],
      "execution_count": 107,
      "outputs": []
    },
    {
      "cell_type": "code",
      "metadata": {
        "id": "Kaul6mBCGkAH",
        "outputId": "f12d7f7d-bb76-4654-d4c4-8a1a23d41973",
        "colab": {
          "base_uri": "https://localhost:8080/",
          "height": 336
        }
      },
      "source": [
        "plt.figure(figsize=(7, 5))\n",
        "plt.plot(np.sort(mean_dist))\n",
        "plt.title('Mean distance')\n",
        "plt.ylabel('Distance')\n",
        "plt.grid()\n",
        "plt.show()"
      ],
      "execution_count": 108,
      "outputs": [
        {
          "output_type": "display_data",
          "data": {
            "image/png": "[encoded data removed]",
            "text/plain": [
              "<Figure size 504x360 with 1 Axes>"
            ]
          },
          "metadata": {
            "tags": [],
            "needs_background": "light"
          }
        }
      ]
    },
    {
      "cell_type": "markdown",
      "metadata": {
        "id": "zdQ01xfpHmp5"
      },
      "source": [
        "Найдем точку перегиба. Рассмотрим отрезок: [1000, 1250].\n"
      ]
    },
    {
      "cell_type": "code",
      "metadata": {
        "id": "_iT1N-I5H2KX",
        "outputId": "fb4fbcab-b291-4202-854d-59401cb52661",
        "colab": {
          "base_uri": "https://localhost:8080/",
          "height": 336
        }
      },
      "source": [
        "plt.figure(figsize=(7, 5))\n",
        "plt.plot(np.sort(mean_dist)[1000:1250])\n",
        "plt.title('Mean distance')\n",
        "plt.ylabel('Distance')\n",
        "plt.grid()\n",
        "plt.show()"
      ],
      "execution_count": 118,
      "outputs": [
        {
          "output_type": "display_data",
          "data": {
            "image/png": "[encoded data removed]",
            "text/plain": [
              "<Figure size 504x360 with 1 Axes>"
            ]
          },
          "metadata": {
            "tags": [],
            "needs_background": "light"
          }
        }
      ]
    },
    {
      "cell_type": "code",
      "metadata": {
        "id": "QLgqnOr4IqCf",
        "outputId": "e22cb521-53bd-4e77-f2da-37a2e524421a",
        "colab": {
          "base_uri": "https://localhost:8080/"
        }
      },
      "source": [
        "eps = np.sort(mean_dist)[1150]\n",
        "eps"
      ],
      "execution_count": 119,
      "outputs": [
        {
          "output_type": "execute_result",
          "data": {
            "text/plain": [
              "19.85294362908308"
            ]
          },
          "metadata": {
            "tags": []
          },
          "execution_count": 119
        }
      ]
    },
    {
      "cell_type": "code",
      "metadata": {
        "id": "hR-gLCBMJGyD",
        "outputId": "babe9eef-8819-4662-ccf7-a83d739bfdcb",
        "colab": {
          "base_uri": "https://localhost:8080/"
        }
      },
      "source": [
        "dbscan = DBSCAN(min_samples=2, eps=21).fit(X)\n",
        "labels_pred = dbscan.labels_\n",
        "\n",
        "print(metrics.fowlkes_mallows_score(labels_true, labels_pred))"
      ],
      "execution_count": 120,
      "outputs": [
        {
          "output_type": "stream",
          "text": [
            "0.6488813024277471\n"
          ],
          "name": "stdout"
        }
      ]
    },
    {
      "cell_type": "markdown",
      "metadata": {
        "id": "SSFARbVKWjc-"
      },
      "source": [
        "**Задание 3. (1 балл)** \n",
        "\n",
        "- Примените преобразования [PCA](http://scikit-learn.org/stable/modules/generated/sklearn.decomposition.PCA.html) и [tSNE](https://scikit-learn.org/stable/modules/generated/sklearn.manifold.TSNE.html) для сокращения размерности векторного представления до 2-х и визуализируйте кластеры\n",
        "- Подайте полученные представления объектов на вход алгоритмам [KMeans](http://scikit-learn.org/stable/modules/generated/sklearn.cluster.KMeans.html), [DBSCAN](http://scikit-learn.org/stable/modules/generated/sklearn.cluster.DBSCAN.html) и визуализируйте кластеры, выделленные каждым алгоритмом\n",
        "- Сравните новые и предыдущие результаты. Нашлась ли пара \"представление\"—\"алгоритм\", превосходящая другие по всем метрикам?\n",
        "- Являются ли все метрики согласованными? Можете ли вы объяснить почему?"
      ]
    },
    {
      "cell_type": "code",
      "metadata": {
        "id": "X0UcTvsqWjdA"
      },
      "source": [
        "from sklearn.decomposition import PCA\n",
        "from sklearn.manifold import TSNE"
      ],
      "execution_count": 121,
      "outputs": []
    },
    {
      "cell_type": "code",
      "metadata": {
        "id": "VGrWok4pPzHd"
      },
      "source": [
        "def plot_results(X, labels, title):\n",
        "  plt.figure(figsize=(7, 5))\n",
        "  plt.scatter(X[:, 0], X[:, 1], c=labels)\n",
        "  plt.title(title)\n",
        "  plt.show()"
      ],
      "execution_count": 153,
      "outputs": []
    },
    {
      "cell_type": "markdown",
      "metadata": {
        "id": "aIzO73ZAPIu3"
      },
      "source": [
        "***PCA:***"
      ]
    },
    {
      "cell_type": "code",
      "metadata": {
        "id": "4i0z4I3jPR42"
      },
      "source": [
        "pca = PCA(n_components=2)\n",
        "X_pca = pca.fit_transform(X)"
      ],
      "execution_count": 154,
      "outputs": []
    },
    {
      "cell_type": "code",
      "metadata": {
        "id": "iLzlgoaGPljB"
      },
      "source": [
        "kmeans = KMeans(n_clusters=10, init='k-means++', random_state=42).fit(X_pca)\n",
        "labels = kmeans.labels_"
      ],
      "execution_count": 155,
      "outputs": []
    },
    {
      "cell_type": "code",
      "metadata": {
        "id": "IiRv4LjRQSrx",
        "outputId": "a4d1a4f8-dcdf-4f12-e6bc-3fdf4f707693",
        "colab": {
          "base_uri": "https://localhost:8080/",
          "height": 388
        }
      },
      "source": [
        "plot_results(X_pca, labels, 'PCA + KMeans')\n",
        "print(f'Adjusted Rand index: {metrics.adjusted_rand_score(labels_true, labels):.5f}.')\n",
        "print(f'V-measure speed: {metrics.v_measure_score(labels_true, labels):.5f}.')\n",
        "print(f'Fowlkes-Mallows scores speed: {metrics.fowlkes_mallows_score(labels_true, labels):.5f}.')"
      ],
      "execution_count": 156,
      "outputs": [
        {
          "output_type": "display_data",
          "data": {
            "image/png": "[encoded data removed]",
            "text/plain": [
              "<Figure size 504x360 with 1 Axes>"
            ]
          },
          "metadata": {
            "tags": [],
            "needs_background": "light"
          }
        },
        {
          "output_type": "stream",
          "text": [
            "Adjusted Rand index: 0.39422.\n",
            "V-measure speed: 0.52980.\n",
            "Fowlkes-Mallows scores speed: 0.45551.\n"
          ],
          "name": "stdout"
        }
      ]
    },
    {
      "cell_type": "code",
      "metadata": {
        "id": "6C-pVRdbRKx-",
        "outputId": "a9d0a738-a0c4-4831-863a-10916d02fe54",
        "colab": {
          "base_uri": "https://localhost:8080/",
          "height": 300
        }
      },
      "source": [
        "mean_dist = get_distance_for_core_obj(X_pca, 2)\n",
        "print(np.sort(mean_dist)[1750])\n",
        "plt.plot(np.sort(mean_dist))"
      ],
      "execution_count": 157,
      "outputs": [
        {
          "output_type": "stream",
          "text": [
            "1.810823829386856\n"
          ],
          "name": "stdout"
        },
        {
          "output_type": "execute_result",
          "data": {
            "text/plain": [
              "[<matplotlib.lines.Line2D at 0x7fac01d40898>]"
            ]
          },
          "metadata": {
            "tags": []
          },
          "execution_count": 157
        },
        {
          "output_type": "display_data",
          "data": {
            "image/png": "[encoded data removed]",
            "text/plain": [
              "<Figure size 432x288 with 1 Axes>"
            ]
          },
          "metadata": {
            "tags": [],
            "needs_background": "light"
          }
        }
      ]
    },
    {
      "cell_type": "code",
      "metadata": {
        "id": "KGXADGA4QkIg"
      },
      "source": [
        "dbscan = DBSCAN(min_samples=2, eps=1.8).fit(X_pca)\n",
        "labels = dbscan.labels_"
      ],
      "execution_count": 158,
      "outputs": []
    },
    {
      "cell_type": "code",
      "metadata": {
        "id": "B3SzlK4qRhzp",
        "outputId": "b043f3ff-c8e3-40ec-951b-3ec8fac556cc",
        "colab": {
          "base_uri": "https://localhost:8080/",
          "height": 388
        }
      },
      "source": [
        "plot_results(X_pca, labels, 'PCA + DBSCAN')\n",
        "print(f'Adjusted Rand index: {metrics.adjusted_rand_score(labels_true, labels):.5f}.')\n",
        "print(f'V-measure speed: {metrics.v_measure_score(labels_true, labels):.5f}.')\n",
        "print(f'Fowlkes-Mallows scores speed: {metrics.fowlkes_mallows_score(labels_true, labels):.5f}.')"
      ],
      "execution_count": 159,
      "outputs": [
        {
          "output_type": "display_data",
          "data": {
            "image/png": "[encoded data removed]",
            "text/plain": [
              "<Figure size 504x360 with 1 Axes>"
            ]
          },
          "metadata": {
            "tags": [],
            "needs_background": "light"
          }
        },
        {
          "output_type": "stream",
          "text": [
            "Adjusted Rand index: 0.00013.\n",
            "V-measure speed: 0.03117.\n",
            "Fowlkes-Mallows scores speed: 0.30413.\n"
          ],
          "name": "stdout"
        }
      ]
    },
    {
      "cell_type": "markdown",
      "metadata": {
        "id": "2JonYwEgRxlo"
      },
      "source": [
        "***TSNE***:"
      ]
    },
    {
      "cell_type": "code",
      "metadata": {
        "id": "LNuPfegSRuyx"
      },
      "source": [
        "tsne = TSNE(n_components=2, n_iter=1000)\n",
        "X_tsne = tsne.fit_transform(X)"
      ],
      "execution_count": 160,
      "outputs": []
    },
    {
      "cell_type": "code",
      "metadata": {
        "id": "5IULY2nHR9vY"
      },
      "source": [
        "kmeans = KMeans(n_clusters=10, init='k-means++', random_state=42).fit(X_tsne)\n",
        "labels = kmeans.labels_"
      ],
      "execution_count": 161,
      "outputs": []
    },
    {
      "cell_type": "code",
      "metadata": {
        "id": "rC3zjArmSGgL",
        "outputId": "bb29a866-4af6-4c8d-cce9-e30a6fa310b5",
        "colab": {
          "base_uri": "https://localhost:8080/",
          "height": 388
        }
      },
      "source": [
        "plot_results(X_tsne, labels, 'TSNE + KMeans')\n",
        "print(f'Adjusted Rand index: {metrics.adjusted_rand_score(labels_true, labels):.5f}.')\n",
        "print(f'V-measure speed: {metrics.v_measure_score(labels_true, labels):.5f}.')\n",
        "print(f'Fowlkes-Mallows scores speed: {metrics.fowlkes_mallows_score(labels_true, labels):.5f}.')"
      ],
      "execution_count": 162,
      "outputs": [
        {
          "output_type": "display_data",
          "data": {
            "image/png": "[encoded data removed]",
            "text/plain": [
              "<Figure size 504x360 with 1 Axes>"
            ]
          },
          "metadata": {
            "tags": [],
            "needs_background": "light"
          }
        },
        {
          "output_type": "stream",
          "text": [
            "Adjusted Rand index: 0.89688.\n",
            "V-measure speed: 0.91767.\n",
            "Fowlkes-Mallows scores speed: 0.90717.\n"
          ],
          "name": "stdout"
        }
      ]
    },
    {
      "cell_type": "code",
      "metadata": {
        "id": "RtCkN69fSXoc"
      },
      "source": [
        "dbscan = DBSCAN(min_samples=2, eps=1.8).fit(X_tsne)\n",
        "labels = dbscan.labels_"
      ],
      "execution_count": 163,
      "outputs": []
    },
    {
      "cell_type": "code",
      "metadata": {
        "id": "UVaVaB0SSbAE",
        "outputId": "344aad68-6e57-431f-8911-c192ebe45269",
        "colab": {
          "base_uri": "https://localhost:8080/",
          "height": 388
        }
      },
      "source": [
        "plot_results(X_tsne, labels, 'TSNE + DBSCAN')\n",
        "print(f'Adjusted Rand index: {metrics.adjusted_rand_score(labels_true, labels):.5f}.')\n",
        "print(f'V-measure speed: {metrics.v_measure_score(labels_true, labels):.5f}.')\n",
        "print(f'Fowlkes-Mallows scores speed: {metrics.fowlkes_mallows_score(labels_true, labels):.5f}.')"
      ],
      "execution_count": 164,
      "outputs": [
        {
          "output_type": "display_data",
          "data": {
            "image/png": "[encoded data removed]",
            "text/plain": [
              "<Figure size 504x360 with 1 Axes>"
            ]
          },
          "metadata": {
            "tags": [],
            "needs_background": "light"
          }
        },
        {
          "output_type": "stream",
          "text": [
            "Adjusted Rand index: 0.77330.\n",
            "V-measure speed: 0.85945.\n",
            "Fowlkes-Mallows scores speed: 0.80801.\n"
          ],
          "name": "stdout"
        }
      ]
    },
    {
      "cell_type": "markdown",
      "metadata": {
        "id": "mfUo61xJTXBp"
      },
      "source": [
        "Отлично отработал TSNE + KMEANS с заранее заданными 10 кластерами. К сожалению, DBSCAN плохо отработал на PCA. И визуально DBSCAN плохо определяет кластеры для TSNE, но при этом метрика FM у него выше, чем на не предобработанных данных."
      ]
    },
    {
      "cell_type": "markdown",
      "metadata": {
        "id": "gwCMFmolWjdI"
      },
      "source": [
        "**Задание 4. (0.5 балла)** Ответьте на следующие вопросы:\n",
        "* В чём преимущества и недостаки каждого из рассмотренных алгоритмов кластеризации? Ответ обоснуйте.\n",
        "* Приведите примеры данных, для которых использование каждого из алгоритмов будет наиболее обосновано с точки зрения качества и/или производительности. (будет достаточно описать какими должны быть данные, приводить примеры конкретных датасетов не нужно)"
      ]
    },
    {
      "cell_type": "markdown",
      "metadata": {
        "id": "ejA01XXULWwS"
      },
      "source": [
        "\n",
        "\n",
        "*   KMeans: Приятный в использовании и понятный интуитивно. К сожалению, нам изначально требуется знать про то, на сколько кластеров мы разделяем данные. В зависимости от того, как мы инициализируем центры в самом начале, может не найти кластеры. Ему требуется много вычислений.\n",
        "*   DBSCAN: Отработал быстрее в сравнение с KMeans. Количество кластеров подбирается автоматически. Сложно подобрать min_samples и eps. Можно подбирать по сетке, но для этого нужно знать диапозон расстрояний которые мы рассматриваем.\n",
        "\n"
      ]
    },
    {
      "cell_type": "markdown",
      "metadata": {
        "id": "HK3o0tPtWjdQ"
      },
      "source": [
        "### Кластеризация текстов\n",
        "\n",
        "Для дальнейшего выполнения заданий скачайте *vacancies_train.csv* из [второго соревнования](https://www.kaggle.com/c/competition-2-shad-fall-2020). Данная таблица содержит поля:\n",
        "\n",
        "- *id* - идентификатор вакансии\n",
        "- *name* - название\n",
        "- *description* - описание \n",
        "- *key_skills* - список требуемых навыков, перечисленных через знак табуляции\n",
        "- *schedule_id* - тип занятости (расшифровка хранится в таблице *schedules.csv*)\n",
        "- *employment_id* - тип занятости (расшифровка хранится в таблице *employments.csv*)\n",
        "- *experience_id* - опыт работы (расшифровка хранится в таблице *experiences.csv*)\n",
        "- *accept_handicapped* - допускаются ли люди с инвалидностью\n",
        "- *accept_kids* - допускаются ли дети\n",
        "- *salary_from* - нижняя граница зарплаты\n",
        "- *salary_to* - верхняя граница зарплаты\n",
        "- *salary_gross* - зарплата до вычета налогов\n",
        "- *salary_currency* - текущая зарплата\n",
        "- *area_id* - город, для которого актуальна данная вакансия (расшифровка хранится в таблице *areas.csv*)\n",
        "- *employer_id* - работодатель (расшифровка хранится в таблице  *employers.csv*)\n",
        "- *type_id* - тип размещения на сайте вакансий (расшифровка хранится в таблице  *types.csv*)\n",
        "- *created_at* - дата и время создания вакансии\n",
        "- *published_at* - дата и время публикации вакансии\n",
        "- *category* - метка кластера (расшифровка хранится в таблице *profareas.csv*)"
      ]
    },
    {
      "cell_type": "markdown",
      "metadata": {
        "id": "VQi6vOm9WjdT"
      },
      "source": [
        "**Замечание**: Метка кластера содержится не для всех вакансий в тренировочном датасете т.е. колонка *category* содержит не *None* только для 10% строк"
      ]
    },
    {
      "cell_type": "markdown",
      "metadata": {
        "id": "qk8u_TvSWjdU"
      },
      "source": [
        "**Задание 5. (2 балла)**\n",
        "\n",
        "- Разбейте данные на обучающую выборку (строки, не содержащие метки кластеров) и тестовую (строки, содержащие метки кластеров)\n",
        "- Предобработайте текст, содержащийся в колонках *name* и *description* (уберите артефакты, нормализуйте и т.д.)\n",
        "- Поэкспериментируйте с различными способами векторизации текста. Попробуйте хотя бы два метода. Можете использовать [TFIDF](https://scikit-learn.org/stable/modules/generated/sklearn.feature_extraction.text.TfidfVectorizer.html), [Word2Vec](https://radimrehurek.com/gensim/models/word2vec.html), [FastText](https://pypi.org/project/fasttext/) или другие, кроме того можете применять алгоритмы, сокращающие размерность\n",
        "- Кластеризуйте, используя алгоритмы [KMeans](http://scikit-learn.org/stable/modules/generated/sklearn.cluster.KMeans.html), [DBSCAN](http://scikit-learn.org/stable/modules/generated/sklearn.cluster.DBSCAN.html)\n",
        "- Для лучшего алгоритма визуализируйте полученные кластеры (например, воспользовавшись облаком тегов, или предложите свой способ)"
      ]
    },
    {
      "cell_type": "code",
      "metadata": {
        "id": "h84L7nEKWjdW"
      },
      "source": [
        "import pandas as pd"
      ],
      "execution_count": 168,
      "outputs": []
    },
    {
      "cell_type": "code",
      "metadata": {
        "id": "KE1KgspCYOxs"
      },
      "source": [
        "import zipfile\n",
        "\n",
        "with zipfile.ZipFile('vacancies_train.csv.zip', 'r') as zip_ref:\n",
        "    zip_ref.extractall('./')\n",
        "\n",
        "with zipfile.ZipFile('vacancies_test.csv.zip', 'r') as zip_ref:\n",
        "    zip_ref.extractall('./')"
      ],
      "execution_count": 169,
      "outputs": []
    },
    {
      "cell_type": "code",
      "metadata": {
        "id": "kYGK__hoWNER"
      },
      "source": [
        "train = pd.read_csv('vacancies_train.csv')\n",
        "test = pd.read_csv('vacancies_test.csv')"
      ],
      "execution_count": 170,
      "outputs": []
    },
    {
      "cell_type": "code",
      "metadata": {
        "id": "2C5KtLS3aCqo",
        "outputId": "989f9625-ae31-4850-bab3-5b1d2bd41eea",
        "colab": {
          "base_uri": "https://localhost:8080/"
        }
      },
      "source": [
        "print('Category NA: ', sum(train['category'].isna()))\n",
        "print('Category not NA: ', sum(~train['category'].isna()))"
      ],
      "execution_count": 175,
      "outputs": [
        {
          "output_type": "stream",
          "text": [
            "Category NA:  108651\n",
            "Category not NA:  12073\n"
          ],
          "name": "stdout"
        }
      ]
    },
    {
      "cell_type": "code",
      "metadata": {
        "id": "qpffp4JdZnTK"
      },
      "source": [
        "# leave unmarked data as train set\n",
        "data_train = train[train['category'].isna()]\n",
        "# leave marked data an validation set\n",
        "data_val = train[~train['category'].isna()]"
      ],
      "execution_count": 227,
      "outputs": []
    },
    {
      "cell_type": "markdown",
      "metadata": {
        "id": "KzlgNm2cawut"
      },
      "source": [
        "Process 'name' and 'description':"
      ]
    },
    {
      "cell_type": "code",
      "metadata": {
        "id": "hrR6KFOEawRL",
        "outputId": "fa90940b-33cb-40fd-dc23-d870e8be49c3",
        "colab": {
          "base_uri": "https://localhost:8080/",
          "height": 206
        }
      },
      "source": [
        "# take a look on first lines\n",
        "data_train[['name', 'description']].head()"
      ],
      "execution_count": 228,
      "outputs": [
        {
          "output_type": "execute_result",
          "data": {
            "text/html": [
              "<div>\n",
              "<style scoped>\n",
              "    .dataframe tbody tr th:only-of-type {\n",
              "        vertical-align: middle;\n",
              "    }\n",
              "\n",
              "    .dataframe tbody tr th {\n",
              "        vertical-align: top;\n",
              "    }\n",
              "\n",
              "    .dataframe thead th {\n",
              "        text-align: right;\n",
              "    }\n",
              "</style>\n",
              "<table border=\"1\" class=\"dataframe\">\n",
              "  <thead>\n",
              "    <tr style=\"text-align: right;\">\n",
              "      <th></th>\n",
              "      <th>name</th>\n",
              "      <th>description</th>\n",
              "    </tr>\n",
              "  </thead>\n",
              "  <tbody>\n",
              "    <tr>\n",
              "      <th>0</th>\n",
              "      <td>Электромонтер</td>\n",
              "      <td>&lt;strong&gt;Обязанности:&lt;/strong&gt; &lt;ul&gt; &lt;li&gt;Устране...</td>\n",
              "    </tr>\n",
              "    <tr>\n",
              "      <th>1</th>\n",
              "      <td>Менеджер продукта</td>\n",
              "      <td>&lt;p&gt;&lt;strong&gt;Компания ООО «ТД ТОРЭКС» - крупная ...</td>\n",
              "    </tr>\n",
              "    <tr>\n",
              "      <th>2</th>\n",
              "      <td>Водитель категории Е</td>\n",
              "      <td>&lt;p&gt;&lt;em&gt;&lt;strong&gt;ООО &amp;quot;ТЭМПО-Логистик&amp;quot; ...</td>\n",
              "    </tr>\n",
              "    <tr>\n",
              "      <th>3</th>\n",
              "      <td>Директор по продажам</td>\n",
              "      <td>&lt;p&gt;&lt;strong&gt;Требования:&lt;/strong&gt;&lt;/p&gt; &lt;ul&gt; &lt;li&gt;В...</td>\n",
              "    </tr>\n",
              "    <tr>\n",
              "      <th>4</th>\n",
              "      <td>Участковый маркшейдер</td>\n",
              "      <td>&lt;p&gt;&lt;strong&gt;Обязанности:&lt;/strong&gt;&lt;/p&gt; &lt;ul&gt; &lt;li&gt;...</td>\n",
              "    </tr>\n",
              "  </tbody>\n",
              "</table>\n",
              "</div>"
            ],
            "text/plain": [
              "                    name                                        description\n",
              "0          Электромонтер  <strong>Обязанности:</strong> <ul> <li>Устране...\n",
              "1      Менеджер продукта  <p><strong>Компания ООО «ТД ТОРЭКС» - крупная ...\n",
              "2   Водитель категории Е  <p><em><strong>ООО &quot;ТЭМПО-Логистик&quot; ...\n",
              "3   Директор по продажам  <p><strong>Требования:</strong></p> <ul> <li>В...\n",
              "4  Участковый маркшейдер  <p><strong>Обязанности:</strong></p> <ul> <li>..."
            ]
          },
          "metadata": {
            "tags": []
          },
          "execution_count": 228
        }
      ]
    },
    {
      "cell_type": "markdown",
      "metadata": {
        "id": "v2zTL7b7a_MZ"
      },
      "source": [
        "Нам надо убрать html теги из текста описания, привести все слова к одному регистру, убрать стоп-слова, так же можем привести к нормальной форме, а также токенизируем, убрав пунктуацию.\n",
        "\n",
        "https://www.kaggle.com/alxmamaev/how-to-easy-preprocess-russian-text"
      ]
    },
    {
      "cell_type": "code",
      "metadata": {
        "id": "CfleAE3mhIyc",
        "outputId": "d645ddef-261d-40c7-94cd-6731279050c4",
        "colab": {
          "base_uri": "https://localhost:8080/"
        }
      },
      "source": [
        "import nltk\n",
        "nltk.download(\"stopwords\")"
      ],
      "execution_count": 186,
      "outputs": [
        {
          "output_type": "stream",
          "text": [
            "[nltk_data] Downloading package stopwords to /root/nltk_data...\n",
            "[nltk_data]   Unzipping corpora/stopwords.zip.\n"
          ],
          "name": "stdout"
        },
        {
          "output_type": "execute_result",
          "data": {
            "text/plain": [
              "True"
            ]
          },
          "metadata": {
            "tags": []
          },
          "execution_count": 186
        }
      ]
    },
    {
      "cell_type": "code",
      "metadata": {
        "id": "3wTJcSqgaaaS"
      },
      "source": [
        "import re\n",
        "from nltk.corpus import stopwords\n",
        "from nltk.tokenize import RegexpTokenizer\n",
        "from pymystem3 import Mystem\n",
        "from string import punctuation\n",
        "\n",
        "def preprocess_text(text):\n",
        "  # lower case\n",
        "  text = text.lower()\n",
        "\n",
        "  # remove tags\n",
        "  text = re.sub(r'<.*?>', '', text)\n",
        "\n",
        "  # replace spaces\n",
        "  text = re.sub(r'\\s+', ' ', text)\n",
        "\n",
        "  # lemmatize\n",
        "  # mystem = Mystem()\n",
        "  # tokens = mystem.lemmatize(text)\n",
        "  \n",
        "  # tokenize\n",
        "  tokenizer = RegexpTokenizer(r'\\w+')\n",
        "  tokens = tokenizer.tokenize(text)\n",
        "\n",
        "  # remove stopwords\n",
        "  tokens = [token for token in tokens if token not in stopwords.words(\"russian\")]\n",
        " \n",
        "  return \" \".join(tokens)"
      ],
      "execution_count": 238,
      "outputs": []
    },
    {
      "cell_type": "code",
      "metadata": {
        "id": "T7e5JAytftao",
        "outputId": "1371fc00-02b9-4ece-b055-de5f71577685",
        "colab": {
          "base_uri": "https://localhost:8080/"
        }
      },
      "source": [
        "data_train['name'] = data_train['name'].apply(preprocess_text)\n",
        "data_train['description'] = data_train['description'].apply(preprocess_text)"
      ],
      "execution_count": 241,
      "outputs": [
        {
          "output_type": "stream",
          "text": [
            "/usr/local/lib/python3.6/dist-packages/ipykernel_launcher.py:1: SettingWithCopyWarning: \n",
            "A value is trying to be set on a copy of a slice from a DataFrame.\n",
            "Try using .loc[row_indexer,col_indexer] = value instead\n",
            "\n",
            "See the caveats in the documentation: https://pandas.pydata.org/pandas-docs/stable/user_guide/indexing.html#returning-a-view-versus-a-copy\n",
            "  \"\"\"Entry point for launching an IPython kernel.\n",
            "/usr/local/lib/python3.6/dist-packages/ipykernel_launcher.py:2: SettingWithCopyWarning: \n",
            "A value is trying to be set on a copy of a slice from a DataFrame.\n",
            "Try using .loc[row_indexer,col_indexer] = value instead\n",
            "\n",
            "See the caveats in the documentation: https://pandas.pydata.org/pandas-docs/stable/user_guide/indexing.html#returning-a-view-versus-a-copy\n",
            "  \n"
          ],
          "name": "stderr"
        }
      ]
    },
    {
      "cell_type": "code",
      "metadata": {
        "id": "rM6zqxb1hyBw",
        "outputId": "9e6533f5-6282-4eb3-f015-2c412ec13b76",
        "colab": {
          "base_uri": "https://localhost:8080/"
        }
      },
      "source": [
        "data_val['name'] = data_val['name'].apply(preprocess_text)\n",
        "data_val['description'] = data_val['description'].apply(preprocess_text)"
      ],
      "execution_count": 242,
      "outputs": [
        {
          "output_type": "stream",
          "text": [
            "/usr/local/lib/python3.6/dist-packages/ipykernel_launcher.py:1: SettingWithCopyWarning: \n",
            "A value is trying to be set on a copy of a slice from a DataFrame.\n",
            "Try using .loc[row_indexer,col_indexer] = value instead\n",
            "\n",
            "See the caveats in the documentation: https://pandas.pydata.org/pandas-docs/stable/user_guide/indexing.html#returning-a-view-versus-a-copy\n",
            "  \"\"\"Entry point for launching an IPython kernel.\n",
            "/usr/local/lib/python3.6/dist-packages/ipykernel_launcher.py:2: SettingWithCopyWarning: \n",
            "A value is trying to be set on a copy of a slice from a DataFrame.\n",
            "Try using .loc[row_indexer,col_indexer] = value instead\n",
            "\n",
            "See the caveats in the documentation: https://pandas.pydata.org/pandas-docs/stable/user_guide/indexing.html#returning-a-view-versus-a-copy\n",
            "  \n"
          ],
          "name": "stderr"
        }
      ]
    },
    {
      "cell_type": "code",
      "metadata": {
        "id": "R5u6-eOKzj3i"
      },
      "source": [
        "text_tr = data_train['name'] + ' ' + data_train['description']\n",
        "text_tr = [sent.split() for sent in text_tr]\n",
        "\n",
        "text_val = data_val['name'] + ' ' + data_val['description']\n",
        "text_val = [sent.split() for sent in text_val]"
      ],
      "execution_count": 248,
      "outputs": []
    },
    {
      "cell_type": "markdown",
      "metadata": {
        "id": "gpnLq_0hrw9e"
      },
      "source": [
        "***Word2Vec***"
      ]
    },
    {
      "cell_type": "code",
      "metadata": {
        "id": "jz0rLHH7rmW_"
      },
      "source": [
        "from gensim.models import Word2Vec\n",
        "\n",
        "w2v_model = Word2Vec(sentences = text_tr + text_val,\n",
        "                     size=150, min_count=5, workers=-1)"
      ],
      "execution_count": 249,
      "outputs": []
    },
    {
      "cell_type": "code",
      "metadata": {
        "id": "OWtMu2ga2BYc"
      },
      "source": [
        "# get embeddings\n",
        "emb_tr = np.array([np.sum(np.array([w2v_model.wv.get_vector(word) for word in phrase if word in w2v_model.wv.vocab]), axis=0) for phrase in text_tr])\n",
        "emb_val = np.array([np.sum(np.array([w2v_model.wv.get_vector(word) for word in phrase if word in w2v_model.wv.vocab]), axis=0) for phrase in text_val])"
      ],
      "execution_count": 263,
      "outputs": []
    },
    {
      "cell_type": "code",
      "metadata": {
        "id": "rrJBCkom4w5P",
        "outputId": "0c233eaf-c935-4de9-a83d-b28ab04ab905",
        "colab": {
          "base_uri": "https://localhost:8080/"
        }
      },
      "source": [
        "print(len(text_tr), len(text_val))\n",
        "print(emb_tr.shape, emb_val.shape)"
      ],
      "execution_count": 264,
      "outputs": [
        {
          "output_type": "stream",
          "text": [
            "108651 12073\n",
            "(108651, 150) (12073, 150)\n"
          ],
          "name": "stdout"
        }
      ]
    },
    {
      "cell_type": "code",
      "metadata": {
        "id": "us3qnkPn5XWj",
        "outputId": "d82d6149-6cc3-4c59-af10-b36fe8c3d591",
        "colab": {
          "base_uri": "https://localhost:8080/"
        }
      },
      "source": [
        "print(data_val['category'].nunique())\n",
        "print(data_val['category'].unique())\n",
        "print(data_val['category'].max())\n",
        "\n",
        "n_clusters = int(data_val['category'].max()) + 1"
      ],
      "execution_count": 268,
      "outputs": [
        {
          "output_type": "stream",
          "text": [
            "27\n",
            "[ 9.  8. 23. 20. 22. 26.  0. 16. 25. 24.  4. 12. 11. 27. 21. 13.  5. 15.\n",
            "  6. 14.  2.  1. 18.  7.  3. 17. 10.]\n",
            "27.0\n"
          ],
          "name": "stdout"
        }
      ]
    },
    {
      "cell_type": "markdown",
      "metadata": {
        "id": "5jcMw1W85P3N"
      },
      "source": [
        "**KMeans**"
      ]
    },
    {
      "cell_type": "code",
      "metadata": {
        "id": "TWq8MQlf5Ge1"
      },
      "source": [
        "kmeans = KMeans(n_clusters=n_clusters, init='k-means++', random_state=42)\n",
        "kmeans.fit(emb_tr)"
      ],
      "execution_count": 269,
      "outputs": []
    },
    {
      "cell_type": "code",
      "metadata": {
        "id": "R6_JBuU17oYW",
        "outputId": "7a8fe02b-92b7-4da9-a127-614394dea638",
        "colab": {
          "base_uri": "https://localhost:8080/"
        }
      },
      "source": [
        "labels_true = data_val['category'].tolist()\n",
        "labels_pred = kmeans.predict(emb_val)\n",
        "\n",
        "print(f'Adjusted Rand index: {metrics.adjusted_rand_score(labels_true, labels_pred):.5f}.')\n",
        "print(f'V-measure speed: {metrics.v_measure_score(labels_true, labels_pred):.5f}.')\n",
        "print(f'Fowlkes-Mallows scores speed: {metrics.fowlkes_mallows_score(labels_true, labels_pred):.5f}.')"
      ],
      "execution_count": 270,
      "outputs": [
        {
          "output_type": "stream",
          "text": [
            "Adjusted Rand index: 0.04832.\n",
            "V-measure speed: 0.16415.\n",
            "Fowlkes-Mallows scores speed: 0.11455.\n"
          ],
          "name": "stdout"
        }
      ]
    },
    {
      "cell_type": "markdown",
      "metadata": {
        "id": "MSraaROPWjdb"
      },
      "source": [
        "## Частичное обучение\n",
        "\n",
        "![](https://i.imgur.com/C6HjiXq.png)\n",
        "\n",
        "Качество unsupervised методов можно существенно улучшить, зная правильные ответы хотя бы для небольшой части выборки. Методы такого рода называются _частичным обучением (semi-supervised learning)_. Более подробно про реализацию таких методов в sklearn можно прочитать в разделе [semi-supervised](http://scikit-learn.org/stable/modules/label_propagation.html#semi-supervised)."
      ]
    },
    {
      "cell_type": "markdown",
      "metadata": {
        "id": "19ek5bLjWjdd"
      },
      "source": [
        "**Задание 6. (1.5 балла)** \n",
        "\n",
        "- Разделите объекты, у которых существуют метки, на обучающую и тестовую выборки (при этом не обязательно делить в соотношении 70% на 30%). Обогатите обучающую выборку объектами без меток.\n",
        "- Воспользовавшись опытом выполнения задания 6, возьмите \"лучшее\" векторное представление вакансий и обучите [LabelSpreading](http://scikit-learn.org/stable/modules/generated/sklearn.semi_supervised.LabelSpreading.html) (подберите лучшие параметры, опираясь на [F1 score](https://scikit-learn.org/stable/modules/generated/sklearn.metrics.f1_score.html)).\n",
        "- Попробуйте запустить алгоритм несколько раз, отмечая известными различные объекты, а также меняя пропорции разбиения, посчитайте качество и визуализируйте результаты. Можно ли сказать что алгоритм сильно зависит от известных начальных объектов? Есть ли класс, для которого это больше всего заметно?"
      ]
    },
    {
      "cell_type": "code",
      "metadata": {
        "id": "kB-08BppWjde"
      },
      "source": [
        ""
      ],
      "execution_count": null,
      "outputs": []
    },
    {
      "cell_type": "markdown",
      "metadata": {
        "id": "UWWcNRzMWjdl"
      },
      "source": [
        "**Замечание**: Выполнив задание 6, обучите лучшую модель на всех данных из *vacancies_train.csv*, сделайте предсказание для *vacancies_test.csv* и участвуйте в [конкурсе](https://www.kaggle.com/t/e786707065df4a79b6c935eac2edc80f)!"
      ]
    },
    {
      "cell_type": "markdown",
      "metadata": {
        "id": "Gtj2pOHtWjdm"
      },
      "source": [
        "## Тематическое моделирование\n",
        "\n",
        "![](http://imgur.com/S8WgwBp.png)"
      ]
    },
    {
      "cell_type": "markdown",
      "metadata": {
        "id": "QCxC_sobWjdo"
      },
      "source": [
        "Тематическое моделирование является популярным инструментом анализа текстов. Задача заключается в поиске тем $T$, которые хорошо бы описывали документы $D$ со словарём $W$. Большинство тематических моделей оперирует данными в формате \"мешка слов\", т.е. учитывают только частоты слов в документах, а не их порядок. Одной из простейших тематических моделей является [PLSA](https://en.wikipedia.org/wiki/Probabilistic_latent_semantic_analysis), которая приводит к задаче стохастического матричного разложения: \n",
        "\n",
        "$$F \\approx \\Phi \\times \\Theta$$\n",
        "где\n",
        "- $F_{W \\times D}$— матрица распределений слов в документах (нормированные частоты)\n",
        "- $\\Phi_{W \\times T}$ — матрица распределений слов в темах (модель)\n",
        "- $\\Theta_{T \\times D}$ — матрица распределений тем в документах (результат применения модели к обучающим данным)\n",
        "\n",
        "Можно сказать, что алгоритмы тематического моделирования производят мягкую бикластеризацию данных:\n",
        " - *мягкую*, так как объекты относятся не строго к одному кластеру, а к нескольким с разными вероятностями\n",
        " - *бикластеризацию*, так как модель одновременно кластеризует слова по темам и темы по документам."
      ]
    },
    {
      "cell_type": "markdown",
      "metadata": {
        "id": "qy8VT3XQWjdo"
      },
      "source": [
        "### EM-алгоритм\n",
        "\n",
        "![](http://imgur.com/EeIuI1T.png)\n",
        "\n",
        "С вероятностной точки зрения, задача обучения модели PLSA ставится как максимизация неполного правдоподобия по параметам $\\Phi$ и $\\Theta$. ЕМ-алгоритм для модели PLSA заключается в повторении двух шагов:\n",
        "\n",
        "- **Е-шаг** — оценка распределений тем для каждого слова в каждом документе по параметрам $\\Phi$ и $\\Theta$ (шаг 6);\n",
        "- **М-шаг** — обновление параметров $\\Phi$ и $\\Theta$ на основе полученных оценок (шаги 7 и 9).\n",
        "\n",
        "Существуют различные модификации итерационного процесса, позволяющие снизить расходы по памяти. В данном случае, мы избежим хранения трехмерной матрицы $p_{tdw}$, сразу пересчитывая $\\Theta$ для текущего документа и аккумулируя счетчики $n_{wt}$ для последующего пересчета $\\Phi$.\n",
        "\n",
        "Псевдокод алгоритма записывается следующим образом:\n",
        "\n",
        "1. Инициализировать $\\phi_{wt}^0$ для всех $w \\in W$, $t \\in T$ и $\\theta_{td}^0$ для всех $t \\in T$, $d \\in D$\n",
        "2. Внешний цикл по итерациям $i = 1 ... max\\_iter$:\n",
        "3. $\\quad$ $n_{wt}^i := 0$, $n_t^i := 0$ для всех $w \\in W$ и $t \\in T$ \n",
        "4. $\\quad$ Внутренний цикл по документам $d \\in D$  \n",
        "5. $\\qquad$ $Z_w := \\sum_{t \\in T} \\phi_{wt}^{i-1}\\theta_{td}^{i-1}$ для всех $w \\in d$ $\\cfrac{}{}$\n",
        "6. $\\qquad$ $p_{tdw} := \\cfrac{ \\phi_{wt}^{i-1}\\theta_{td}^{i-1} }{ Z_w }$ (**E-шаг**)\n",
        "7. $\\qquad$ $\\theta_{td}^{i} := \\cfrac{ \\sum_{w \\in d} n_{dw} p_{tdw} }{ n_d }$ для всех $t \\in T$ (**M-шаг**)\n",
        "8. $\\qquad$ Увеличить $n_{wt}^i$ и $n_t^i$ на $n_{dw} p_{tdw}$ для всех $w \\in W$ и $t \\in T$\n",
        "9. $\\quad \\phi_{wt}^i := \\cfrac{n_{wt}^i}{n_t^i}$ для всех $w \\in W$ и $t \\in T$ (**M-шаг**)\n",
        "\n",
        "Обозначения:\n",
        " - $p_{tdw}$ — вероятность темы $t$ для слова $w$ в документе $d$\n",
        " - $\\phi_{wt}$ — элемент матрицы $\\Phi$, соответствующий вероятности слова $w$ в теме $t$\n",
        " - $\\theta_{td}$ — элемент матрицы $\\Theta$, соответствующий вероятности темы $t$ в документе $d$\n",
        " - $n_{wt}$ — элемент матрицы счётчиков отнесения слова $w$ к теме $t$ (путем нормирования этой матрицы получается матрица $\\Phi$)\n",
        " - $Z_w$ — элемент вектора вспомогательных переменных, соответствующий слову $w$\n",
        " - $n_t$ — вектор нормировочных констант для матрицы $n_{wt}$\n",
        " - $n_d$ — вектор нормировочных констант для матрицы $n_{dw}$\n",
        " - $n$ — суммарное число слов в коллекции\n",
        " \n",
        "###  Оценка качества\n",
        "\n",
        "Для оценивания качества построенной модели и контроля сходимости процесса обучения обычно используют [перплексию](http://www.machinelearning.ru/wiki/images/8/88/Voron-iip9-talk.pdf):\n",
        "\n",
        "$$\\mathcal{P} = \\exp\\bigg(- \\frac{\\mathcal{L}}{n} \\bigg) = \\exp\\bigg(- \\cfrac{1}{n}\\sum_{d \\in D}\\sum_{w \\in d} n_{dw} \\ln \\big(\\sum_{t \\in T}\\phi_{wt}\\theta_{td} \\big)\\bigg)$$\n",
        "\n",
        "Это традиционная мера качества в тематическом моделировании, которая основана на правдоподобии модели $\\mathcal{L}$. Число итераций $max\\_iter$ в алгоритме обучения следует выбирать достаточным для того, чтобы перплексия перестала существенно убывать. Однако известно, что перплексия плохо отражает интерпретируемость найденных тем, поэтому помимо нее обычно используются дополнительные меры или экспертные оценки.\n",
        "\n",
        "### Рекомендации к реализации\n",
        "- При делении на нулевые значения нужно просто заменить частное на ноль.\n",
        "- ЕМ-алгоритм стоит реализовывать с использованием векторных операций. Для проверки корректности реализации сперва можно написать скалярную версию, после чего векторизовать её, удостоверившись, что обе реализации дают одинаковый результат. Невекторизованный алгоритм может работать в сотни раз медленнее векторизованного, и его использование может привести к невозможности выполнения задания.\n",
        "- Итерационный процесс следует начинать, инициализировав матрицы $\\Phi$ и $\\Theta$. Инициализация может быть случайной, важно не забыть отнормировать столбцы матриц.\n",
        "- Неэффективная реализация перплексии может в разы замедлить работу алгоритма."
      ]
    },
    {
      "cell_type": "markdown",
      "metadata": {
        "id": "xAIZXZLxWjdq"
      },
      "source": [
        "**Задание 7. (3 балла)** Реализуйте описанный выше ЕМ-алгоритм для модели $PLSA$ и добавьте в вашу реализацию подсчёт перплексии. Примените ваш алгоритм к подготовленным данным, рассмотрев число тем T = 5. \n",
        "* Постройте график значения перплексии в зависимости от итерации (убедитесь в корректности реализации: график перплексии должен быть невозрастающим). \n",
        "* Выведите для каждой темы топ-20 наиболее вероятных слов. "
      ]
    },
    {
      "cell_type": "code",
      "metadata": {
        "id": "r0ICQD4gWjdr"
      },
      "source": [
        ""
      ],
      "execution_count": null,
      "outputs": []
    },
    {
      "cell_type": "markdown",
      "metadata": {
        "id": "tM3Q3YvkWjdw"
      },
      "source": [
        "**Задание 8. (1 балл)** Рассмотрите большее число тем (10, 20) и несколько различных начальных приближений. Проанализируйте результаты и ответьте на следующие вопросы: \n",
        "- Mожно ли сказать, что конкретность каждой темы изменяется с ростом их числа?\n",
        "- Устойчив ли алгоритм к начальному приближению на примере идентичности топовых слов в соответствующих темах?\n",
        "- Отражает ли перплексия качество получаемых моделей? В чём заключается причина хорошего/плохого соответствия?"
      ]
    },
    {
      "cell_type": "code",
      "metadata": {
        "id": "4vIIf5vUWjdx"
      },
      "source": [
        ""
      ],
      "execution_count": null,
      "outputs": []
    },
    {
      "cell_type": "markdown",
      "metadata": {
        "id": "wrlp41TPWjd4"
      },
      "source": [
        "### Модель LDA и визуализация\n",
        "\n",
        "Модель [LDA](https://en.wikipedia.org/wiki/Latent_Dirichlet_allocation) является наиболее популярной тематической моделью. Единственное отличие от модели PLSA заключается в введении априорных распределений Дирихле на столбцы матриц $\\Phi$ и $\\Theta$, которое может способствовать дополнительному сглаживанию или разреживанию параметров.\n",
        "\n",
        "В этом задании предлагается воспользоваться реализацией модели [LdaModel](https://radimrehurek.com/gensim/models/ldamodel.html), обучение которой основано на вариационном байесовском выводе."
      ]
    },
    {
      "cell_type": "markdown",
      "metadata": {
        "id": "75SMKWrPWjd5"
      },
      "source": [
        "Выполнение задания потребует установки пакетов [gensim](https://radimrehurek.com/gensim/install.html) и [pyldavis 2.0](https://pyldavis.readthedocs.io/en/latest/readme.html#installation).\n",
        "\n",
        "\n",
        "Для обучения *LdaModel* и её последующей визуализации потребуется словарь формата gensim, который можно получить следующей командой\n",
        "\n",
        "    dictionary = gensim.corpora.Dictionary.from_corpus(corpora, vocab_dict)\n",
        "\n",
        "где *corpora* содержит полученное с помощью gensim представление коллекции, а *vocab_dict* — это dict, полученный после работы CountVectorizer, ставящий в соответствие каждому номеру строки в матрице данных само слово в виде строки."
      ]
    },
    {
      "cell_type": "code",
      "metadata": {
        "id": "GpwwUfZHWjd7"
      },
      "source": [
        ""
      ],
      "execution_count": null,
      "outputs": []
    },
    {
      "cell_type": "markdown",
      "metadata": {
        "id": "he6cWT5LWjeB"
      },
      "source": [
        "Подготовьте данные в формате, подходящем для *gensim* (полное [API](https://radimrehurek.com/gensim/apiref.html) gensim). [Пример обработки вывода](https://gist.github.com/aronwc/8248457) *CountVectorizer* для gensim."
      ]
    },
    {
      "cell_type": "code",
      "metadata": {
        "id": "qhqYXJZbWjeC"
      },
      "source": [
        ""
      ],
      "execution_count": null,
      "outputs": []
    },
    {
      "cell_type": "markdown",
      "metadata": {
        "id": "pBEZA4bLWjeJ"
      },
      "source": [
        "**Задание 9. (1.5 балла)** Примените [LdaModel](https://radimrehurek.com/gensim/models/ldamodel.html) к подготовленным данным (рекомендуется задать заведомо большое число итераций в параметре *passes*, например, 30). Визуально сравните полученные темы по топ-20 наиболее вероятным словам с темами, полученными вашей реализацией ЕМ-алгоритма (нерегуляризованного). Какая из моделей даёт более интерпретируемые темы и почему?"
      ]
    },
    {
      "cell_type": "code",
      "metadata": {
        "id": "t2UL50QcWjeL"
      },
      "source": [
        ""
      ],
      "execution_count": null,
      "outputs": []
    },
    {
      "cell_type": "markdown",
      "metadata": {
        "id": "bfknUCyMWjeQ"
      },
      "source": [
        "**Задание 10. (1.5 балла)** Визуализируйте модель из gensim с помощью библиотеки *ldavis* ([API](http://pyldavis.readthedocs.io/en/latest/modules/API.html) LDAvis для работы с gensim), [пример использования](https://github.com/bmabey/pyLDAvis/blob/master/notebooks/pyLDAvis_overview.ipynb)."
      ]
    },
    {
      "cell_type": "code",
      "metadata": {
        "id": "F0vcnfFSWjeR"
      },
      "source": [
        ""
      ],
      "execution_count": null,
      "outputs": []
    },
    {
      "cell_type": "markdown",
      "metadata": {
        "id": "G8DnUJ0MWjeX"
      },
      "source": [
        "## Графовые представления\n",
        "\n",
        "![Графовые представления](https://i.imgur.com/dwGJDxo.png)\n",
        "\n",
        "В рамках данного раздела мы будем строить векторные представления для вершин и ребер графа знаний.\n",
        "Графы знаний (Knowledge Graphs) представляют собой графы, вершинами которых являются сущности, а ребрами - типизированные отношения между сущностями. Примерами таких графов могут данные социальных сетей. Вершинами могут быть пользователи, группы, публикации, а отношениями, например, следующие: \n",
        "  - \"пользователь A дружит с пользователем B\", \n",
        "  - \"пользователь A состоит в группе X\",\n",
        "  - \"пользователю А понравилась публикация Y\",\n",
        "  - \"публикация Y создана в группе Z\".\n",
        "\n",
        "С помощью таких графов сейчас решается широкий спектр задач: классификация вершин, восстановление связей, построение рекомендаций, кластеризация графа, поиск сообществ и другие.\n",
        "\n",
        "Формально, граф знаний $G = \\{(sub, pred, obj)\\} \\in \\mathcal{E} \\times \\mathcal{R} \\times \\mathcal{E}$ представляет собой набор троек $(sub, pred, obj)$, в которых $sub \\in \\mathcal{R}, obj \\in \\mathcal{R}$ - сущности, а $pred \\in \\mathcal{E}$ - отношение."
      ]
    },
    {
      "cell_type": "markdown",
      "metadata": {
        "id": "M3ic-ts3WjeY"
      },
      "source": [
        "Для решения задач на графах знаний обычно строятся модели представлений (graph embeddings models). Для вершин и ребер графа вычисляются вектора в пространстве небольшой размерности. Это преобразование обладает таким свойством, что \"близкие\" в некотором смысле вершины в графе соответствуют близкие вектора представлений.\n",
        "\n",
        "В этой работе мы рекомендуем воспользоваться библиотекой [AmpliGraph](https://docs.ampligraph.org/en/1.3.2/) для обучения моделей.\n",
        "Эксперименты будем проводить на датасете с вакансиями (*vacancies_train.csv*). Нашей задачей будет восстановить категорию вакансии (*category*), то есть для вершины \"вакансия X\" и вершины \"категория Y\" определить, есть ли ребро между ними в графе знаний."
      ]
    },
    {
      "cell_type": "markdown",
      "metadata": {
        "id": "qb1Mq_97WjeZ"
      },
      "source": [
        "**Задание 11. (1 балл)** Построение обучающей и валидационной выборок.\n",
        "\n",
        "Для построения графа необходимо подготовить набор троек $(sub, pred, obj)$ по имеющимся данным. В роли $sub$ и $obj$ могут быть сами вакансии (*id*), названия вакансий (*name*), тип расписания (*schedule_id*), ожидаемый опыт (*experience_id*) и т.д.. Обязательным типом сущностей является категория вакансии (*category*).\n",
        "\n",
        "Таким образом, одна запись из датасета:\n",
        "\n",
        "\n",
        "| id   | name                   |  schedule_id  | experience_id | category |\n",
        "|------|------------------------|---------------|---------------|----------|\n",
        "| 1111 | Супервайзер по бурению | shift         | between3And6  | 1.0      |\n",
        "\n",
        "Может представляться несколькими тройками:\n",
        "\n",
        "| sub  | pred             | obj                    |\n",
        "|------|------------------|------------------------|\n",
        "| 1111 | has_name         | Супервайзер по бурению |\n",
        "| 1111 | has_schedule     | shift                  |\n",
        "| 1111 | has_experience   | between3And6           |\n",
        "| 1111 | has_vacancy_type | 1.0                    |"
      ]
    },
    {
      "cell_type": "markdown",
      "metadata": {
        "id": "KDKG-1XpWjea"
      },
      "source": [
        "В обучающей выборке должны быть частично скрыты категории. Удалите случайные 20% ребер между вакансией и типом категории. Помните, что эксперимент должен быть воспроизводимым, поэтому везде фиксируйте random seed. Эти удаленные связи мы постараемся восстановить, а качество предсказания этих связей проверить на валидационном наборе данных. Таким образом, часть связей, удаленная из обучающего множества, образует собой множество для валидации.\n",
        "\n",
        "Все остальные связи присутствуют и в обучающем графе, и в валидационном. Другими словами, мы предполагаем, что вся информация о вакансиях, кроме факта принадлежности вакансии категории, нам известна.\n",
        "\n",
        "В валидационной выборке оставьте только тройки *(id, has_vacancy_type, category)*, скрытые при обучении.\n",
        "\n",
        "Обратите внимание, что разные сущности не должны иметь одинаковые имена (то есть, например, id вакансий не должны пересекаться с id категории вакансии)\n",
        "\n",
        "В рамках данного раздела не используйте текстовую информацию из поля *description*: не нужно строить отношения **\"вакансия Х содержит в описании слово Y\"**. Если ранее мы строили векторные представления, основываясь на текстах, то теперь попробуем построить их по различным связям между сущностями в графе."
      ]
    },
    {
      "cell_type": "code",
      "metadata": {
        "id": "efdCrJOBWjeb"
      },
      "source": [
        ""
      ],
      "execution_count": null,
      "outputs": []
    },
    {
      "cell_type": "markdown",
      "metadata": {
        "id": "gz-CdsGNWjef"
      },
      "source": [
        "**Задание 12. (1 балл)** Обучение модели.\n",
        "\n",
        "Описание моделей приводится [здесь](https://docs.ampligraph.org/en/1.3.2/ampligraph.latent_features.html).\n",
        "Обучите модель *ComplEx* на тренировочном графе. Качество модели проверяйте по метрике [hits3](https://docs.ampligraph.org/en/1.3.2/generated/ampligraph.evaluation.hits_at_n_score.html#ampligraph.evaluation.hits_at_n_score) на валидационных данных (используйте параметры *early_stopping* и *early_stopping_params*).\n",
        "\n",
        "После обучения модели примените модель к валидационным данным самостоятельно с помощью функции [evaluate_perfomance](https://docs.ampligraph.org/en/1.3.2/generated/ampligraph.evaluation.evaluate_performance.html#ampligraph.evaluation.evaluate_performance). Эта функция генерирует множество негативных объектов для данной тройки $(id, has\\_vacancy\\_type, *)$ и считает ранк, на который попала истинная категория среди всех созданных негативных вариантов. Проверьте, что качество совпало с качеством в процессе обучения модели.\n",
        "\n",
        "\n",
        "\n",
        "\n"
      ]
    },
    {
      "cell_type": "code",
      "metadata": {
        "id": "YAQzMTMqWjeg"
      },
      "source": [
        ""
      ],
      "execution_count": null,
      "outputs": []
    },
    {
      "cell_type": "markdown",
      "metadata": {
        "id": "ENk7ABPoWjek"
      },
      "source": [
        "**Задание 13. (3 балл)** Настройка модели.\n",
        "\n",
        "Теперь попробуем улучшить значение целевой метрики. В рамках этого задания можно пользоваться любыми моделями из представленных в [библиотеке](https://docs.ampligraph.org/en/1.3.2/ampligraph.latent_features.html).\n",
        "\n",
        "Есть несколько способов для улучшения качества восстановления связей.\n",
        "- Изменение структуры графа.\n",
        "   1. Настройка множества используемых при обучении типов отношений. Поскольку валидируемся мы только на одном типе (has_vacancy_type), то другие типы могут \"сбивать\" модель, а некоторые, наоборот, улучшают предсказательную способность.\n",
        "   2. Настройка количества используемых сущностей. Например, рассмотрим отношение *has_key_skill* (каждая вакансия может иметь несколько ребер до вершин способностей, а может не иметь, если в поле стоит NaN). Многие способности в датасете встречаются лишь однажды. Информация о таких способностях вряд ли будет полезной и вероятно только замедлит обучение. Или, например, если используется колонка salary_from, то логично разбить на несколько бакетов значения зарплат, а не использовать их все.\n",
        "   3. Дополнительные связи между другими колонками. Например, между salary_from и salary_to. Не нужно строить дополнительные связи к целевой колонке *category*.\n",
        "- Выбор модели. Можно пробовать различные модели, представленные в AmpliGraph. У них общий интерфейс и подменить одну модель другой - не сложно. Заранее неизвестно какая модель лучше подойдет для вашей задачи.\n",
        "- Тюнинг параметров.\n",
        "    1. Параметры представления: размерность представления, кол-во негативных примеров.\n",
        "    2. Общие параметры: функция потерь, кол-во эпох обучения, параметры оптимизатора.\n",
        "    2. Специфичных для модели параметров: например, размеры сверток для сверточных моделей.\n",
        "    \n",
        "Помочь в настройке параметров может реализованный в библиотеке [grid_search](https://docs.ampligraph.org/en/1.3.2/generated/ampligraph.evaluation.select_best_model_ranking.html).\n",
        "\n",
        "Попробуйте различные способы и добейтесь хорошего качества на валидационной выборке. Необязательно делать все из представленного выше, но по отчету должно быть понятно, что вы в достаточной мере исследовали разные возможности."
      ]
    },
    {
      "cell_type": "code",
      "metadata": {
        "id": "N-KsTZXHWjem"
      },
      "source": [
        ""
      ],
      "execution_count": null,
      "outputs": []
    },
    {
      "cell_type": "markdown",
      "metadata": {
        "id": "w2OmwEgxWjeq"
      },
      "source": [
        "**Задание 14. (0.5 балла)** Визуализация представлений.\n",
        "\n",
        "Возьмите лучшую модель и с помощью метода *get_embeddings* получите представления для вакансий из валидационной выборки. \n",
        "С помощью tSNE визуализируйте вакансии. Цветом покажите категорию. После этого выделите те вакансии, для которых evaluate_perfomance предсказал низкие ранки (то есть те вакансии, категории для которых определились хорошо). Визуализируйте представления отдельно для таких вакансий."
      ]
    },
    {
      "cell_type": "code",
      "metadata": {
        "id": "8vdCms7kWjer"
      },
      "source": [
        ""
      ],
      "execution_count": null,
      "outputs": []
    },
    {
      "cell_type": "markdown",
      "metadata": {
        "id": "4BssuOTnWjeu"
      },
      "source": [
        "Вакансии каких категорий оказались близки?"
      ]
    },
    {
      "cell_type": "code",
      "metadata": {
        "id": "I2b6-vmqWjev"
      },
      "source": [
        ""
      ],
      "execution_count": null,
      "outputs": []
    },
    {
      "cell_type": "markdown",
      "metadata": {
        "id": "ssEIHUSzWjey"
      },
      "source": [
        "Визуализируйте те сущности, которые вы использовали в модели. Представления для каких из них оказались похожими?"
      ]
    },
    {
      "cell_type": "code",
      "metadata": {
        "id": "JdUYsjyXWjez"
      },
      "source": [
        ""
      ],
      "execution_count": null,
      "outputs": []
    },
    {
      "cell_type": "markdown",
      "metadata": {
        "id": "BtINGKmQWje5"
      },
      "source": [
        "**Задание 15. (0.5 балла)** Поиск новых фактов.\n",
        "\n",
        "С помощью функций [discover_facts, query_topn](https://docs.ampligraph.org/en/1.3.2/ampligraph.discovery.html) попробуйте попредсказывать факты для различных сущностей и отношений, которые вы использовали при обучении.\n",
        "\n",
        "Получилось ли открыть что-то интересное?\n"
      ]
    },
    {
      "cell_type": "code",
      "metadata": {
        "id": "Hf8pJlHaWje5"
      },
      "source": [
        ""
      ],
      "execution_count": null,
      "outputs": []
    }
  ]
}