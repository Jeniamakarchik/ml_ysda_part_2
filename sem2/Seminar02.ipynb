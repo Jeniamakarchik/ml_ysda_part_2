{
  "nbformat": 4,
  "nbformat_minor": 0,
  "metadata": {
    "celltoolbar": "Slideshow",
    "kernelspec": {
      "display_name": "Python 3",
      "language": "python",
      "name": "python3"
    },
    "language_info": {
      "codemirror_mode": {
        "name": "ipython",
        "version": 3
      },
      "file_extension": ".py",
      "mimetype": "text/x-python",
      "name": "python",
      "nbconvert_exporter": "python",
      "pygments_lexer": "ipython3",
      "version": "3.6.7"
    },
    "colab": {
      "name": "Seminar02.ipynb",
      "provenance": [],
      "collapsed_sections": [
        "RLPxxwOtCpyF",
        "Fg57Gk8pCpyN",
        "uRsUyfhzCpy2"
      ]
    },
    "accelerator": "GPU",
    "widgets": {
      "application/vnd.jupyter.widget-state+json": {
        "d4ac2f5a18404aafab33e2f6f2cf2e14": {
          "model_module": "@jupyter-widgets/controls",
          "model_name": "HBoxModel",
          "state": {
            "_view_name": "HBoxView",
            "_dom_classes": [],
            "_model_name": "HBoxModel",
            "_view_module": "@jupyter-widgets/controls",
            "_model_module_version": "1.5.0",
            "_view_count": null,
            "_view_module_version": "1.5.0",
            "box_style": "",
            "layout": "IPY_MODEL_6a29863176464e4ea248a335f53dc459",
            "_model_module": "@jupyter-widgets/controls",
            "children": [
              "IPY_MODEL_e314e9a9bc86477c9b1567c6ed1bc632",
              "IPY_MODEL_338ffd81e8cc4dee89be96e81afb0d12"
            ]
          }
        },
        "6a29863176464e4ea248a335f53dc459": {
          "model_module": "@jupyter-widgets/base",
          "model_name": "LayoutModel",
          "state": {
            "_view_name": "LayoutView",
            "grid_template_rows": null,
            "right": null,
            "justify_content": null,
            "_view_module": "@jupyter-widgets/base",
            "overflow": null,
            "_model_module_version": "1.2.0",
            "_view_count": null,
            "flex_flow": null,
            "width": null,
            "min_width": null,
            "border": null,
            "align_items": null,
            "bottom": null,
            "_model_module": "@jupyter-widgets/base",
            "top": null,
            "grid_column": null,
            "overflow_y": null,
            "overflow_x": null,
            "grid_auto_flow": null,
            "grid_area": null,
            "grid_template_columns": null,
            "flex": null,
            "_model_name": "LayoutModel",
            "justify_items": null,
            "grid_row": null,
            "max_height": null,
            "align_content": null,
            "visibility": null,
            "align_self": null,
            "height": null,
            "min_height": null,
            "padding": null,
            "grid_auto_rows": null,
            "grid_gap": null,
            "max_width": null,
            "order": null,
            "_view_module_version": "1.2.0",
            "grid_template_areas": null,
            "object_position": null,
            "object_fit": null,
            "grid_auto_columns": null,
            "margin": null,
            "display": null,
            "left": null
          }
        },
        "e314e9a9bc86477c9b1567c6ed1bc632": {
          "model_module": "@jupyter-widgets/controls",
          "model_name": "FloatProgressModel",
          "state": {
            "_view_name": "ProgressView",
            "style": "IPY_MODEL_de7b15b288f4450ab4e844b4e0171b78",
            "_dom_classes": [],
            "description": "",
            "_model_name": "FloatProgressModel",
            "bar_style": "info",
            "max": 1,
            "_view_module": "@jupyter-widgets/controls",
            "_model_module_version": "1.5.0",
            "value": 1,
            "_view_count": null,
            "_view_module_version": "1.5.0",
            "orientation": "horizontal",
            "min": 0,
            "description_tooltip": null,
            "_model_module": "@jupyter-widgets/controls",
            "layout": "IPY_MODEL_60182085848a47839d53b80ebb2a7efb"
          }
        },
        "338ffd81e8cc4dee89be96e81afb0d12": {
          "model_module": "@jupyter-widgets/controls",
          "model_name": "HTMLModel",
          "state": {
            "_view_name": "HTMLView",
            "style": "IPY_MODEL_aa0ff7232dea4063b8bd81b00b132f09",
            "_dom_classes": [],
            "description": "",
            "_model_name": "HTMLModel",
            "placeholder": "​",
            "_view_module": "@jupyter-widgets/controls",
            "_model_module_version": "1.5.0",
            "value": " 170500096/? [00:19&lt;00:00, 32603441.80it/s]",
            "_view_count": null,
            "_view_module_version": "1.5.0",
            "description_tooltip": null,
            "_model_module": "@jupyter-widgets/controls",
            "layout": "IPY_MODEL_8d726ff6c80f477f9a00f97a2fb79787"
          }
        },
        "de7b15b288f4450ab4e844b4e0171b78": {
          "model_module": "@jupyter-widgets/controls",
          "model_name": "ProgressStyleModel",
          "state": {
            "_view_name": "StyleView",
            "_model_name": "ProgressStyleModel",
            "description_width": "initial",
            "_view_module": "@jupyter-widgets/base",
            "_model_module_version": "1.5.0",
            "_view_count": null,
            "_view_module_version": "1.2.0",
            "bar_color": null,
            "_model_module": "@jupyter-widgets/controls"
          }
        },
        "60182085848a47839d53b80ebb2a7efb": {
          "model_module": "@jupyter-widgets/base",
          "model_name": "LayoutModel",
          "state": {
            "_view_name": "LayoutView",
            "grid_template_rows": null,
            "right": null,
            "justify_content": null,
            "_view_module": "@jupyter-widgets/base",
            "overflow": null,
            "_model_module_version": "1.2.0",
            "_view_count": null,
            "flex_flow": null,
            "width": null,
            "min_width": null,
            "border": null,
            "align_items": null,
            "bottom": null,
            "_model_module": "@jupyter-widgets/base",
            "top": null,
            "grid_column": null,
            "overflow_y": null,
            "overflow_x": null,
            "grid_auto_flow": null,
            "grid_area": null,
            "grid_template_columns": null,
            "flex": null,
            "_model_name": "LayoutModel",
            "justify_items": null,
            "grid_row": null,
            "max_height": null,
            "align_content": null,
            "visibility": null,
            "align_self": null,
            "height": null,
            "min_height": null,
            "padding": null,
            "grid_auto_rows": null,
            "grid_gap": null,
            "max_width": null,
            "order": null,
            "_view_module_version": "1.2.0",
            "grid_template_areas": null,
            "object_position": null,
            "object_fit": null,
            "grid_auto_columns": null,
            "margin": null,
            "display": null,
            "left": null
          }
        },
        "aa0ff7232dea4063b8bd81b00b132f09": {
          "model_module": "@jupyter-widgets/controls",
          "model_name": "DescriptionStyleModel",
          "state": {
            "_view_name": "StyleView",
            "_model_name": "DescriptionStyleModel",
            "description_width": "",
            "_view_module": "@jupyter-widgets/base",
            "_model_module_version": "1.5.0",
            "_view_count": null,
            "_view_module_version": "1.2.0",
            "_model_module": "@jupyter-widgets/controls"
          }
        },
        "8d726ff6c80f477f9a00f97a2fb79787": {
          "model_module": "@jupyter-widgets/base",
          "model_name": "LayoutModel",
          "state": {
            "_view_name": "LayoutView",
            "grid_template_rows": null,
            "right": null,
            "justify_content": null,
            "_view_module": "@jupyter-widgets/base",
            "overflow": null,
            "_model_module_version": "1.2.0",
            "_view_count": null,
            "flex_flow": null,
            "width": null,
            "min_width": null,
            "border": null,
            "align_items": null,
            "bottom": null,
            "_model_module": "@jupyter-widgets/base",
            "top": null,
            "grid_column": null,
            "overflow_y": null,
            "overflow_x": null,
            "grid_auto_flow": null,
            "grid_area": null,
            "grid_template_columns": null,
            "flex": null,
            "_model_name": "LayoutModel",
            "justify_items": null,
            "grid_row": null,
            "max_height": null,
            "align_content": null,
            "visibility": null,
            "align_self": null,
            "height": null,
            "min_height": null,
            "padding": null,
            "grid_auto_rows": null,
            "grid_gap": null,
            "max_width": null,
            "order": null,
            "_view_module_version": "1.2.0",
            "grid_template_areas": null,
            "object_position": null,
            "object_fit": null,
            "grid_auto_columns": null,
            "margin": null,
            "display": null,
            "left": null
          }
        }
      }
    }
  },
  "cells": [
    {
      "cell_type": "markdown",
      "metadata": {
        "id": "NYpihFzlCpwW",
        "colab_type": "text"
      },
      "source": [
        "# Машинное обучение 2020, часть 2, семинар 2. Свёрточные и рекуррентные нейронные сети с помощью PyTorch"
      ]
    },
    {
      "cell_type": "markdown",
      "metadata": {
        "id": "GxucQXxCCpwa",
        "colab_type": "text"
      },
      "source": [
        "Два важных класса нейросетевых архитектур - свёрточные и рекуррентные нейронные сети"
      ]
    },
    {
      "cell_type": "markdown",
      "metadata": {
        "id": "6SLK4-cICpwe",
        "colab_type": "text"
      },
      "source": [
        "Первые активно используются для обработки изображений, а вторые - для обработки текстов"
      ]
    },
    {
      "cell_type": "markdown",
      "metadata": {
        "id": "Vh0MKTSzCpwg",
        "colab_type": "text"
      },
      "source": [
        "## Свёрточные нейронные сети"
      ]
    },
    {
      "cell_type": "markdown",
      "metadata": {
        "id": "UCCloygFCpwi",
        "colab_type": "text"
      },
      "source": [
        "Напоминание: что такое свёрточная нейронная сеть?"
      ]
    },
    {
      "cell_type": "markdown",
      "metadata": {
        "id": "qOGhlCbWCpwj",
        "colab_type": "text"
      },
      "source": [
        "![](https://previews.dropbox.com/p/thumb/AA48ZzdhjfdITdBivGpOcdM1Ug3c5jRNJkOt_Gp7oMLJLwEO-OCRc3hXJYbdDYPv_S6rk-S0o6gCy0j8a70C7SQ48gslWVsD51GdmWLIqc6YPkAnRCXKHgx-psWksPoy771eWV75ZKZnpGInxNFKvFabj4AvA1kReuLeUtd-9k6o1TWo1NAPYZgd0n2fB1SVFj15AaIlCSk7l0qAuimdEQb15eSVdbTlEuz1R_DyV-EjFXPbFMWlkzTRsACVEJexSnWXCdL9hhT0HBf45lxRy_r53TLVmGSH9PLvOzY3ePMVlWCIbfnO1e9bw6Mx5rsFNGSRJadD2E8lWI08s-odqXEBA0QdildBvE4oD2D_DwWcHQ/p.png?fv_content=true&size_mode=5)"
      ]
    },
    {
      "cell_type": "markdown",
      "metadata": {
        "id": "Q4k0020SCpwk",
        "colab_type": "text"
      },
      "source": [
        "Итак, чтобы состряпать свёрточную нейронную сеть (как и любую другую), нам понадобится:\n",
        "* загрузить данные\n",
        "* посмотреть на них и подготовить\n",
        "* определить архитектуру сети\n",
        "* обучить сеть\n",
        "* посчитать качество"
      ]
    },
    {
      "cell_type": "markdown",
      "metadata": {
        "id": "E9RtzFWqCpwp",
        "colab_type": "text"
      },
      "source": [
        "В PyTorch для работы с изображениями есть специальный пакет `torchvision`"
      ]
    },
    {
      "cell_type": "markdown",
      "metadata": {
        "id": "G4qbX15yCpwr",
        "colab_type": "text"
      },
      "source": [
        "### Данные"
      ]
    },
    {
      "cell_type": "code",
      "metadata": {
        "id": "jXLg9IGNCpws",
        "colab_type": "code",
        "colab": {}
      },
      "source": [
        "import torch\n",
        "import torchvision\n",
        "from torchvision.transforms import transforms"
      ],
      "execution_count": null,
      "outputs": []
    },
    {
      "cell_type": "markdown",
      "metadata": {
        "id": "T_OZdpNGCpwz",
        "colab_type": "text"
      },
      "source": [
        "Решать будем задачу классификации."
      ]
    },
    {
      "cell_type": "markdown",
      "metadata": {
        "id": "90ZC6lsTCpw1",
        "colab_type": "text"
      },
      "source": [
        "Работать будем с датасетом [CIFAR10](https://www.cs.toronto.edu/~kriz/cifar.html). Он состоит из 60000 картинок 32x32, равномерно разбитых на 10 классов."
      ]
    },
    {
      "cell_type": "markdown",
      "metadata": {
        "id": "9kf4YEX9Cpw2",
        "colab_type": "text"
      },
      "source": [
        "Загруженные картинки будут представлять из себя объекты типа PIL Image со значениями интенсивностей по каналам в диапазоне [0, 1]. Чтобы ими пользоваться для обучения, нам нужно будет преобразовать их в тензоры с интенсивностями от -1 до 1:"
      ]
    },
    {
      "cell_type": "code",
      "metadata": {
        "id": "j2PGyjwqCpw3",
        "colab_type": "code",
        "colab": {
          "base_uri": "https://localhost:8080/",
          "height": 84,
          "referenced_widgets": [
            "d4ac2f5a18404aafab33e2f6f2cf2e14",
            "6a29863176464e4ea248a335f53dc459",
            "e314e9a9bc86477c9b1567c6ed1bc632",
            "338ffd81e8cc4dee89be96e81afb0d12",
            "de7b15b288f4450ab4e844b4e0171b78",
            "60182085848a47839d53b80ebb2a7efb",
            "aa0ff7232dea4063b8bd81b00b132f09",
            "8d726ff6c80f477f9a00f97a2fb79787"
          ]
        },
        "outputId": "f05ef50d-fb8e-4faa-9c1d-bdb013dac2c8"
      },
      "source": [
        "transform = transforms.Compose(\n",
        "    [transforms.ToTensor(),\n",
        "     transforms.Normalize((0.5, 0.5, 0.5), (0.5, 0.5, 0.5))])\n",
        "\n",
        "trainset = torchvision.datasets.CIFAR10(root='./data', train=True,\n",
        "                                        download=True, transform=transform)"
      ],
      "execution_count": null,
      "outputs": [
        {
          "output_type": "stream",
          "text": [
            "Downloading https://www.cs.toronto.edu/~kriz/cifar-10-python.tar.gz to ./data/cifar-10-python.tar.gz\n"
          ],
          "name": "stdout"
        },
        {
          "output_type": "display_data",
          "data": {
            "application/vnd.jupyter.widget-view+json": {
              "model_id": "d4ac2f5a18404aafab33e2f6f2cf2e14",
              "version_minor": 0,
              "version_major": 2
            },
            "text/plain": [
              "HBox(children=(FloatProgress(value=1.0, bar_style='info', max=1.0), HTML(value='')))"
            ]
          },
          "metadata": {
            "tags": []
          }
        },
        {
          "output_type": "stream",
          "text": [
            "Extracting ./data/cifar-10-python.tar.gz to ./data\n"
          ],
          "name": "stdout"
        }
      ]
    },
    {
      "cell_type": "markdown",
      "metadata": {
        "id": "epZBP-zqCpxA",
        "colab_type": "text"
      },
      "source": [
        "Загрузить-то мы загрузили, но для того, чтобы стандартные методы обучения работали, нужно создать `DataLoader` и объяснить ему, как загружать данные:"
      ]
    },
    {
      "cell_type": "code",
      "metadata": {
        "id": "-G4mTymqCpxB",
        "colab_type": "code",
        "colab": {}
      },
      "source": [
        "trainloader = torch.utils.data.DataLoader(trainset, batch_size=4, shuffle=True)"
      ],
      "execution_count": null,
      "outputs": []
    },
    {
      "cell_type": "markdown",
      "metadata": {
        "id": "ECCIvucGCpxH",
        "colab_type": "text"
      },
      "source": [
        "Аналогично с тестовой выборкой:"
      ]
    },
    {
      "cell_type": "code",
      "metadata": {
        "id": "0ie0W5FoCpxH",
        "colab_type": "code",
        "colab": {
          "base_uri": "https://localhost:8080/",
          "height": 34
        },
        "outputId": "ff5e1813-6af0-409f-d1c1-1b060b747b9f"
      },
      "source": [
        "testset = torchvision.datasets.CIFAR10(root='./data', train=False,\n",
        "                                       download=True, transform=transform)\n",
        "testloader = torch.utils.data.DataLoader(testset, batch_size=4, shuffle=False)"
      ],
      "execution_count": null,
      "outputs": [
        {
          "output_type": "stream",
          "text": [
            "Files already downloaded and verified\n"
          ],
          "name": "stdout"
        }
      ]
    },
    {
      "cell_type": "markdown",
      "metadata": {
        "id": "yN_-svmCCpxO",
        "colab_type": "text"
      },
      "source": [
        "Кроме того, в датасете метки классов записаны числами, а нам интереснее было бы посмотреть на их названия, поэтому захардкодим их:"
      ]
    },
    {
      "cell_type": "code",
      "metadata": {
        "id": "bcIcgfMZCpxP",
        "colab_type": "code",
        "colab": {}
      },
      "source": [
        "classes = ('plane', 'car', 'bird', 'cat', 'deer', 'dog', 'frog', 'horse', 'ship', 'truck')"
      ],
      "execution_count": null,
      "outputs": []
    },
    {
      "cell_type": "markdown",
      "metadata": {
        "id": "hRZJ7VvfCpxV",
        "colab_type": "text"
      },
      "source": [
        "Немного посмотрим на данные"
      ]
    },
    {
      "cell_type": "markdown",
      "metadata": {
        "id": "E4IgFNiFCpxV",
        "colab_type": "text"
      },
      "source": [
        "Напомню, что раз мы их загружали и сразу конвертировали в тензор, а также нормализовали, нужно провести немножечко манипуляций:"
      ]
    },
    {
      "cell_type": "code",
      "metadata": {
        "id": "c4z_w81mCpxW",
        "colab_type": "code",
        "colab": {}
      },
      "source": [
        "import matplotlib.pyplot as plt\n",
        "import numpy as np\n",
        "\n",
        "def imshow(img):\n",
        "    img = img / 2 + 0.5\n",
        "    npimg = img.numpy()\n",
        "    plt.imshow(np.transpose(npimg, (1, 2, 0)))\n",
        "    plt.show()"
      ],
      "execution_count": null,
      "outputs": []
    },
    {
      "cell_type": "markdown",
      "metadata": {
        "id": "zxzg420nCpxe",
        "colab_type": "text"
      },
      "source": [
        "**Неочевидно**: менять местами оси нужно потому, что torchvision загружает данные в формате, в котором количество каналов идёт первым."
      ]
    },
    {
      "cell_type": "code",
      "metadata": {
        "id": "sGbK0IlPCpxg",
        "colab_type": "code",
        "colab": {
          "base_uri": "https://localhost:8080/",
          "height": 155
        },
        "outputId": "f5169bc9-87b9-45f4-e3d7-40f8373aafa1"
      },
      "source": [
        "dataiter = iter(trainloader)\n",
        "images, labels = dataiter.next()\n",
        "\n",
        "imshow(torchvision.utils.make_grid(images))\n",
        "print(' '.join(classes[label] for label in labels))"
      ],
      "execution_count": null,
      "outputs": [
        {
          "output_type": "display_data",
          "data": {
            "image/png": "[encoded data removed]",
            "text/plain": [
              "<Figure size 432x288 with 1 Axes>"
            ]
          },
          "metadata": {
            "tags": [],
            "needs_background": "light"
          }
        },
        {
          "output_type": "stream",
          "text": [
            "car dog bird truck\n"
          ],
          "name": "stdout"
        }
      ]
    },
    {
      "cell_type": "markdown",
      "metadata": {
        "id": "0RDQ78reCpxk",
        "colab_type": "text"
      },
      "source": [
        "### Архитектура сети"
      ]
    },
    {
      "cell_type": "markdown",
      "metadata": {
        "id": "54a_XXLMCpxl",
        "colab_type": "text"
      },
      "source": [
        "Для начала воспользуемся несложной архитектурой: два свёрточных слоя и буквально три полносвязных"
      ]
    },
    {
      "cell_type": "code",
      "metadata": {
        "id": "ycrhXP8_Cpxm",
        "colab_type": "code",
        "colab": {}
      },
      "source": [
        "import torch.nn as nn\n",
        "import torch.nn.functional as F"
      ],
      "execution_count": null,
      "outputs": []
    },
    {
      "cell_type": "code",
      "metadata": {
        "id": "CklB8JJdCpxs",
        "colab_type": "code",
        "colab": {}
      },
      "source": [
        "class Net(nn.Module):\n",
        "    def __init__(self):\n",
        "        super(Net, self).__init__()\n",
        "        self.conv1 = nn.Conv2d(3, 6, 3)\n",
        "        self.pool = nn.MaxPool2d(2, 2)\n",
        "        self.conv2 = nn.Conv2d(6, 16, 3)\n",
        "        self.fc1 = nn.Linear(16 * 6 * 6, 120)\n",
        "        self.fc2 = nn.Linear(120, 84)\n",
        "        self.fc3 = nn.Linear(84, 10)\n",
        "\n",
        "    def forward(self, x):\n",
        "        x = self.pool(F.relu(self.conv1(x)))\n",
        "        x = self.pool(F.relu(self.conv2(x)))\n",
        "        x = x.view(-1, 16 * 6 * 6)\n",
        "        x = F.relu(self.fc1(x))\n",
        "        x = F.relu(self.fc2(x))\n",
        "        x = self.fc3(x)\n",
        "        return x"
      ],
      "execution_count": null,
      "outputs": []
    },
    {
      "cell_type": "markdown",
      "metadata": {
        "id": "4y7uee3BCpxy",
        "colab_type": "text"
      },
      "source": [
        "**Неочевидно**: при создании слоя fc1 мы указываем размер входных данных 16 * 6 * 6. Откуда берётся 16 понятно: это количество каналов. 6 * 6 берётся же из итогового оставшегося размера картинки к этому моменту."
      ]
    },
    {
      "cell_type": "markdown",
      "metadata": {
        "id": "R-f5Z7qgCpx1",
        "colab_type": "text"
      },
      "source": [
        "**Неочевидно**: несмотря на то, что мы хотим считать вероятности классов, использовать softmax не нужно. Дальше мы будем использовать `nn.CrossEntropyLoss`, который производит softmax внутри себя и требует ненормализованных данных."
      ]
    },
    {
      "cell_type": "markdown",
      "metadata": {
        "id": "YC4AS4RUCpx2",
        "colab_type": "text"
      },
      "source": [
        "Посмотрим на итоговую архитектуру сети:"
      ]
    },
    {
      "cell_type": "code",
      "metadata": {
        "id": "WdBHw2t2Cpx2",
        "colab_type": "code",
        "colab": {
          "base_uri": "https://localhost:8080/",
          "height": 156
        },
        "outputId": "1b38ab94-a767-468f-ce11-6041edb550f7"
      },
      "source": [
        "net = Net()\n",
        "net"
      ],
      "execution_count": null,
      "outputs": [
        {
          "output_type": "execute_result",
          "data": {
            "text/plain": [
              "Net(\n",
              "  (conv1): Conv2d(3, 6, kernel_size=(3, 3), stride=(1, 1))\n",
              "  (pool): MaxPool2d(kernel_size=2, stride=2, padding=0, dilation=1, ceil_mode=False)\n",
              "  (conv2): Conv2d(6, 16, kernel_size=(3, 3), stride=(1, 1))\n",
              "  (fc1): Linear(in_features=576, out_features=120, bias=True)\n",
              "  (fc2): Linear(in_features=120, out_features=84, bias=True)\n",
              "  (fc3): Linear(in_features=84, out_features=10, bias=True)\n",
              ")"
            ]
          },
          "metadata": {
            "tags": []
          },
          "execution_count": 11
        }
      ]
    },
    {
      "cell_type": "markdown",
      "metadata": {
        "id": "H7PmLS0kCpx8",
        "colab_type": "text"
      },
      "source": [
        "### Функция потерь и оптимизатор"
      ]
    },
    {
      "cell_type": "markdown",
      "metadata": {
        "id": "AzZSS8TjCpx9",
        "colab_type": "text"
      },
      "source": [
        "Далее, как мы помним, нужно определить функцию потерь и отпимизатор:"
      ]
    },
    {
      "cell_type": "code",
      "metadata": {
        "id": "dEWHmHJ6Cpx-",
        "colab_type": "code",
        "colab": {}
      },
      "source": [
        "import torch.optim as optim\n",
        "\n",
        "criterion = nn.CrossEntropyLoss()\n",
        "optimizer = optim.SGD(net.parameters(), lr=0.001, momentum=0.9)"
      ],
      "execution_count": null,
      "outputs": []
    },
    {
      "cell_type": "markdown",
      "metadata": {
        "id": "RLPxxwOtCpyF",
        "colab_type": "text"
      },
      "source": [
        "### Обучение сети"
      ]
    },
    {
      "cell_type": "markdown",
      "metadata": {
        "id": "1o4ZicJ3CpyG",
        "colab_type": "text"
      },
      "source": [
        "Далее - обучение:"
      ]
    },
    {
      "cell_type": "markdown",
      "metadata": {
        "id": "8cghsnSfCpyH",
        "colab_type": "text"
      },
      "source": [
        "Если вы обучаете не в Google Colab (либо где-то в похожем месте), а на обычном ноубтуке, следующая ячейка будет выполняться довольно долго (минут 10). В рамках семинара мы воспользуемся её итоговым результатом для изучения, загрузив из ячейки после."
      ]
    },
    {
      "cell_type": "code",
      "metadata": {
        "id": "PFSTegGCCpyH",
        "colab_type": "code",
        "colab": {
          "base_uri": "https://localhost:8080/",
          "height": 225
        },
        "outputId": "17ca109c-ee3a-4f36-b31b-09a7b1a51d33"
      },
      "source": [
        "for epoch in range(2):\n",
        "\n",
        "    running_loss = 0.0\n",
        "    for i, data in enumerate(trainloader, 0):\n",
        "        inputs, labels = data\n",
        "\n",
        "        optimizer.zero_grad()\n",
        "\n",
        "        outputs = net(inputs)\n",
        "        loss = criterion(outputs, labels)\n",
        "        loss.backward()\n",
        "        optimizer.step()\n",
        "\n",
        "        running_loss += loss.item()\n",
        "        if i % 2000 == 1999:\n",
        "            print('[%d, %5d] loss: %.3f' %\n",
        "                  (epoch + 1, i + 1, running_loss / 2000))\n",
        "            running_loss = 0.0"
      ],
      "execution_count": null,
      "outputs": [
        {
          "output_type": "stream",
          "text": [
            "[1,  2000] loss: 2.196\n",
            "[1,  4000] loss: 1.877\n",
            "[1,  6000] loss: 1.679\n",
            "[1,  8000] loss: 1.554\n",
            "[1, 10000] loss: 1.489\n",
            "[1, 12000] loss: 1.422\n",
            "[2,  2000] loss: 1.353\n",
            "[2,  4000] loss: 1.325\n",
            "[2,  6000] loss: 1.308\n",
            "[2,  8000] loss: 1.290\n",
            "[2, 10000] loss: 1.247\n",
            "[2, 12000] loss: 1.219\n"
          ],
          "name": "stdout"
        }
      ]
    },
    {
      "cell_type": "markdown",
      "metadata": {
        "id": "Fg57Gk8pCpyN",
        "colab_type": "text"
      },
      "source": [
        "### Загрузка и сохранение модели"
      ]
    },
    {
      "cell_type": "markdown",
      "metadata": {
        "id": "u7FgP00WCpyO",
        "colab_type": "text"
      },
      "source": [
        "Этап сохранения в семинаре пропускаем: модель была обучена заранее."
      ]
    },
    {
      "cell_type": "code",
      "metadata": {
        "id": "xK7BeECPCpyP",
        "colab_type": "code",
        "colab": {}
      },
      "source": [
        "#torch.save(net.state_dict(), 'saved_model.pth')"
      ],
      "execution_count": null,
      "outputs": []
    },
    {
      "cell_type": "markdown",
      "metadata": {
        "id": "ZqYXh42sCpyT",
        "colab_type": "text"
      },
      "source": [
        "А вот загрузить загрузим:"
      ]
    },
    {
      "cell_type": "code",
      "metadata": {
        "id": "tjds35H_CpyU",
        "colab_type": "code",
        "colab": {
          "base_uri": "https://localhost:8080/",
          "height": 328
        },
        "outputId": "7fc55093-1b5c-417d-f61c-a83d08ac50a1"
      },
      "source": [
        "net = Net()\n",
        "net.load_state_dict(torch.load('saved_model.pth'))"
      ],
      "execution_count": null,
      "outputs": [
        {
          "output_type": "error",
          "ename": "FileNotFoundError",
          "evalue": "ignored",
          "traceback": [
            "\u001b[0;31m---------------------------------------------------------------------------\u001b[0m",
            "\u001b[0;31mFileNotFoundError\u001b[0m                         Traceback (most recent call last)",
            "\u001b[0;32m<ipython-input-22-f4475ac2359f>\u001b[0m in \u001b[0;36m<module>\u001b[0;34m()\u001b[0m\n\u001b[1;32m      1\u001b[0m \u001b[0mnet\u001b[0m \u001b[0;34m=\u001b[0m \u001b[0mNet\u001b[0m\u001b[0;34m(\u001b[0m\u001b[0;34m)\u001b[0m\u001b[0;34m\u001b[0m\u001b[0;34m\u001b[0m\u001b[0m\n\u001b[0;32m----> 2\u001b[0;31m \u001b[0mnet\u001b[0m\u001b[0;34m.\u001b[0m\u001b[0mload_state_dict\u001b[0m\u001b[0;34m(\u001b[0m\u001b[0mtorch\u001b[0m\u001b[0;34m.\u001b[0m\u001b[0mload\u001b[0m\u001b[0;34m(\u001b[0m\u001b[0;34m'saved_model.pth'\u001b[0m\u001b[0;34m)\u001b[0m\u001b[0;34m)\u001b[0m\u001b[0;34m\u001b[0m\u001b[0;34m\u001b[0m\u001b[0m\n\u001b[0m",
            "\u001b[0;32m/usr/local/lib/python3.6/dist-packages/torch/serialization.py\u001b[0m in \u001b[0;36mload\u001b[0;34m(f, map_location, pickle_module, **pickle_load_args)\u001b[0m\n\u001b[1;32m    569\u001b[0m         \u001b[0mpickle_load_args\u001b[0m\u001b[0;34m[\u001b[0m\u001b[0;34m'encoding'\u001b[0m\u001b[0;34m]\u001b[0m \u001b[0;34m=\u001b[0m \u001b[0;34m'utf-8'\u001b[0m\u001b[0;34m\u001b[0m\u001b[0;34m\u001b[0m\u001b[0m\n\u001b[1;32m    570\u001b[0m \u001b[0;34m\u001b[0m\u001b[0m\n\u001b[0;32m--> 571\u001b[0;31m     \u001b[0;32mwith\u001b[0m \u001b[0m_open_file_like\u001b[0m\u001b[0;34m(\u001b[0m\u001b[0mf\u001b[0m\u001b[0;34m,\u001b[0m \u001b[0;34m'rb'\u001b[0m\u001b[0;34m)\u001b[0m \u001b[0;32mas\u001b[0m \u001b[0mopened_file\u001b[0m\u001b[0;34m:\u001b[0m\u001b[0;34m\u001b[0m\u001b[0;34m\u001b[0m\u001b[0m\n\u001b[0m\u001b[1;32m    572\u001b[0m         \u001b[0;32mif\u001b[0m \u001b[0m_is_zipfile\u001b[0m\u001b[0;34m(\u001b[0m\u001b[0mopened_file\u001b[0m\u001b[0;34m)\u001b[0m\u001b[0;34m:\u001b[0m\u001b[0;34m\u001b[0m\u001b[0;34m\u001b[0m\u001b[0m\n\u001b[1;32m    573\u001b[0m             \u001b[0;31m# The zipfile reader is going to advance the current file position.\u001b[0m\u001b[0;34m\u001b[0m\u001b[0;34m\u001b[0m\u001b[0;34m\u001b[0m\u001b[0m\n",
            "\u001b[0;32m/usr/local/lib/python3.6/dist-packages/torch/serialization.py\u001b[0m in \u001b[0;36m_open_file_like\u001b[0;34m(name_or_buffer, mode)\u001b[0m\n\u001b[1;32m    227\u001b[0m \u001b[0;32mdef\u001b[0m \u001b[0m_open_file_like\u001b[0m\u001b[0;34m(\u001b[0m\u001b[0mname_or_buffer\u001b[0m\u001b[0;34m,\u001b[0m \u001b[0mmode\u001b[0m\u001b[0;34m)\u001b[0m\u001b[0;34m:\u001b[0m\u001b[0;34m\u001b[0m\u001b[0;34m\u001b[0m\u001b[0m\n\u001b[1;32m    228\u001b[0m     \u001b[0;32mif\u001b[0m \u001b[0m_is_path\u001b[0m\u001b[0;34m(\u001b[0m\u001b[0mname_or_buffer\u001b[0m\u001b[0;34m)\u001b[0m\u001b[0;34m:\u001b[0m\u001b[0;34m\u001b[0m\u001b[0;34m\u001b[0m\u001b[0m\n\u001b[0;32m--> 229\u001b[0;31m         \u001b[0;32mreturn\u001b[0m \u001b[0m_open_file\u001b[0m\u001b[0;34m(\u001b[0m\u001b[0mname_or_buffer\u001b[0m\u001b[0;34m,\u001b[0m \u001b[0mmode\u001b[0m\u001b[0;34m)\u001b[0m\u001b[0;34m\u001b[0m\u001b[0;34m\u001b[0m\u001b[0m\n\u001b[0m\u001b[1;32m    230\u001b[0m     \u001b[0;32melse\u001b[0m\u001b[0;34m:\u001b[0m\u001b[0;34m\u001b[0m\u001b[0;34m\u001b[0m\u001b[0m\n\u001b[1;32m    231\u001b[0m         \u001b[0;32mif\u001b[0m \u001b[0;34m'w'\u001b[0m \u001b[0;32min\u001b[0m \u001b[0mmode\u001b[0m\u001b[0;34m:\u001b[0m\u001b[0;34m\u001b[0m\u001b[0;34m\u001b[0m\u001b[0m\n",
            "\u001b[0;32m/usr/local/lib/python3.6/dist-packages/torch/serialization.py\u001b[0m in \u001b[0;36m__init__\u001b[0;34m(self, name, mode)\u001b[0m\n\u001b[1;32m    208\u001b[0m \u001b[0;32mclass\u001b[0m \u001b[0m_open_file\u001b[0m\u001b[0;34m(\u001b[0m\u001b[0m_opener\u001b[0m\u001b[0;34m)\u001b[0m\u001b[0;34m:\u001b[0m\u001b[0;34m\u001b[0m\u001b[0;34m\u001b[0m\u001b[0m\n\u001b[1;32m    209\u001b[0m     \u001b[0;32mdef\u001b[0m \u001b[0m__init__\u001b[0m\u001b[0;34m(\u001b[0m\u001b[0mself\u001b[0m\u001b[0;34m,\u001b[0m \u001b[0mname\u001b[0m\u001b[0;34m,\u001b[0m \u001b[0mmode\u001b[0m\u001b[0;34m)\u001b[0m\u001b[0;34m:\u001b[0m\u001b[0;34m\u001b[0m\u001b[0;34m\u001b[0m\u001b[0m\n\u001b[0;32m--> 210\u001b[0;31m         \u001b[0msuper\u001b[0m\u001b[0;34m(\u001b[0m\u001b[0m_open_file\u001b[0m\u001b[0;34m,\u001b[0m \u001b[0mself\u001b[0m\u001b[0;34m)\u001b[0m\u001b[0;34m.\u001b[0m\u001b[0m__init__\u001b[0m\u001b[0;34m(\u001b[0m\u001b[0mopen\u001b[0m\u001b[0;34m(\u001b[0m\u001b[0mname\u001b[0m\u001b[0;34m,\u001b[0m \u001b[0mmode\u001b[0m\u001b[0;34m)\u001b[0m\u001b[0;34m)\u001b[0m\u001b[0;34m\u001b[0m\u001b[0;34m\u001b[0m\u001b[0m\n\u001b[0m\u001b[1;32m    211\u001b[0m \u001b[0;34m\u001b[0m\u001b[0m\n\u001b[1;32m    212\u001b[0m     \u001b[0;32mdef\u001b[0m \u001b[0m__exit__\u001b[0m\u001b[0;34m(\u001b[0m\u001b[0mself\u001b[0m\u001b[0;34m,\u001b[0m \u001b[0;34m*\u001b[0m\u001b[0margs\u001b[0m\u001b[0;34m)\u001b[0m\u001b[0;34m:\u001b[0m\u001b[0;34m\u001b[0m\u001b[0;34m\u001b[0m\u001b[0m\n",
            "\u001b[0;31mFileNotFoundError\u001b[0m: [Errno 2] No such file or directory: 'saved_model.pth'"
          ]
        }
      ]
    },
    {
      "cell_type": "markdown",
      "metadata": {
        "id": "FoYgt3PlCpyY",
        "colab_type": "text"
      },
      "source": [
        "**Неочевидно**. \"Нельзя просто так взять и\" загрузить модель из файла. Полностью должны совпадать параметры, а также могут возникнуть некоторые сложности из-за различных версий PyTorch либо наличия GPU."
      ]
    },
    {
      "cell_type": "markdown",
      "metadata": {
        "id": "F-bRola3CpyZ",
        "colab_type": "text"
      },
      "source": [
        "### Исследование обученной модели"
      ]
    },
    {
      "cell_type": "markdown",
      "metadata": {
        "id": "Ir7yklslCpya",
        "colab_type": "text"
      },
      "source": [
        "Возьмём и посмотрим опять на некоторые примеры:"
      ]
    },
    {
      "cell_type": "code",
      "metadata": {
        "id": "5JtWO9vQCpyb",
        "colab_type": "code",
        "colab": {
          "base_uri": "https://localhost:8080/",
          "height": 155
        },
        "outputId": "003d9e2c-6fd9-44e4-8d94-5f7ea7e90752"
      },
      "source": [
        "dataiter = iter(trainloader)\n",
        "images, labels = dataiter.next()\n",
        "\n",
        "imshow(torchvision.utils.make_grid(images))\n",
        "print(' '.join(classes[label] for label in labels))"
      ],
      "execution_count": null,
      "outputs": [
        {
          "output_type": "display_data",
          "data": {
            "image/png": "[encoded data removed]",
            "text/plain": [
              "<Figure size 432x288 with 1 Axes>"
            ]
          },
          "metadata": {
            "tags": [],
            "needs_background": "light"
          }
        },
        {
          "output_type": "stream",
          "text": [
            "horse plane dog horse\n"
          ],
          "name": "stdout"
        }
      ]
    },
    {
      "cell_type": "markdown",
      "metadata": {
        "id": "kH832yZTCpyf",
        "colab_type": "text"
      },
      "source": [
        "Что же для них выдаёт модель?"
      ]
    },
    {
      "cell_type": "code",
      "metadata": {
        "id": "THZEmRgqCpyg",
        "colab_type": "code",
        "colab": {}
      },
      "source": [
        "outputs = net(images)"
      ],
      "execution_count": null,
      "outputs": []
    },
    {
      "cell_type": "code",
      "metadata": {
        "id": "uytn68d3Cpyn",
        "colab_type": "code",
        "colab": {
          "base_uri": "https://localhost:8080/",
          "height": 34
        },
        "outputId": "ebdf2ade-786e-4b3b-8be7-cfaf05b689fd"
      },
      "source": [
        "_, predicted = torch.max(outputs, 1)\n",
        "\n",
        "print('Predicted: ', ' '.join(classes[label] for label in predicted))"
      ],
      "execution_count": null,
      "outputs": [
        {
          "output_type": "stream",
          "text": [
            "Predicted:  horse plane bird horse\n"
          ],
          "name": "stdout"
        }
      ]
    },
    {
      "cell_type": "markdown",
      "metadata": {
        "id": "uRmHPViiCpyq",
        "colab_type": "text"
      },
      "source": [
        "Вроде норм, что по качеству?"
      ]
    },
    {
      "cell_type": "code",
      "metadata": {
        "id": "QoPEjr_2Cpyq",
        "colab_type": "code",
        "colab": {
          "base_uri": "https://localhost:8080/",
          "height": 34
        },
        "outputId": "18877a79-0978-419c-ba90-7f8975199d33"
      },
      "source": [
        "correct = 0\n",
        "total = 0\n",
        "\n",
        "with torch.no_grad():\n",
        "    for data in testloader:\n",
        "        images, labels = data\n",
        "        outputs = net(images)\n",
        "        _, predicted = torch.max(outputs.data, 1)\n",
        "        total += labels.size(0)\n",
        "        correct += (predicted == labels).sum().item()\n",
        "\n",
        "print('Accuracy: ' + str(100 * correct / total))"
      ],
      "execution_count": null,
      "outputs": [
        {
          "output_type": "stream",
          "text": [
            "Accuracy: 56.83\n"
          ],
          "name": "stdout"
        }
      ]
    },
    {
      "cell_type": "markdown",
      "metadata": {
        "id": "hxRmu14_Cpyv",
        "colab_type": "text"
      },
      "source": [
        "Очень неплохая точность! Но можно лучше ;) Как вы думаете, кому это предстоит продемонстрировать?"
      ]
    },
    {
      "cell_type": "markdown",
      "metadata": {
        "id": "Tq_tdPQ7Cpyx",
        "colab_type": "text"
      },
      "source": [
        "**Задача 1 (1.5 балла).** Докажите, что можно лучше! Добейтесь 70+% качества."
      ]
    },
    {
      "cell_type": "code",
      "metadata": {
        "id": "BeKu746vCpyy",
        "colab_type": "code",
        "colab": {}
      },
      "source": [
        "class BetterNet(nn.Module):\n",
        "    def __init__(self):\n",
        "        super(BetterNet, self).__init__()\n",
        "        self.conv1 = nn.Conv2d(3,   64,  3)\n",
        "        self.conv2 = nn.Conv2d(64,  128, 3)\n",
        "        self.conv3 = nn.Conv2d(128, 256, 3)\n",
        "\n",
        "        self.pool1 = nn.MaxPool2d(2, 2)\n",
        "\n",
        "        self.fc1 = nn.Linear(64 * 4 * 4, 128)\n",
        "        self.fc2 = nn.Linear(128, 256)\n",
        "        self.fc3 = nn.Linear(256, 10)\n",
        "\n",
        "    def forward(self, x):\n",
        "        x = self.conv1(x)\n",
        "        x = F.relu(x)\n",
        "        x = self.pool1(x)\n",
        "\n",
        "        x = self.conv2(x)\n",
        "        x = F.relu(x)\n",
        "        x = self.pool1(x)\n",
        "\n",
        "        x = self.conv3(x)\n",
        "        x = F.relu(x)\n",
        "        x = self.pool1(x)\n",
        "\n",
        "        x = x.view(-1, 64 * 4 * 4)\n",
        "\n",
        "        x = self.fc1(x)\n",
        "        x = F.relu(x)\n",
        "\n",
        "        x = self.fc2(x)\n",
        "        x = F.relu(x)\n",
        "\n",
        "        x = self.fc3(x)\n",
        "\n",
        "        return x"
      ],
      "execution_count": null,
      "outputs": []
    },
    {
      "cell_type": "code",
      "metadata": {
        "id": "MaADUTLhLAPW",
        "colab_type": "code",
        "colab": {}
      },
      "source": [
        "number_epochs = 10\n",
        "learning_rate = 1e-3\n",
        "momentum = 0.9"
      ],
      "execution_count": null,
      "outputs": []
    },
    {
      "cell_type": "code",
      "metadata": {
        "id": "vxSRlxk6Olue",
        "colab_type": "code",
        "colab": {
          "base_uri": "https://localhost:8080/",
          "height": 173
        },
        "outputId": "3865c495-c021-473d-baa7-3b370656cb85"
      },
      "source": [
        "better_cnn  = BetterNet()\n",
        "better_cnn"
      ],
      "execution_count": null,
      "outputs": [
        {
          "output_type": "execute_result",
          "data": {
            "text/plain": [
              "BetterNet(\n",
              "  (conv1): Conv2d(3, 64, kernel_size=(3, 3), stride=(1, 1))\n",
              "  (conv2): Conv2d(64, 128, kernel_size=(3, 3), stride=(1, 1))\n",
              "  (conv3): Conv2d(128, 256, kernel_size=(3, 3), stride=(1, 1))\n",
              "  (pool1): MaxPool2d(kernel_size=2, stride=2, padding=0, dilation=1, ceil_mode=False)\n",
              "  (fc1): Linear(in_features=1024, out_features=128, bias=True)\n",
              "  (fc2): Linear(in_features=128, out_features=256, bias=True)\n",
              "  (fc3): Linear(in_features=256, out_features=10, bias=True)\n",
              ")"
            ]
          },
          "metadata": {
            "tags": []
          },
          "execution_count": 44
        }
      ]
    },
    {
      "cell_type": "code",
      "metadata": {
        "id": "WKVJRCLoKzwA",
        "colab_type": "code",
        "colab": {}
      },
      "source": [
        "criterion = nn.CrossEntropyLoss()\n",
        "optimizer = optim.SGD(better_cnn.parameters(), lr=learning_rate, momentum=momentum)"
      ],
      "execution_count": null,
      "outputs": []
    },
    {
      "cell_type": "markdown",
      "metadata": {
        "id": "HWWpcTCJQhQm",
        "colab_type": "text"
      },
      "source": [
        "Trainig step for BetterNet"
      ]
    },
    {
      "cell_type": "code",
      "metadata": {
        "id": "jJuU7j7dMbGc",
        "colab_type": "code",
        "colab": {
          "base_uri": "https://localhost:8080/",
          "height": 1000
        },
        "outputId": "5711c5ab-697e-4f50-b0a1-7da79b74c231"
      },
      "source": [
        "import time\n",
        "\n",
        "for epoch in range(number_epochs):\n",
        "    running_loss = 0.0\n",
        "    start_time = time.time()\n",
        "    for i, data in enumerate(trainloader, 0):\n",
        "        inputs, labels = data\n",
        "\n",
        "        optimizer.zero_grad()\n",
        "\n",
        "        outputs = better_cnn(inputs)\n",
        "        loss = criterion(outputs, labels)\n",
        "        loss.backward()\n",
        "        optimizer.step()\n",
        "\n",
        "        running_loss += loss.item()\n",
        "        if i % 2000 == 1999:\n",
        "            print(f'Epoch {epoch+1}, picture {i+1:5d} - loss: {running_loss / 2000:.3f} - {time.time() - start_time:.3} seconds')\n",
        "            running_loss = 0.0\n",
        "            start_time = time.time()"
      ],
      "execution_count": null,
      "outputs": [
        {
          "output_type": "stream",
          "text": [
            "Epoch 1, picture  2000 - loss: 2.240 - 25.5 seconds\n",
            "Epoch 1, picture  4000 - loss: 1.874 - 25.9 seconds\n",
            "Epoch 1, picture  6000 - loss: 1.679 - 24.9 seconds\n",
            "Epoch 1, picture  8000 - loss: 1.549 - 25.4 seconds\n",
            "Epoch 1, picture 10000 - loss: 1.439 - 25.3 seconds\n",
            "Epoch 1, picture 12000 - loss: 1.348 - 24.9 seconds\n",
            "Epoch 2, picture  2000 - loss: 1.256 - 24.7 seconds\n",
            "Epoch 2, picture  4000 - loss: 1.195 - 24.6 seconds\n",
            "Epoch 2, picture  6000 - loss: 1.139 - 25.0 seconds\n",
            "Epoch 2, picture  8000 - loss: 1.109 - 25.0 seconds\n",
            "Epoch 2, picture 10000 - loss: 1.074 - 24.9 seconds\n",
            "Epoch 2, picture 12000 - loss: 1.033 - 24.8 seconds\n",
            "Epoch 3, picture  2000 - loss: 0.907 - 24.7 seconds\n",
            "Epoch 3, picture  4000 - loss: 0.898 - 24.3 seconds\n",
            "Epoch 3, picture  6000 - loss: 0.898 - 24.2 seconds\n",
            "Epoch 3, picture  8000 - loss: 0.872 - 23.9 seconds\n",
            "Epoch 3, picture 10000 - loss: 0.868 - 24.3 seconds\n",
            "Epoch 3, picture 12000 - loss: 0.856 - 24.0 seconds\n",
            "Epoch 4, picture  2000 - loss: 0.721 - 24.3 seconds\n",
            "Epoch 4, picture  4000 - loss: 0.727 - 24.4 seconds\n",
            "Epoch 4, picture  6000 - loss: 0.740 - 24.3 seconds\n",
            "Epoch 4, picture  8000 - loss: 0.733 - 23.4 seconds\n",
            "Epoch 4, picture 10000 - loss: 0.718 - 23.6 seconds\n",
            "Epoch 4, picture 12000 - loss: 0.719 - 23.8 seconds\n",
            "Epoch 5, picture  2000 - loss: 0.562 - 24.5 seconds\n",
            "Epoch 5, picture  4000 - loss: 0.610 - 24.3 seconds\n",
            "Epoch 5, picture  6000 - loss: 0.608 - 24.3 seconds\n",
            "Epoch 5, picture  8000 - loss: 0.605 - 24.3 seconds\n",
            "Epoch 5, picture 10000 - loss: 0.614 - 23.8 seconds\n",
            "Epoch 5, picture 12000 - loss: 0.609 - 24.0 seconds\n",
            "Epoch 6, picture  2000 - loss: 0.461 - 23.5 seconds\n",
            "Epoch 6, picture  4000 - loss: 0.493 - 23.4 seconds\n",
            "Epoch 6, picture  6000 - loss: 0.514 - 23.9 seconds\n",
            "Epoch 6, picture  8000 - loss: 0.504 - 23.4 seconds\n",
            "Epoch 6, picture 10000 - loss: 0.514 - 23.7 seconds\n",
            "Epoch 6, picture 12000 - loss: 0.522 - 24.6 seconds\n",
            "Epoch 7, picture  2000 - loss: 0.373 - 24.7 seconds\n",
            "Epoch 7, picture  4000 - loss: 0.389 - 24.1 seconds\n",
            "Epoch 7, picture  6000 - loss: 0.422 - 24.3 seconds\n",
            "Epoch 7, picture  8000 - loss: 0.431 - 24.6 seconds\n",
            "Epoch 7, picture 10000 - loss: 0.428 - 24.3 seconds\n",
            "Epoch 7, picture 12000 - loss: 0.444 - 24.2 seconds\n",
            "Epoch 8, picture  2000 - loss: 0.300 - 24.5 seconds\n",
            "Epoch 8, picture  4000 - loss: 0.320 - 24.0 seconds\n",
            "Epoch 8, picture  6000 - loss: 0.342 - 24.8 seconds\n",
            "Epoch 8, picture  8000 - loss: 0.371 - 25.1 seconds\n",
            "Epoch 8, picture 10000 - loss: 0.357 - 25.2 seconds\n",
            "Epoch 8, picture 12000 - loss: 0.372 - 25.2 seconds\n",
            "Epoch 9, picture  2000 - loss: 0.215 - 25.4 seconds\n",
            "Epoch 9, picture  4000 - loss: 0.274 - 24.9 seconds\n",
            "Epoch 9, picture  6000 - loss: 0.279 - 24.7 seconds\n",
            "Epoch 9, picture  8000 - loss: 0.295 - 25.2 seconds\n",
            "Epoch 9, picture 10000 - loss: 0.298 - 24.8 seconds\n",
            "Epoch 9, picture 12000 - loss: 0.322 - 24.8 seconds\n",
            "Epoch 10, picture  2000 - loss: 0.200 - 25.3 seconds\n",
            "Epoch 10, picture  4000 - loss: 0.219 - 25.0 seconds\n",
            "Epoch 10, picture  6000 - loss: 0.242 - 25.1 seconds\n",
            "Epoch 10, picture  8000 - loss: 0.237 - 25.0 seconds\n",
            "Epoch 10, picture 10000 - loss: 0.252 - 25.0 seconds\n",
            "Epoch 10, picture 12000 - loss: 0.272 - 24.9 seconds\n"
          ],
          "name": "stdout"
        }
      ]
    },
    {
      "cell_type": "markdown",
      "metadata": {
        "id": "Tyu8hOtxQl4W",
        "colab_type": "text"
      },
      "source": [
        "Evaluating step for better net"
      ]
    },
    {
      "cell_type": "code",
      "metadata": {
        "id": "_19LhpnUNymT",
        "colab_type": "code",
        "colab": {
          "base_uri": "https://localhost:8080/",
          "height": 34
        },
        "outputId": "a9113434-c798-429e-aaf7-5525a6eb2f0d"
      },
      "source": [
        "correct = 0\n",
        "total = 0\n",
        "\n",
        "with torch.no_grad():\n",
        "    for data in testloader:\n",
        "        images, labels = data\n",
        "        outputs = better_cnn(images)\n",
        "        _, predicted = torch.max(outputs.data, 1)\n",
        "        total += labels.size(0)\n",
        "        correct += (predicted == labels).sum().item()\n",
        "\n",
        "print('Accuracy: ' + str(100 * correct / total))"
      ],
      "execution_count": null,
      "outputs": [
        {
          "output_type": "stream",
          "text": [
            "Accuracy: 74.86\n"
          ],
          "name": "stdout"
        }
      ]
    },
    {
      "cell_type": "markdown",
      "metadata": {
        "id": "owS1B3uXTV3U",
        "colab_type": "text"
      },
      "source": [
        "https://i.pinimg.com/originals/eb/ae/f4/ebaef44cca839e08eedebb2f5f80ea13.jpg"
      ]
    },
    {
      "cell_type": "markdown",
      "metadata": {
        "id": "uRsUyfhzCpy2",
        "colab_type": "text"
      },
      "source": [
        "### Советы про свёрточные сети"
      ]
    },
    {
      "cell_type": "markdown",
      "metadata": {
        "id": "rleM7pCACpy3",
        "colab_type": "text"
      },
      "source": [
        "1. Не делайте чрезмерно много фильтров в самом начале"
      ]
    },
    {
      "cell_type": "markdown",
      "metadata": {
        "id": "jRHxvI6SCpy3",
        "colab_type": "text"
      },
      "source": [
        "2. Обычно чем более глубокий слой, тем больше вы свёрток хотите"
      ]
    },
    {
      "cell_type": "markdown",
      "metadata": {
        "id": "ZeNGJEvoCpy5",
        "colab_type": "text"
      },
      "source": [
        "Понять эти два совета нам поможет картинка про receptive field:"
      ]
    },
    {
      "cell_type": "markdown",
      "metadata": {
        "id": "qfgXuspyCpy6",
        "colab_type": "text"
      },
      "source": [
        "<img src=\"https://www.mdpi.com/remotesensing/remotesensing-09-00480/article_deploy/html/images/remotesensing-09-00480-g004.png\" alt=\"drawing\" width=\"500\"/>"
      ]
    },
    {
      "cell_type": "markdown",
      "metadata": {
        "id": "aHPAbDJ6Cpy6",
        "colab_type": "text"
      },
      "source": [
        "3. Одну свёртку 5x5 можно заменить на 2 свёртки 3x3"
      ]
    },
    {
      "cell_type": "markdown",
      "metadata": {
        "id": "bTCgLFgOCpy7",
        "colab_type": "text"
      },
      "source": [
        "![](https://images.ctfassets.net/be04ylp8y0qc/2mdl25WmZWCHo7Y17Hl4jE/77ccc1a797ab15a486fc44403a3b9bdc/convolution.png?fm=jpg)"
      ]
    },
    {
      "cell_type": "markdown",
      "metadata": {
        "id": "MeZpOypzCpy8",
        "colab_type": "text"
      },
      "source": [
        "4. Следите за размером свёрток, которые вы применяете, и размером оставшейся картинки"
      ]
    },
    {
      "cell_type": "markdown",
      "metadata": {
        "id": "uKy44oQHCpy9",
        "colab_type": "text"
      },
      "source": [
        "## Рекуррентные нейронные сети"
      ]
    },
    {
      "cell_type": "markdown",
      "metadata": {
        "id": "d8MDpTjdCpy9",
        "colab_type": "text"
      },
      "source": [
        "Напоминание: что такое рекуррентная нейронная сеть?"
      ]
    },
    {
      "cell_type": "markdown",
      "metadata": {
        "id": "2cgkr9RjCpy-",
        "colab_type": "text"
      },
      "source": [
        "![](https://cdn-images-1.medium.com/max/1600/1*4KwIUHWL3sTyguTahIxmJw.png)"
      ]
    },
    {
      "cell_type": "markdown",
      "metadata": {
        "id": "AbiUntGVCpy_",
        "colab_type": "text"
      },
      "source": [
        "В PyTorch есть и модуль для работы с текстами - [torchtext](https://pytorch.org/text), но использовать мы его не будем."
      ]
    },
    {
      "cell_type": "markdown",
      "metadata": {
        "id": "48A5pOc4CpzA",
        "colab_type": "text"
      },
      "source": [
        "Да и вообще, успешные идеи реализуются в современных фреймворках довольно быстро. Среди слоёв нейронных сетей в PyTorch можно найти в том числе и [трансформеры](https://pytorch.org/docs/master/nn.html?highlight=nn%20transformer#torch.nn.Transformer)"
      ]
    },
    {
      "cell_type": "markdown",
      "metadata": {
        "id": "b0z600kACpzB",
        "colab_type": "text"
      },
      "source": [
        "### Данные"
      ]
    },
    {
      "cell_type": "markdown",
      "metadata": {
        "id": "zB31gsI3CpzC",
        "colab_type": "text"
      },
      "source": [
        "Одна из интересных особенностей рекуррентных сетей - это то, что они могут генерировать не одно число в качестве ответа, а целую последовательность чего-либо"
      ]
    },
    {
      "cell_type": "markdown",
      "metadata": {
        "id": "N3ar0sw9CpzD",
        "colab_type": "text"
      },
      "source": [
        "Поэтому мы и займёмся генерацией! К сожалению, в torchtext подходящих датасетов нет :("
      ]
    },
    {
      "cell_type": "markdown",
      "metadata": {
        "id": "-XRxrtoICpzD",
        "colab_type": "text"
      },
      "source": [
        "Качаем [данные](https://yadi.sk/i/U91Z9KAbUsE2OQ) и кладём их в папку с ноутбуком"
      ]
    },
    {
      "cell_type": "markdown",
      "metadata": {
        "id": "XjdX1ZXiCpzE",
        "colab_type": "text"
      },
      "source": [
        "Собственно, данные представляют из себя русские фамилии, записанные латиницей. На основе одних фамилий, хотим генерировать новые :)"
      ]
    },
    {
      "cell_type": "markdown",
      "metadata": {
        "id": "klToRBBhCpzF",
        "colab_type": "text"
      },
      "source": [
        "Давайте загрузим и посмотрим на парочку из них:"
      ]
    },
    {
      "cell_type": "code",
      "metadata": {
        "id": "A1Vfz1LLCpzF",
        "colab_type": "code",
        "colab": {}
      },
      "source": [
        "names = []\n",
        "all_letters = 'abcdefghijklmnopqrstuvwxyzABCDEFGHIJKLMNOPQRSTUVWXYZ'\n",
        "n_letters = len(all_letters) + 1\n",
        "\n",
        "with open('Russian_names.txt') as f:\n",
        "    for line in f:\n",
        "        line = line.strip()\n",
        "        if all(l in all_letters for l in line):\n",
        "            names.append(line.strip())"
      ],
      "execution_count": null,
      "outputs": []
    },
    {
      "cell_type": "code",
      "metadata": {
        "id": "7BOpjeKTCpzK",
        "colab_type": "code",
        "colab": {
          "base_uri": "https://localhost:8080/",
          "height": 34
        },
        "outputId": "970d1ed6-42a0-4a76-a2bb-9c1cea33631d"
      },
      "source": [
        "print(names[:5])"
      ],
      "execution_count": null,
      "outputs": [
        {
          "output_type": "stream",
          "text": [
            "['Ababko', 'Abaev', 'Abagyan', 'Abaidulin', 'Abaidullin']\n"
          ],
          "name": "stdout"
        }
      ]
    },
    {
      "cell_type": "markdown",
      "metadata": {
        "id": "VWmgdeuWCpzN",
        "colab_type": "text"
      },
      "source": [
        "Какие-то они странноватые... Посмотрим, есть ли \"исконно русские\":"
      ]
    },
    {
      "cell_type": "code",
      "metadata": {
        "id": "V4bWwlaNCpzN",
        "colab_type": "code",
        "colab": {
          "base_uri": "https://localhost:8080/",
          "height": 69
        },
        "outputId": "ceb2d62b-1876-4320-e7a4-135adb68ab2c"
      },
      "source": [
        "print('Ivanov' in names)\n",
        "print('Petrov' in names)\n",
        "print('Sidorov' in names)"
      ],
      "execution_count": null,
      "outputs": [
        {
          "output_type": "stream",
          "text": [
            "True\n",
            "True\n",
            "False\n"
          ],
          "name": "stdout"
        }
      ]
    },
    {
      "cell_type": "markdown",
      "metadata": {
        "id": "GCqnrfx4CpzS",
        "colab_type": "text"
      },
      "source": [
        "Во, так лучше! Хоть и без Сидорова."
      ]
    },
    {
      "cell_type": "markdown",
      "metadata": {
        "id": "WZnSAkZICpzT",
        "colab_type": "text"
      },
      "source": [
        "Есть одна (далеко не одна) проблема: у нас тут слова, а PyTorch принимает тензоры. Да и вообще, непонятно: что будет обучающим примером, а что ответом?"
      ]
    },
    {
      "cell_type": "markdown",
      "metadata": {
        "id": "m8gaQpPLCpzU",
        "colab_type": "text"
      },
      "source": [
        "Картинка поможет разобраться!"
      ]
    },
    {
      "cell_type": "markdown",
      "metadata": {
        "id": "gk7p6FJjCpzV",
        "colab_type": "text"
      },
      "source": [
        "![](https://i.imgur.com/JH58tXY.png)"
      ]
    },
    {
      "cell_type": "markdown",
      "metadata": {
        "id": "FBVuWW8uCpzV",
        "colab_type": "text"
      },
      "source": [
        "Получается, что на вход даётся символ, и на выход получаем тоже символ. Но из одного слова получается прям пачка, давайте её и научимся переводить в тензор:"
      ]
    },
    {
      "cell_type": "code",
      "metadata": {
        "id": "AqJ-1-GlCpzW",
        "colab_type": "code",
        "colab": {}
      },
      "source": [
        "def inputTensor(line):\n",
        "    tensor = torch.zeros(len(line), 1, n_letters)\n",
        "    for i in range(len(line)):\n",
        "        letter = line[i]\n",
        "        tensor[i][0][all_letters.find(letter)] = 1\n",
        "    return tensor\n",
        "\n",
        "# LongTensor of second letter to end (EOS) for target\n",
        "def targetTensor(line):\n",
        "    letter_indexes = [all_letters.find(line[li]) for li in range(1, len(line))]\n",
        "    letter_indexes.append(n_letters - 1) # EOS\n",
        "    return torch.LongTensor(letter_indexes)"
      ],
      "execution_count": null,
      "outputs": []
    },
    {
      "cell_type": "markdown",
      "metadata": {
        "id": "i9BuBSBkCpzZ",
        "colab_type": "text"
      },
      "source": [
        "**Неочевидно**. Нашей сети когда-нибудь нужно остановиться. \"Пора остановиться\" - это тот самый +1 токен, прибавляемый к количеству всех букв."
      ]
    },
    {
      "cell_type": "markdown",
      "metadata": {
        "id": "HUlQXvT6Cpza",
        "colab_type": "text"
      },
      "source": [
        "**Неочевидно**. Мы будем использовать по сути мини-батч, построенный по одному слову. Если же мы хотим построить его по нескольким словам и бежать по сети то всё сложнее. Слова попадаются разной длинны, а прям сходу с этим непонятно как работать."
      ]
    },
    {
      "cell_type": "markdown",
      "metadata": {
        "id": "56a954GvCpza",
        "colab_type": "text"
      },
      "source": [
        "На помощь приходит дописывание к каждому слову символов вплоть до длинны самого длинного. Используются методы [torch.nn.utils.rnn.pack_padded_sequence](https://pytorch.org/docs/master/generated/torch.nn.utils.rnn.pack_padded_sequence.html) и [torch.nn.utils.rnn_pad_packed_sequence](https://pytorch.org/docs/master/generated/torch.nn.utils.rnn.pad_packed_sequence.html)"
      ]
    },
    {
      "cell_type": "markdown",
      "metadata": {
        "id": "gDqR05vsCpzb",
        "colab_type": "text"
      },
      "source": [
        "**Неочевидно**. В качестве входа нам \"по-любому\" нужен тензор, который мы можем умножать смело. В данном случае - one-hot-encoding. На выходе же для подсчёта потерь нам достаточно и просто номера буквы, в one-hot переводить не обязательно."
      ]
    },
    {
      "cell_type": "markdown",
      "metadata": {
        "id": "JPcs_6PqCpzb",
        "colab_type": "text"
      },
      "source": [
        "### Архитектура сети"
      ]
    },
    {
      "cell_type": "code",
      "metadata": {
        "id": "hdOodPrkCpzb",
        "colab_type": "code",
        "colab": {}
      },
      "source": [
        "import torch\n",
        "import torch.nn as nn"
      ],
      "execution_count": null,
      "outputs": []
    },
    {
      "cell_type": "code",
      "metadata": {
        "id": "m8pPxcbcCpze",
        "colab_type": "code",
        "colab": {}
      },
      "source": [
        "class RNN(nn.Module):\n",
        "    def __init__(self, input_size, hidden_size, output_size):\n",
        "        super(RNN, self).__init__()\n",
        "        self.hidden_size = hidden_size\n",
        "\n",
        "        self.i2h = nn.Linear(input_size + hidden_size, hidden_size)\n",
        "        self.i2o = nn.Linear(input_size + hidden_size, output_size)\n",
        "        self.o2o = nn.Linear(hidden_size + output_size, output_size)\n",
        "        self.dropout = nn.Dropout(0.1)\n",
        "        self.softmax = nn.LogSoftmax(dim=1)\n",
        "\n",
        "    def forward(self, input, hidden):\n",
        "        input_combined = torch.cat((input, hidden), 1)\n",
        "        hidden = self.i2h(input_combined)\n",
        "        output = self.i2o(input_combined)\n",
        "        output_combined = torch.cat((hidden, output), 1)\n",
        "        output = self.o2o(output_combined)\n",
        "        output = self.dropout(output)\n",
        "        output = self.softmax(output)\n",
        "        return output, hidden\n",
        "\n",
        "    def initHidden(self):\n",
        "        return torch.zeros(1, self.hidden_size)"
      ],
      "execution_count": null,
      "outputs": []
    },
    {
      "cell_type": "markdown",
      "metadata": {
        "id": "s5gjg6eECpzi",
        "colab_type": "text"
      },
      "source": [
        "![](https://i.ibb.co/4NMJ8Hx/Screenshot-from-2020-09-21-20-04-54.png)"
      ]
    },
    {
      "cell_type": "code",
      "metadata": {
        "id": "B4DT3VOMCpzi",
        "colab_type": "code",
        "colab": {
          "base_uri": "https://localhost:8080/",
          "height": 139
        },
        "outputId": "29362875-b49a-4735-ac39-f9b82178978c"
      },
      "source": [
        "rnn = RNN(n_letters, 128, n_letters)\n",
        "rnn"
      ],
      "execution_count": null,
      "outputs": [
        {
          "output_type": "execute_result",
          "data": {
            "text/plain": [
              "RNN(\n",
              "  (i2h): Linear(in_features=181, out_features=128, bias=True)\n",
              "  (i2o): Linear(in_features=181, out_features=53, bias=True)\n",
              "  (o2o): Linear(in_features=181, out_features=53, bias=True)\n",
              "  (dropout): Dropout(p=0.1, inplace=False)\n",
              "  (softmax): LogSoftmax(dim=1)\n",
              ")"
            ]
          },
          "metadata": {
            "tags": []
          },
          "execution_count": 144
        }
      ]
    },
    {
      "cell_type": "markdown",
      "metadata": {
        "id": "MHP7V9PYCpzo",
        "colab_type": "text"
      },
      "source": [
        "### Обучение сети"
      ]
    },
    {
      "cell_type": "markdown",
      "metadata": {
        "id": "W1lxqH_VCpzp",
        "colab_type": "text"
      },
      "source": [
        "Тут воспользуемся аналогом кросс-энтропии: negative log likelihood. Суть то же самое, но в данной ситуации на последнем слое нам понадобится softmax."
      ]
    },
    {
      "cell_type": "code",
      "metadata": {
        "id": "5XRyfzWhCpzq",
        "colab_type": "code",
        "colab": {}
      },
      "source": [
        "criterion = nn.NLLLoss()\n",
        "learning_rate = 0.0005"
      ],
      "execution_count": null,
      "outputs": []
    },
    {
      "cell_type": "markdown",
      "metadata": {
        "id": "Htt2L5s6Cpzs",
        "colab_type": "text"
      },
      "source": [
        "Также напишем одну итерацию обучения:"
      ]
    },
    {
      "cell_type": "code",
      "metadata": {
        "id": "L__ismIzCpzu",
        "colab_type": "code",
        "colab": {}
      },
      "source": [
        "def train(input_line_tensor, target_line_tensor):\n",
        "    target_line_tensor.unsqueeze_(-1)\n",
        "    hidden = rnn.initHidden()\n",
        "\n",
        "    rnn.zero_grad()\n",
        "\n",
        "    loss = 0\n",
        "\n",
        "    for i in range(input_line_tensor.size(0)):\n",
        "        output, hidden = rnn(input_line_tensor[i], hidden)\n",
        "        l = criterion(output, target_line_tensor[i])\n",
        "        loss += l\n",
        "\n",
        "    loss.backward()\n",
        "\n",
        "    for p in rnn.parameters():\n",
        "        p.data.add_(p.grad.data, alpha=-learning_rate)\n",
        "\n",
        "    return output, loss.item() / input_line_tensor.size(0)"
      ],
      "execution_count": null,
      "outputs": []
    },
    {
      "cell_type": "markdown",
      "metadata": {
        "id": "Wm6g7ooECpzy",
        "colab_type": "text"
      },
      "source": [
        "И погнали!"
      ]
    },
    {
      "cell_type": "code",
      "metadata": {
        "id": "hcovghccCpzy",
        "colab_type": "code",
        "colab": {
          "base_uri": "https://localhost:8080/",
          "height": 1000
        },
        "outputId": "a80363bb-b60a-4e09-ab03-bd36792643fc"
      },
      "source": [
        "n_iters = 50\n",
        "running_loss = 0.0\n",
        "\n",
        "for epoch in range(1, n_iters + 1):\n",
        "    for i in range(len(names)):\n",
        "        name = names[i]\n",
        "        input_tensor = inputTensor(name)\n",
        "        target_tensor = targetTensor(name)\n",
        "        output, loss = train(input_tensor, target_tensor)\n",
        "        \n",
        "        running_loss += loss\n",
        "        if i % 4500 == 4499:\n",
        "            print(f'Epoch: {epoch + 1} -  loss: {running_loss / 1000:.3f}')\n",
        "            running_loss = 0.0"
      ],
      "execution_count": null,
      "outputs": [
        {
          "output_type": "stream",
          "text": [
            "Epoch: 2 -  loss: 9.226\n",
            "Epoch: 2 -  loss: 9.329\n",
            "Epoch: 3 -  loss: 9.851\n",
            "Epoch: 3 -  loss: 9.243\n",
            "Epoch: 4 -  loss: 9.800\n",
            "Epoch: 4 -  loss: 9.207\n",
            "Epoch: 5 -  loss: 9.750\n",
            "Epoch: 5 -  loss: 9.151\n",
            "Epoch: 6 -  loss: 9.720\n",
            "Epoch: 6 -  loss: 9.138\n",
            "Epoch: 7 -  loss: 9.725\n",
            "Epoch: 7 -  loss: 9.098\n",
            "Epoch: 8 -  loss: 9.675\n",
            "Epoch: 8 -  loss: 9.071\n",
            "Epoch: 9 -  loss: 9.641\n",
            "Epoch: 9 -  loss: 9.067\n",
            "Epoch: 10 -  loss: 9.631\n",
            "Epoch: 10 -  loss: 9.021\n",
            "Epoch: 11 -  loss: 9.605\n",
            "Epoch: 11 -  loss: 9.004\n",
            "Epoch: 12 -  loss: 9.591\n",
            "Epoch: 12 -  loss: 9.004\n",
            "Epoch: 13 -  loss: 9.596\n",
            "Epoch: 13 -  loss: 9.007\n",
            "Epoch: 14 -  loss: 9.555\n",
            "Epoch: 14 -  loss: 8.990\n",
            "Epoch: 15 -  loss: 9.549\n",
            "Epoch: 15 -  loss: 8.951\n",
            "Epoch: 16 -  loss: 9.522\n",
            "Epoch: 16 -  loss: 8.925\n",
            "Epoch: 17 -  loss: 9.572\n",
            "Epoch: 17 -  loss: 8.926\n",
            "Epoch: 18 -  loss: 9.505\n",
            "Epoch: 18 -  loss: 8.936\n",
            "Epoch: 19 -  loss: 9.524\n",
            "Epoch: 19 -  loss: 8.911\n",
            "Epoch: 20 -  loss: 9.519\n",
            "Epoch: 20 -  loss: 8.934\n",
            "Epoch: 21 -  loss: 9.501\n",
            "Epoch: 21 -  loss: 8.908\n",
            "Epoch: 22 -  loss: 9.490\n",
            "Epoch: 22 -  loss: 8.881\n",
            "Epoch: 23 -  loss: 9.488\n",
            "Epoch: 23 -  loss: 8.867\n",
            "Epoch: 24 -  loss: 9.490\n",
            "Epoch: 24 -  loss: 8.864\n",
            "Epoch: 25 -  loss: 9.457\n",
            "Epoch: 25 -  loss: 8.882\n",
            "Epoch: 26 -  loss: 9.480\n",
            "Epoch: 26 -  loss: 8.854\n",
            "Epoch: 27 -  loss: 9.465\n",
            "Epoch: 27 -  loss: 8.868\n",
            "Epoch: 28 -  loss: 9.449\n",
            "Epoch: 28 -  loss: 8.865\n",
            "Epoch: 29 -  loss: 9.445\n",
            "Epoch: 29 -  loss: 8.809\n",
            "Epoch: 30 -  loss: 9.427\n",
            "Epoch: 30 -  loss: 8.831\n",
            "Epoch: 31 -  loss: 9.420\n",
            "Epoch: 31 -  loss: 8.829\n",
            "Epoch: 32 -  loss: 9.426\n",
            "Epoch: 32 -  loss: 8.857\n",
            "Epoch: 33 -  loss: 9.438\n",
            "Epoch: 33 -  loss: 8.848\n",
            "Epoch: 34 -  loss: 9.420\n",
            "Epoch: 34 -  loss: 8.799\n",
            "Epoch: 35 -  loss: 9.399\n",
            "Epoch: 35 -  loss: 8.843\n",
            "Epoch: 36 -  loss: 9.434\n",
            "Epoch: 36 -  loss: 8.848\n",
            "Epoch: 37 -  loss: 9.418\n",
            "Epoch: 37 -  loss: 8.833\n",
            "Epoch: 38 -  loss: 9.409\n",
            "Epoch: 38 -  loss: 8.787\n",
            "Epoch: 39 -  loss: 9.382\n",
            "Epoch: 39 -  loss: 8.789\n",
            "Epoch: 40 -  loss: 9.369\n",
            "Epoch: 40 -  loss: 8.826\n",
            "Epoch: 41 -  loss: 9.390\n",
            "Epoch: 41 -  loss: 8.762\n",
            "Epoch: 42 -  loss: 9.398\n",
            "Epoch: 42 -  loss: 8.798\n",
            "Epoch: 43 -  loss: 9.382\n",
            "Epoch: 43 -  loss: 8.836\n",
            "Epoch: 44 -  loss: 9.377\n",
            "Epoch: 44 -  loss: 8.767\n",
            "Epoch: 45 -  loss: 9.382\n",
            "Epoch: 45 -  loss: 8.805\n",
            "Epoch: 46 -  loss: 9.394\n",
            "Epoch: 46 -  loss: 8.757\n",
            "Epoch: 47 -  loss: 9.386\n",
            "Epoch: 47 -  loss: 8.749\n",
            "Epoch: 48 -  loss: 9.370\n",
            "Epoch: 48 -  loss: 8.791\n",
            "Epoch: 49 -  loss: 9.364\n",
            "Epoch: 49 -  loss: 8.760\n",
            "Epoch: 50 -  loss: 9.380\n",
            "Epoch: 50 -  loss: 8.799\n",
            "Epoch: 51 -  loss: 9.361\n",
            "Epoch: 51 -  loss: 8.771\n"
          ],
          "name": "stdout"
        }
      ]
    },
    {
      "cell_type": "markdown",
      "metadata": {
        "id": "qvj7DBrACpz2",
        "colab_type": "text"
      },
      "source": [
        "**Задание 2 (1 балл)**. Напишите функцию генерации слов на основе обученной модели. Она должна принимать на вход модель и букву, с которой начинать генерацию. Обучите модель подольше и проверьте её на нескольких начальных буквах!"
      ]
    },
    {
      "cell_type": "code",
      "metadata": {
        "id": "chTbqcESCpz3",
        "colab_type": "code",
        "colab": {}
      },
      "source": [
        "def surname_generation(model, letter='A', batch_size=1):\n",
        "  assert len(letter) == 1, 'Should be one letter'\n",
        "\n",
        "  input = inputTensor(letter)[0]\n",
        "  hidden = model.initHidden(batch_size)\n",
        "\n",
        "  output, hidden = model(input, hidden)\n",
        "\n",
        "  pred_surname = letter\n",
        "  idx = torch.argmax(output)\n",
        "\n",
        "  while idx != n_letters - 1:\n",
        "    idx = torch.argmax(output)\n",
        "    next_letter = all_letters[idx]\n",
        "    pred_surname += next_letter\n",
        "\n",
        "    input = inputTensor(next_letter)[0]\n",
        "    output, hidden = model(input, hidden)\n",
        "    idx = torch.argmax(output)\n",
        "\n",
        "  return pred_surname"
      ],
      "execution_count": 95,
      "outputs": []
    },
    {
      "cell_type": "code",
      "metadata": {
        "id": "A28fper9Yis0",
        "colab_type": "code",
        "colab": {
          "base_uri": "https://localhost:8080/",
          "height": 69
        },
        "outputId": "9755ff06-fa7a-430e-e4d8-0d4505edb03f"
      },
      "source": [
        "for i in range(3):\n",
        "  print(surname_generation(rnn, 'A')) "
      ],
      "execution_count": null,
      "outputs": [
        {
          "output_type": "stream",
          "text": [
            "Averin\n",
            "Awerichenki\n",
            "Awelinovik\n"
          ],
          "name": "stdout"
        }
      ]
    },
    {
      "cell_type": "code",
      "metadata": {
        "id": "I6w8kRGrbu7L",
        "colab_type": "code",
        "colab": {
          "base_uri": "https://localhost:8080/",
          "height": 69
        },
        "outputId": "20aef665-128b-485c-8466-e5bd5b154ae2"
      },
      "source": [
        "for i in range(3):\n",
        "  print(surname_generation(rnn, 'M'))"
      ],
      "execution_count": null,
      "outputs": [
        {
          "output_type": "stream",
          "text": [
            "Muzhin\n",
            "Muzhalovich\n",
            "Muzhin\n"
          ],
          "name": "stdout"
        }
      ]
    },
    {
      "cell_type": "code",
      "metadata": {
        "id": "AEmiRtt_bzRr",
        "colab_type": "code",
        "colab": {
          "base_uri": "https://localhost:8080/",
          "height": 69
        },
        "outputId": "44e871ad-6598-4744-a6d5-2e48f9702840"
      },
      "source": [
        "for i in range(3):\n",
        "  print(surname_generation(rnn, 'O'))"
      ],
      "execution_count": null,
      "outputs": [
        {
          "output_type": "stream",
          "text": [
            "Onin\n",
            "Onishevich\n",
            "Oterinov\n"
          ],
          "name": "stdout"
        }
      ]
    },
    {
      "cell_type": "code",
      "metadata": {
        "id": "fMZL_SaOb3gb",
        "colab_type": "code",
        "colab": {
          "base_uri": "https://localhost:8080/",
          "height": 69
        },
        "outputId": "eeeb345f-ea7e-4318-e7c2-ca633578b155"
      },
      "source": [
        "for i in range(3):\n",
        "  print(surname_generation(rnn, 'B'))"
      ],
      "execution_count": null,
      "outputs": [
        {
          "output_type": "stream",
          "text": [
            "Belinov\n",
            "Beletsovic\n",
            "Beltov\n"
          ],
          "name": "stdout"
        }
      ]
    },
    {
      "cell_type": "code",
      "metadata": {
        "id": "e61Ftsoxb6b3",
        "colab_type": "code",
        "colab": {
          "base_uri": "https://localhost:8080/",
          "height": 69
        },
        "outputId": "3abc2052-a645-45a3-aa6e-a35d4a495762"
      },
      "source": [
        "for i in range(3):\n",
        "  print(surname_generation(rnn, 'I'))"
      ],
      "execution_count": null,
      "outputs": [
        {
          "output_type": "stream",
          "text": [
            "Iskin\n",
            "Ilatsky\n",
            "Iserin\n"
          ],
          "name": "stdout"
        }
      ]
    },
    {
      "cell_type": "code",
      "metadata": {
        "id": "2wfPa5ZdciW8",
        "colab_type": "code",
        "colab": {
          "base_uri": "https://localhost:8080/",
          "height": 69
        },
        "outputId": "5401d740-339a-408c-d53c-1da181edc416"
      },
      "source": [
        "for i in range(3):\n",
        "  print(surname_generation(rnn, 'R'))"
      ],
      "execution_count": null,
      "outputs": [
        {
          "output_type": "stream",
          "text": [
            "Ruzhanin\n",
            "Ruzev\n",
            "Ruzhankov\n"
          ],
          "name": "stdout"
        }
      ]
    },
    {
      "cell_type": "markdown",
      "metadata": {
        "id": "L9UVcCT_Cpz7",
        "colab_type": "text"
      },
      "source": [
        "**Задание 3 (0.5 балла)**. На самом деле в PyTorch есть встроенный модуль [RNN](https://pytorch.org/docs/stable/generated/torch.nn.RNN.html). Заиспользуйте его для этой задачи вместо самописного умножения на матрицы. Также воспользуйтесь каким-нибудь встроенным оптимизатором вместо самописного градиентного спуска."
      ]
    },
    {
      "cell_type": "code",
      "metadata": {
        "id": "iit7b4oCCpz7",
        "colab_type": "code",
        "colab": {}
      },
      "source": [
        "class BetterRNN(nn.Module):\n",
        "    def __init__(self, input_size, hidden_size):\n",
        "        super(BetterRNN, self).__init__()\n",
        "        self.hidden_size = hidden_size\n",
        "\n",
        "        self.rnn = nn.RNN(input_size, hidden_size, batch_first=True)\n",
        "        self.dropout = nn.Dropout(0.1)\n",
        "        self.softmax = nn.LogSoftmax(dim=1)\n",
        "\n",
        "    def forward(self, input, hidden):\n",
        "        output, hidden = self.rnn(input, hidden)\n",
        "        output = self.dropout(output)\n",
        "        output = self.softmax(output)\n",
        "        return output, hidden\n",
        "\n",
        "    def initHidden(self, batch_size):\n",
        "        hidden = torch.zeros(1, batch_size, self.hidden_size)\n",
        "        return hidden"
      ],
      "execution_count": 77,
      "outputs": []
    },
    {
      "cell_type": "code",
      "metadata": {
        "id": "7lBxUjo7hyiq",
        "colab_type": "code",
        "colab": {
          "base_uri": "https://localhost:8080/",
          "height": 104
        },
        "outputId": "fcc39d04-5ad7-4fbd-c55e-223f6f35b208"
      },
      "source": [
        "better_rnn = BetterRNN(n_letters, n_letters)\n",
        "better_rnn"
      ],
      "execution_count": 78,
      "outputs": [
        {
          "output_type": "execute_result",
          "data": {
            "text/plain": [
              "BetterRNN(\n",
              "  (rnn): RNN(53, 53, batch_first=True)\n",
              "  (dropout): Dropout(p=0.1, inplace=False)\n",
              "  (softmax): LogSoftmax(dim=1)\n",
              ")"
            ]
          },
          "metadata": {
            "tags": []
          },
          "execution_count": 78
        }
      ]
    },
    {
      "cell_type": "code",
      "metadata": {
        "id": "P0UGe0U8hQaM",
        "colab_type": "code",
        "colab": {}
      },
      "source": [
        "n_epochs = 10\n",
        "batch_size = 256\n",
        "learning_rate = 0.0005\n",
        "momentum = 0.9"
      ],
      "execution_count": 89,
      "outputs": []
    },
    {
      "cell_type": "code",
      "metadata": {
        "id": "wmGl5Y7Og33Y",
        "colab_type": "code",
        "colab": {}
      },
      "source": [
        "from torch import optim\n",
        "\n",
        "criterion = nn.NLLLoss()\n",
        "optimizer = optim.SGD(better_rnn.parameters(), lr=learning_rate, momentum=momentum)"
      ],
      "execution_count": 90,
      "outputs": []
    },
    {
      "cell_type": "code",
      "metadata": {
        "id": "pYg4smh1hZh5",
        "colab_type": "code",
        "colab": {
          "base_uri": "https://localhost:8080/",
          "height": 399
        },
        "outputId": "a719ea3e-ebc0-482a-e6ef-c86c7a6cdb3a"
      },
      "source": [
        "import time\n",
        "\n",
        "for epoch in range(n_epochs + 1):\n",
        "  for i in range(len(names) //  batch_size + 1):\n",
        "    running_loss = 0.0\n",
        "    start_time = time.time()\n",
        "    \n",
        "    # name = names[i]\n",
        "    # input_tensor = inputTensor(name)\n",
        "    # target_tensor = targetTensor(name)\n",
        "\n",
        "    hidden = better_rnn.initHidden(input_tensor.size(0))\n",
        "    optimizer.zero_grad()\n",
        "    \n",
        "    output, hidden = better_rnn(input_tensor, hidden)\n",
        "    output = output.squeeze()\n",
        "    \n",
        "    loss = criterion(output, target_tensor)\n",
        "    loss.backward()\n",
        "    optimizer.step()\n",
        "    \n",
        "    running_loss += loss\n",
        "    if i % 2 == 0:\n",
        "      print(f'Epoch: {epoch} -  loss: {running_loss / 1000:.6f} - {time.time() - start_time:.3} seconds')\n",
        "      running_loss = 0.0\n",
        "      start_time = time.time()"
      ],
      "execution_count": 91,
      "outputs": [
        {
          "output_type": "stream",
          "text": [
            "Epoch: 0 -  loss: 0.000000 - 0.000626 seconds\n",
            "Epoch: 0 -  loss: 0.000000 - 0.000625 seconds\n",
            "Epoch: 1 -  loss: 0.000000 - 0.000569 seconds\n",
            "Epoch: 1 -  loss: 0.000000 - 0.000611 seconds\n",
            "Epoch: 2 -  loss: 0.000000 - 0.000593 seconds\n",
            "Epoch: 2 -  loss: 0.000000 - 0.000589 seconds\n",
            "Epoch: 3 -  loss: 0.000000 - 0.0006 seconds\n",
            "Epoch: 3 -  loss: 0.000000 - 0.000611 seconds\n",
            "Epoch: 4 -  loss: 0.000000 - 0.000575 seconds\n",
            "Epoch: 4 -  loss: 0.000000 - 0.000617 seconds\n",
            "Epoch: 5 -  loss: 0.000000 - 0.000575 seconds\n",
            "Epoch: 5 -  loss: 0.000000 - 0.000628 seconds\n",
            "Epoch: 6 -  loss: 0.000000 - 0.000616 seconds\n",
            "Epoch: 6 -  loss: 0.000000 - 0.000593 seconds\n",
            "Epoch: 7 -  loss: 0.000000 - 0.000756 seconds\n",
            "Epoch: 7 -  loss: 0.000000 - 0.000601 seconds\n",
            "Epoch: 8 -  loss: 0.000000 - 0.000599 seconds\n",
            "Epoch: 8 -  loss: 0.000000 - 0.000619 seconds\n",
            "Epoch: 9 -  loss: 0.000000 - 0.000813 seconds\n",
            "Epoch: 9 -  loss: 0.000000 - 0.000596 seconds\n",
            "Epoch: 10 -  loss: 0.000000 - 0.000606 seconds\n",
            "Epoch: 10 -  loss: 0.000000 - 0.000626 seconds\n"
          ],
          "name": "stdout"
        }
      ]
    }
  ]
}